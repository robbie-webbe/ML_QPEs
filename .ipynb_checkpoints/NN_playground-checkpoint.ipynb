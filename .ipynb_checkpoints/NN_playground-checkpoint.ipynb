{
 "cells": [
  {
   "cell_type": "code",
   "execution_count": 1,
   "id": "35f30682",
   "metadata": {},
   "outputs": [],
   "source": [
    "import numpy as np\n",
    "import pandas as pd\n",
    "import tensorflow as tf\n",
    "from tensorflow import keras\n",
    "from tensorflow.keras import layers\n",
    "import keras_tuner as kt\n",
    "from random import sample, shuffle\n",
    "\n",
    "train_val_data = np.loadtxt('/Users/do19150/Gits/ML_QPE/Features/train_val_data.csv',delimiter=',')\n",
    "simlc_test_data = np.loadtxt('/Users/do19150/Gits/ML_QPE/Features/simtest_data.csv',delimiter=',')\n",
    "reallc_test_data = pd.read_csv('/Users/do19150/Gits/ML_QPE/Features/realobs_test_data.csv',dtype='object')"
   ]
  },
  {
   "cell_type": "code",
   "execution_count": 2,
   "id": "f3d2045c",
   "metadata": {},
   "outputs": [
    {
     "name": "stdout",
     "output_type": "stream",
     "text": [
      "(90000, 15) (10000, 15)\n",
      "(69, 16) Index(['ObsID', 'STD/Mean', 'Prop > 1STD', 'Prop > 2STD', 'Prop > 3STD',\n",
      "       'Prop > 4STD', 'Prop > 5STD', 'Prop > 6STD', 'IQR/STD', 'Skew',\n",
      "       'Kurtosis', 'Rev CCF', '2nd ACF', 'CSSD', 'Von Neumann Ratio', 'QPE?'],\n",
      "      dtype='object')\n"
     ]
    }
   ],
   "source": [
    "print(train_val_data.shape,simlc_test_data.shape)\n",
    "print(reallc_test_data.shape,reallc_test_data.columns)"
   ]
  },
  {
   "cell_type": "code",
   "execution_count": 3,
   "id": "9b2582d1",
   "metadata": {
    "scrolled": false
   },
   "outputs": [],
   "source": [
    "#split the train/validation data 80%/20% into training and validation\n",
    "\n",
    "index_range = list(np.arange(len(train_val_data)))\n",
    "train_indices = sorted(sample(index_range,int(0.8*len(index_range))))\n",
    "valid_indices = index_range\n",
    "for i in train_indices:\n",
    "    valid_indices.remove(i)"
   ]
  },
  {
   "cell_type": "code",
   "execution_count": 4,
   "id": "94778286",
   "metadata": {},
   "outputs": [],
   "source": [
    "# print(len(train_indices),train_indices[0:20])\n",
    "# print(len(valid_indices),valid_indices[0:10])"
   ]
  },
  {
   "cell_type": "code",
   "execution_count": 5,
   "id": "85a5e1ef",
   "metadata": {},
   "outputs": [],
   "source": [
    "#create the feature sets\n",
    "training_data = train_val_data[train_indices]\n",
    "valid_data = train_val_data[valid_indices]"
   ]
  },
  {
   "cell_type": "code",
   "execution_count": 6,
   "id": "8f442c0e",
   "metadata": {},
   "outputs": [],
   "source": [
    "#separate the training and validaiton features and labels\n",
    "\n",
    "input_data = []\n",
    "input_labels = []\n",
    "for i in range(len(training_data)):\n",
    "    input_data.append(list(training_data[i][0:14]))\n",
    "    input_labels.append([training_data[i][14]])\n",
    "    \n",
    "check_data = []\n",
    "check_labels = []\n",
    "for i in range(len(valid_data)):\n",
    "    check_data.append(list(valid_data[i][0:14]))\n",
    "    check_labels.append([valid_data[i][14]])"
   ]
  },
  {
   "cell_type": "code",
   "execution_count": 7,
   "id": "f82e2b5c",
   "metadata": {},
   "outputs": [
    {
     "name": "stdout",
     "output_type": "stream",
     "text": [
      "72000 14 72000 1\n",
      "18000 14 18000 1\n"
     ]
    }
   ],
   "source": [
    "print(len(input_data),len(input_data[0]),len(input_labels),len(input_labels[0]))\n",
    "print(len(check_data),len(check_data[0]),len(check_labels),len(check_labels[0]))"
   ]
  },
  {
   "cell_type": "code",
   "execution_count": 8,
   "id": "39b9c945",
   "metadata": {},
   "outputs": [
    {
     "name": "stderr",
     "output_type": "stream",
     "text": [
      "2022-09-07 15:34:06.275406: I tensorflow/core/platform/cpu_feature_guard.cc:142] This TensorFlow binary is optimized with oneAPI Deep Neural Network Library (oneDNN) to use the following CPU instructions in performance-critical operations:  SSE4.1 SSE4.2 AVX AVX2 FMA\n",
      "To enable them in other operations, rebuild TensorFlow with the appropriate compiler flags.\n",
      "2022-09-07 15:34:08.638600: I tensorflow/compiler/mlir/mlir_graph_optimization_pass.cc:116] None of the MLIR optimization passes are enabled (registered 2)\n"
     ]
    },
    {
     "name": "stdout",
     "output_type": "stream",
     "text": [
      "Epoch 1/10\n",
      "2250/2250 [==============================] - 1s 502us/step - loss: 14.5610 - accuracy: 0.8327\n",
      "Epoch 2/10\n",
      "2250/2250 [==============================] - 1s 509us/step - loss: 0.2778 - accuracy: 0.9131\n",
      "Epoch 3/10\n",
      "2250/2250 [==============================] - 1s 506us/step - loss: 0.2683 - accuracy: 0.9164\n",
      "Epoch 4/10\n",
      "2250/2250 [==============================] - 1s 655us/step - loss: 0.2475 - accuracy: 0.9230\n",
      "Epoch 5/10\n",
      "2250/2250 [==============================] - 2s 741us/step - loss: 0.2580 - accuracy: 0.9216\n",
      "Epoch 6/10\n",
      "2250/2250 [==============================] - 1s 563us/step - loss: 0.2576 - accuracy: 0.9199\n",
      "Epoch 7/10\n",
      "2250/2250 [==============================] - 1s 571us/step - loss: 0.2485 - accuracy: 0.9226\n",
      "Epoch 8/10\n",
      "2250/2250 [==============================] - 1s 517us/step - loss: 0.2591 - accuracy: 0.9210\n",
      "Epoch 9/10\n",
      "2250/2250 [==============================] - 1s 570us/step - loss: 0.2415 - accuracy: 0.92510s - loss: 0.2415 - accuracy: \n",
      "Epoch 10/10\n",
      "2250/2250 [==============================] - 2s 679us/step - loss: 0.2376 - accuracy: 0.9265\n",
      "563/563 - 0s - loss: 0.2206 - accuracy: 0.9318\n",
      "\n",
      "Test accuracy: 0.9317777752876282\n"
     ]
    }
   ],
   "source": [
    "model = tf.keras.Sequential([\n",
    "    tf.keras.layers.Dense(14, activation='relu'),\n",
    "    tf.keras.layers.Dense(2)\n",
    "])\n",
    "model.compile(optimizer='adam',\n",
    "              loss=tf.keras.losses.SparseCategoricalCrossentropy(from_logits=True),\n",
    "              metrics=['accuracy'])\n",
    "model.fit(input_data, input_labels, epochs=10)\n",
    "test_loss, test_acc = model.evaluate(check_data,  check_labels, verbose=2)\n",
    "\n",
    "print('\\nTest accuracy:', test_acc)"
   ]
  },
  {
   "cell_type": "code",
   "execution_count": 9,
   "id": "6708ff17",
   "metadata": {},
   "outputs": [
    {
     "name": "stdout",
     "output_type": "stream",
     "text": [
      "Epoch 1/10\n",
      "2250/2250 [==============================] - 1s 479us/step - loss: 51.2763 - accuracy: 0.4527\n",
      "Epoch 2/10\n",
      "2250/2250 [==============================] - 1s 474us/step - loss: 1.4901 - accuracy: 0.6965\n",
      "Epoch 3/10\n",
      "2250/2250 [==============================] - 1s 510us/step - loss: 1.3903 - accuracy: 0.7346\n",
      "Epoch 4/10\n",
      "2250/2250 [==============================] - 1s 490us/step - loss: 1.2964 - accuracy: 0.7692\n",
      "Epoch 5/10\n",
      "2250/2250 [==============================] - 1s 489us/step - loss: 1.1946 - accuracy: 0.8088\n",
      "Epoch 6/10\n",
      "2250/2250 [==============================] - 1s 532us/step - loss: 1.1074 - accuracy: 0.8430\n",
      "Epoch 7/10\n",
      "2250/2250 [==============================] - 1s 519us/step - loss: 0.9914 - accuracy: 0.8824\n",
      "Epoch 8/10\n",
      "2250/2250 [==============================] - 1s 507us/step - loss: 0.6712 - accuracy: 0.9196\n",
      "Epoch 9/10\n",
      "2250/2250 [==============================] - 1s 483us/step - loss: 0.2408 - accuracy: 0.9252\n",
      "Epoch 10/10\n",
      "2250/2250 [==============================] - 1s 471us/step - loss: 0.2267 - accuracy: 0.9281\n",
      "563/563 - 0s - loss: 0.2313 - accuracy: 0.9309\n",
      "\n",
      "Test accuracy: 0.9308888912200928\n"
     ]
    }
   ],
   "source": [
    "model = tf.keras.Sequential([\n",
    "    tf.keras.layers.Dense(14, activation='relu')\n",
    "])\n",
    "model.compile(optimizer='adam',\n",
    "              loss=tf.keras.losses.SparseCategoricalCrossentropy(from_logits=True),\n",
    "              metrics=['accuracy'])\n",
    "model.fit(input_data, input_labels, epochs=10)\n",
    "test_loss, test_acc = model.evaluate(check_data,  check_labels, verbose=2)\n",
    "\n",
    "print('\\nTest accuracy:', test_acc)"
   ]
  },
  {
   "cell_type": "code",
   "execution_count": 10,
   "id": "f5c93d00",
   "metadata": {},
   "outputs": [
    {
     "name": "stdout",
     "output_type": "stream",
     "text": [
      "Epoch 1/10\n",
      "2250/2250 [==============================] - 1s 507us/step - loss: 11.2184 - accuracy: 0.7526\n",
      "Epoch 2/10\n",
      "2250/2250 [==============================] - 1s 517us/step - loss: 0.2895 - accuracy: 0.9034\n",
      "Epoch 3/10\n",
      "2250/2250 [==============================] - 1s 510us/step - loss: 0.3005 - accuracy: 0.9063\n",
      "Epoch 4/10\n",
      "2250/2250 [==============================] - 1s 515us/step - loss: 0.3056 - accuracy: 0.9052\n",
      "Epoch 5/10\n",
      "2250/2250 [==============================] - 1s 534us/step - loss: 0.2928 - accuracy: 0.9100\n",
      "Epoch 6/10\n",
      "2250/2250 [==============================] - 1s 539us/step - loss: 0.2851 - accuracy: 0.9134\n",
      "Epoch 7/10\n",
      "2250/2250 [==============================] - 1s 499us/step - loss: 0.2698 - accuracy: 0.9178\n",
      "Epoch 8/10\n",
      "2250/2250 [==============================] - 1s 494us/step - loss: 0.2644 - accuracy: 0.9193\n",
      "Epoch 9/10\n",
      "2250/2250 [==============================] - 1s 488us/step - loss: 0.2792 - accuracy: 0.9169\n",
      "Epoch 10/10\n",
      "2250/2250 [==============================] - 1s 491us/step - loss: 0.2849 - accuracy: 0.9157\n",
      "563/563 - 0s - loss: 0.2439 - accuracy: 0.9189\n",
      "\n",
      "Test accuracy: 0.9189444184303284\n"
     ]
    }
   ],
   "source": [
    "model = tf.keras.Sequential([\n",
    "    tf.keras.layers.Dense(14, activation='relu'),\n",
    "    tf.keras.layers.Dense(7)\n",
    "])\n",
    "model.compile(optimizer='adam',\n",
    "              loss=tf.keras.losses.SparseCategoricalCrossentropy(from_logits=True),\n",
    "              metrics=['accuracy'])\n",
    "model.fit(input_data, input_labels, epochs=10)\n",
    "test_loss, test_acc = model.evaluate(check_data,  check_labels, verbose=2)\n",
    "\n",
    "print('\\nTest accuracy:', test_acc)"
   ]
  },
  {
   "cell_type": "code",
   "execution_count": 11,
   "id": "3a5dd072",
   "metadata": {},
   "outputs": [
    {
     "name": "stdout",
     "output_type": "stream",
     "text": [
      "Epoch 1/10\n",
      "2250/2250 [==============================] - 1s 438us/step - loss: 75.5198 - accuracy: 0.6359\n",
      "Epoch 2/10\n",
      "2250/2250 [==============================] - 1s 472us/step - loss: 0.2429 - accuracy: 0.9206\n",
      "Epoch 3/10\n",
      "2250/2250 [==============================] - 1s 448us/step - loss: 0.2317 - accuracy: 0.9238\n",
      "Epoch 4/10\n",
      "2250/2250 [==============================] - 1s 441us/step - loss: 0.2265 - accuracy: 0.9265\n",
      "Epoch 5/10\n",
      "2250/2250 [==============================] - 1s 438us/step - loss: 0.2236 - accuracy: 0.9282\n",
      "Epoch 6/10\n",
      "2250/2250 [==============================] - 1s 464us/step - loss: 0.2225 - accuracy: 0.9282\n",
      "Epoch 7/10\n",
      "2250/2250 [==============================] - 1s 454us/step - loss: 0.2248 - accuracy: 0.9278\n",
      "Epoch 8/10\n",
      "2250/2250 [==============================] - 1s 450us/step - loss: 0.2171 - accuracy: 0.9308\n",
      "Epoch 9/10\n",
      "2250/2250 [==============================] - 1s 440us/step - loss: 0.2184 - accuracy: 0.9302\n",
      "Epoch 10/10\n",
      "2250/2250 [==============================] - 1s 445us/step - loss: 0.2274 - accuracy: 0.9256\n",
      "563/563 - 0s - loss: 0.2115 - accuracy: 0.9328\n",
      "\n",
      "Test accuracy: 0.9328333139419556\n"
     ]
    }
   ],
   "source": [
    "model = tf.keras.Sequential([\n",
    "    tf.keras.layers.Dense(7)\n",
    "])\n",
    "model.compile(optimizer='adam',\n",
    "              loss=tf.keras.losses.SparseCategoricalCrossentropy(from_logits=True),\n",
    "              metrics=['accuracy'])\n",
    "model.fit(input_data, input_labels, epochs=10)\n",
    "test_loss, test_acc = model.evaluate(check_data,  check_labels, verbose=2)\n",
    "\n",
    "print('\\nTest accuracy:', test_acc)"
   ]
  },
  {
   "cell_type": "code",
   "execution_count": 12,
   "id": "038a1fcc",
   "metadata": {},
   "outputs": [],
   "source": [
    "input_data = np.array(input_data)\n",
    "input_labels = np.array(input_labels)"
   ]
  },
  {
   "cell_type": "code",
   "execution_count": 13,
   "id": "3f56a373",
   "metadata": {
    "scrolled": false
   },
   "outputs": [
    {
     "name": "stdout",
     "output_type": "stream",
     "text": [
      "Trial 30 Complete [00h 00m 16s]\n",
      "val_accuracy: 0.9339444637298584\n",
      "\n",
      "Best val_accuracy So Far: 0.9350000023841858\n",
      "Total elapsed time: 00h 03m 36s\n",
      "INFO:tensorflow:Oracle triggered exit\n",
      "\n",
      "The hyperparameter search is complete. The optimal number of units in the first densely-connected\n",
      "layer is 162.\n",
      "\n"
     ]
    }
   ],
   "source": [
    "#find the best architecture for one layer\n",
    "def model_builder(hp):\n",
    "  model = keras.Sequential()\n",
    "\n",
    "  # Tune the number of units in the first Dense layer\n",
    "  # Choose an optimal value between 5-196\n",
    "  hp_units = hp.Int('units', min_value=5, max_value=196, step=1)\n",
    "  model.add(keras.layers.Dense(units=hp_units, activation='relu'))\n",
    "\n",
    "  model.compile(optimizer=keras.optimizers.Adam(learning_rate=0.01),\n",
    "                loss=keras.losses.SparseCategoricalCrossentropy(from_logits=True),\n",
    "                metrics=['accuracy'])\n",
    "\n",
    "  return model\n",
    "\n",
    "tuner = kt.Hyperband(model_builder,\n",
    "                     objective='val_accuracy',\n",
    "                     max_epochs=10,\n",
    "                     factor=3,\n",
    "                     directory='my_dir',\n",
    "                     project_name='intro_to_kt',\n",
    "                     overwrite=True)\n",
    "stop_early = tf.keras.callbacks.EarlyStopping(monitor='val_loss', patience=5)\n",
    "tuner.search(input_data, input_labels, validation_data=(check_data,check_labels), epochs=50, callbacks=[stop_early])\n",
    "\n",
    "# Get the optimal hyperparameters\n",
    "best_hps=tuner.get_best_hyperparameters(num_trials=1)[0]\n",
    "\n",
    "print(f\"\"\"\n",
    "The hyperparameter search is complete. The optimal number of units in the first densely-connected\n",
    "layer is {best_hps.get('units')}.\n",
    "\"\"\")"
   ]
  },
  {
   "cell_type": "code",
   "execution_count": 14,
   "id": "9fc1532e",
   "metadata": {
    "scrolled": false
   },
   "outputs": [
    {
     "name": "stdout",
     "output_type": "stream",
     "text": [
      "Trial 30 Complete [00h 00m 15s]\n",
      "val_accuracy: 0.9338889122009277\n",
      "\n",
      "Best val_accuracy So Far: 0.9342777729034424\n",
      "Total elapsed time: 00h 04m 07s\n",
      "INFO:tensorflow:Oracle triggered exit\n",
      "Results summary\n",
      "Results in my_dir/intro_to_kt\n",
      "Showing 1 best trials\n",
      "Objective(name='val_accuracy', direction='max')\n",
      "Trial summary\n",
      "Hyperparameters:\n",
      "num_layers: 1\n",
      "units_0: 76\n",
      "units_1: 74\n",
      "units_2: 92\n",
      "units_3: 44\n",
      "units_4: 168\n",
      "tuner/epochs: 10\n",
      "tuner/initial_epoch: 0\n",
      "tuner/bracket: 0\n",
      "tuner/round: 0\n",
      "Score: 0.9342777729034424\n",
      "Model: \"sequential\"\n",
      "_________________________________________________________________\n",
      "Layer (type)                 Output Shape              Param #   \n",
      "=================================================================\n",
      "dense (Dense)                (None, 76)                1140      \n",
      "=================================================================\n",
      "Total params: 1,140\n",
      "Trainable params: 1,140\n",
      "Non-trainable params: 0\n",
      "_________________________________________________________________\n",
      "<keras_tuner.engine.hyperparameters.HyperParameters object at 0x7fc97f19de50>\n"
     ]
    }
   ],
   "source": [
    "#find the best architecture for up to five layers\n",
    "def model_builder(hp):\n",
    "    model = keras.Sequential()\n",
    "\n",
    "    # Tune the number of units in the first Dense layer\n",
    "    # Choose an optimal value between 5-196\n",
    "    for i in range(hp.Int('num_layers', 1, 5)):\n",
    "        model.add(\n",
    "            layers.Dense(\n",
    "                # Tune number of units separately.\n",
    "                units=hp.Int(f'units_{i}', min_value=5, max_value=196, step=1),\n",
    "                activation='relu'))\n",
    "\n",
    "    model.compile(optimizer=keras.optimizers.Adam(learning_rate=0.01),\n",
    "                loss=keras.losses.SparseCategoricalCrossentropy(from_logits=True),\n",
    "                metrics=['accuracy'])\n",
    "\n",
    "    return model\n",
    "\n",
    "tuner = kt.Hyperband(model_builder,\n",
    "                     objective='val_accuracy',\n",
    "                     max_epochs=10,\n",
    "                     factor=3,\n",
    "                     directory='my_dir',\n",
    "                     project_name='intro_to_kt',\n",
    "                     overwrite=True)\n",
    "stop_early = tf.keras.callbacks.EarlyStopping(monitor='val_loss', patience=5)\n",
    "tuner.search(input_data, input_labels, validation_data=(check_data,check_labels), epochs=50, callbacks=[stop_early])\n",
    "tuner.results_summary(num_trials=1)\n",
    "\n",
    "best_model=tuner.get_best_models(num_models=1)[0]\n",
    "best_model.build(input_shape=(None,14))\n",
    "best_model.summary()"
   ]
  }
 ],
 "metadata": {
  "kernelspec": {
   "display_name": "Python 3 (ipykernel)",
   "language": "python",
   "name": "python3"
  },
  "language_info": {
   "codemirror_mode": {
    "name": "ipython",
    "version": 3
   },
   "file_extension": ".py",
   "mimetype": "text/x-python",
   "name": "python",
   "nbconvert_exporter": "python",
   "pygments_lexer": "ipython3",
   "version": "3.7.13"
  }
 },
 "nbformat": 4,
 "nbformat_minor": 5
}
