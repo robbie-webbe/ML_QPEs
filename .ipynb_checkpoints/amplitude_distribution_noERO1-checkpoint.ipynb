{
 "cells": [
  {
   "cell_type": "code",
   "execution_count": 1,
   "id": "2e0ba388",
   "metadata": {},
   "outputs": [],
   "source": [
    "import pandas as pd\n",
    "from scipy.stats import alpha, foldnorm, exponnorm, lognorm, maxwell, rayleigh, skewnorm, truncnorm, norm\n",
    "import matplotlib.pyplot as plt\n",
    "import numpy as np"
   ]
  },
  {
   "cell_type": "code",
   "execution_count": 2,
   "id": "17430f4e",
   "metadata": {
    "scrolled": true
   },
   "outputs": [
    {
     "data": {
      "text/html": [
       "<div>\n",
       "<style scoped>\n",
       "    .dataframe tbody tr th:only-of-type {\n",
       "        vertical-align: middle;\n",
       "    }\n",
       "\n",
       "    .dataframe tbody tr th {\n",
       "        vertical-align: top;\n",
       "    }\n",
       "\n",
       "    .dataframe thead th {\n",
       "        text-align: right;\n",
       "    }\n",
       "</style>\n",
       "<table border=\"1\" class=\"dataframe\">\n",
       "  <thead>\n",
       "    <tr style=\"text-align: right;\">\n",
       "      <th></th>\n",
       "      <th>Seg</th>\n",
       "      <th>Amplitude</th>\n",
       "      <th>Duration</th>\n",
       "    </tr>\n",
       "  </thead>\n",
       "  <tbody>\n",
       "    <tr>\n",
       "      <th>0</th>\n",
       "      <td>0124710801_e1.lc</td>\n",
       "      <td>7.735395</td>\n",
       "      <td>1299.881253</td>\n",
       "    </tr>\n",
       "    <tr>\n",
       "      <th>1</th>\n",
       "      <td>0411980401_e1.lc</td>\n",
       "      <td>1.099665</td>\n",
       "      <td>710.572857</td>\n",
       "    </tr>\n",
       "    <tr>\n",
       "      <th>2</th>\n",
       "      <td>0823680101_e1.lc</td>\n",
       "      <td>5.663419</td>\n",
       "      <td>1925.302234</td>\n",
       "    </tr>\n",
       "    <tr>\n",
       "      <th>3</th>\n",
       "      <td>0823680101_e2.lc</td>\n",
       "      <td>7.598665</td>\n",
       "      <td>2066.117327</td>\n",
       "    </tr>\n",
       "    <tr>\n",
       "      <th>4</th>\n",
       "      <td>0831790701_e1.lc</td>\n",
       "      <td>6.000399</td>\n",
       "      <td>2047.941361</td>\n",
       "    </tr>\n",
       "    <tr>\n",
       "      <th>5</th>\n",
       "      <td>0831790701_e2.lc</td>\n",
       "      <td>5.627178</td>\n",
       "      <td>2025.855435</td>\n",
       "    </tr>\n",
       "    <tr>\n",
       "      <th>6</th>\n",
       "      <td>0831790701_e3.lc</td>\n",
       "      <td>7.140636</td>\n",
       "      <td>2042.675533</td>\n",
       "    </tr>\n",
       "    <tr>\n",
       "      <th>7</th>\n",
       "      <td>0831790701_e4.lc</td>\n",
       "      <td>5.115359</td>\n",
       "      <td>2075.637888</td>\n",
       "    </tr>\n",
       "    <tr>\n",
       "      <th>8</th>\n",
       "      <td>0831790701_e5.lc</td>\n",
       "      <td>5.818960</td>\n",
       "      <td>2080.402867</td>\n",
       "    </tr>\n",
       "    <tr>\n",
       "      <th>9</th>\n",
       "      <td>0851180401_e1.lc</td>\n",
       "      <td>48.437843</td>\n",
       "      <td>1997.023158</td>\n",
       "    </tr>\n",
       "    <tr>\n",
       "      <th>10</th>\n",
       "      <td>0851180401_e2.lc</td>\n",
       "      <td>7.631581</td>\n",
       "      <td>2185.784021</td>\n",
       "    </tr>\n",
       "    <tr>\n",
       "      <th>11</th>\n",
       "      <td>0851180401_e3.lc</td>\n",
       "      <td>6.050286</td>\n",
       "      <td>1999.838280</td>\n",
       "    </tr>\n",
       "    <tr>\n",
       "      <th>12</th>\n",
       "      <td>0851180401_e4.lc</td>\n",
       "      <td>6.218464</td>\n",
       "      <td>2176.778609</td>\n",
       "    </tr>\n",
       "    <tr>\n",
       "      <th>13</th>\n",
       "      <td>0851180401_e5.lc</td>\n",
       "      <td>6.466084</td>\n",
       "      <td>2235.948897</td>\n",
       "    </tr>\n",
       "    <tr>\n",
       "      <th>14</th>\n",
       "      <td>0851180501_e1.lc</td>\n",
       "      <td>13.195822</td>\n",
       "      <td>1223.597389</td>\n",
       "    </tr>\n",
       "    <tr>\n",
       "      <th>15</th>\n",
       "      <td>0851180501_e2.lc</td>\n",
       "      <td>12.028559</td>\n",
       "      <td>1426.344576</td>\n",
       "    </tr>\n",
       "    <tr>\n",
       "      <th>16</th>\n",
       "      <td>0851180501_e3.lc</td>\n",
       "      <td>17.417195</td>\n",
       "      <td>1245.496028</td>\n",
       "    </tr>\n",
       "    <tr>\n",
       "      <th>17</th>\n",
       "      <td>0861910201_e1.lc</td>\n",
       "      <td>7.363441</td>\n",
       "      <td>1999.918370</td>\n",
       "    </tr>\n",
       "    <tr>\n",
       "      <th>18</th>\n",
       "      <td>0861910301_e1.lc</td>\n",
       "      <td>105.431474</td>\n",
       "      <td>18186.558047</td>\n",
       "    </tr>\n",
       "    <tr>\n",
       "      <th>19</th>\n",
       "      <td>0864330101_e1.lc</td>\n",
       "      <td>1.820802</td>\n",
       "      <td>1666.956114</td>\n",
       "    </tr>\n",
       "    <tr>\n",
       "      <th>20</th>\n",
       "      <td>0864330101_e2.lc</td>\n",
       "      <td>1.120510</td>\n",
       "      <td>2060.736942</td>\n",
       "    </tr>\n",
       "    <tr>\n",
       "      <th>21</th>\n",
       "      <td>0864330101_e3.lc</td>\n",
       "      <td>1.884150</td>\n",
       "      <td>2229.321086</td>\n",
       "    </tr>\n",
       "    <tr>\n",
       "      <th>22</th>\n",
       "      <td>0864330101_e4.lc</td>\n",
       "      <td>1.474217</td>\n",
       "      <td>1502.017696</td>\n",
       "    </tr>\n",
       "    <tr>\n",
       "      <th>23</th>\n",
       "      <td>0864560101_e1.lc</td>\n",
       "      <td>4.253676</td>\n",
       "      <td>1110.844532</td>\n",
       "    </tr>\n",
       "    <tr>\n",
       "      <th>24</th>\n",
       "      <td>0864560101_e2.lc</td>\n",
       "      <td>10.424276</td>\n",
       "      <td>1507.209465</td>\n",
       "    </tr>\n",
       "    <tr>\n",
       "      <th>25</th>\n",
       "      <td>0864560101_e3.lc</td>\n",
       "      <td>9.476967</td>\n",
       "      <td>1375.963209</td>\n",
       "    </tr>\n",
       "    <tr>\n",
       "      <th>26</th>\n",
       "      <td>0864560101_e4.lc</td>\n",
       "      <td>8.710973</td>\n",
       "      <td>1022.983916</td>\n",
       "    </tr>\n",
       "    <tr>\n",
       "      <th>27</th>\n",
       "      <td>0864560101_e5.lc</td>\n",
       "      <td>10.882836</td>\n",
       "      <td>1327.924792</td>\n",
       "    </tr>\n",
       "    <tr>\n",
       "      <th>28</th>\n",
       "      <td>0864560101_e6.lc</td>\n",
       "      <td>9.850868</td>\n",
       "      <td>1238.105998</td>\n",
       "    </tr>\n",
       "    <tr>\n",
       "      <th>29</th>\n",
       "      <td>0864560101_e7.lc</td>\n",
       "      <td>11.375634</td>\n",
       "      <td>1461.309777</td>\n",
       "    </tr>\n",
       "    <tr>\n",
       "      <th>30</th>\n",
       "      <td>0864560101_e8.lc</td>\n",
       "      <td>11.835402</td>\n",
       "      <td>1275.013017</td>\n",
       "    </tr>\n",
       "    <tr>\n",
       "      <th>31</th>\n",
       "      <td>0872390101_e1.lc</td>\n",
       "      <td>6.695202</td>\n",
       "      <td>824.802160</td>\n",
       "    </tr>\n",
       "    <tr>\n",
       "      <th>32</th>\n",
       "      <td>0872390101_e2.lc</td>\n",
       "      <td>10.398635</td>\n",
       "      <td>698.341673</td>\n",
       "    </tr>\n",
       "    <tr>\n",
       "      <th>33</th>\n",
       "      <td>0872390101_e3.lc</td>\n",
       "      <td>10.714961</td>\n",
       "      <td>726.491695</td>\n",
       "    </tr>\n",
       "    <tr>\n",
       "      <th>34</th>\n",
       "      <td>0872390101_e4.lc</td>\n",
       "      <td>8.781832</td>\n",
       "      <td>845.041500</td>\n",
       "    </tr>\n",
       "    <tr>\n",
       "      <th>35</th>\n",
       "      <td>0872390101_e5.lc</td>\n",
       "      <td>9.353147</td>\n",
       "      <td>826.324659</td>\n",
       "    </tr>\n",
       "    <tr>\n",
       "      <th>36</th>\n",
       "      <td>0872390101_e6.lc</td>\n",
       "      <td>8.413108</td>\n",
       "      <td>734.505512</td>\n",
       "    </tr>\n",
       "    <tr>\n",
       "      <th>37</th>\n",
       "      <td>0872390101_e7.lc</td>\n",
       "      <td>11.717638</td>\n",
       "      <td>757.901517</td>\n",
       "    </tr>\n",
       "    <tr>\n",
       "      <th>38</th>\n",
       "      <td>0872390101_e8.lc</td>\n",
       "      <td>9.638427</td>\n",
       "      <td>787.222040</td>\n",
       "    </tr>\n",
       "    <tr>\n",
       "      <th>39</th>\n",
       "      <td>0872390101_e9.lc</td>\n",
       "      <td>9.283091</td>\n",
       "      <td>700.412398</td>\n",
       "    </tr>\n",
       "    <tr>\n",
       "      <th>40</th>\n",
       "      <td>0893810501_e1.lc</td>\n",
       "      <td>11.293263</td>\n",
       "      <td>962.637237</td>\n",
       "    </tr>\n",
       "    <tr>\n",
       "      <th>41</th>\n",
       "      <td>0893810501_e2.lc</td>\n",
       "      <td>11.696943</td>\n",
       "      <td>740.419107</td>\n",
       "    </tr>\n",
       "    <tr>\n",
       "      <th>42</th>\n",
       "      <td>0893810501_e3.lc</td>\n",
       "      <td>8.079651</td>\n",
       "      <td>754.697455</td>\n",
       "    </tr>\n",
       "  </tbody>\n",
       "</table>\n",
       "</div>"
      ],
      "text/plain": [
       "                 Seg   Amplitude      Duration\n",
       "0   0124710801_e1.lc    7.735395   1299.881253\n",
       "1   0411980401_e1.lc    1.099665    710.572857\n",
       "2   0823680101_e1.lc    5.663419   1925.302234\n",
       "3   0823680101_e2.lc    7.598665   2066.117327\n",
       "4   0831790701_e1.lc    6.000399   2047.941361\n",
       "5   0831790701_e2.lc    5.627178   2025.855435\n",
       "6   0831790701_e3.lc    7.140636   2042.675533\n",
       "7   0831790701_e4.lc    5.115359   2075.637888\n",
       "8   0831790701_e5.lc    5.818960   2080.402867\n",
       "9   0851180401_e1.lc   48.437843   1997.023158\n",
       "10  0851180401_e2.lc    7.631581   2185.784021\n",
       "11  0851180401_e3.lc    6.050286   1999.838280\n",
       "12  0851180401_e4.lc    6.218464   2176.778609\n",
       "13  0851180401_e5.lc    6.466084   2235.948897\n",
       "14  0851180501_e1.lc   13.195822   1223.597389\n",
       "15  0851180501_e2.lc   12.028559   1426.344576\n",
       "16  0851180501_e3.lc   17.417195   1245.496028\n",
       "17  0861910201_e1.lc    7.363441   1999.918370\n",
       "18  0861910301_e1.lc  105.431474  18186.558047\n",
       "19  0864330101_e1.lc    1.820802   1666.956114\n",
       "20  0864330101_e2.lc    1.120510   2060.736942\n",
       "21  0864330101_e3.lc    1.884150   2229.321086\n",
       "22  0864330101_e4.lc    1.474217   1502.017696\n",
       "23  0864560101_e1.lc    4.253676   1110.844532\n",
       "24  0864560101_e2.lc   10.424276   1507.209465\n",
       "25  0864560101_e3.lc    9.476967   1375.963209\n",
       "26  0864560101_e4.lc    8.710973   1022.983916\n",
       "27  0864560101_e5.lc   10.882836   1327.924792\n",
       "28  0864560101_e6.lc    9.850868   1238.105998\n",
       "29  0864560101_e7.lc   11.375634   1461.309777\n",
       "30  0864560101_e8.lc   11.835402   1275.013017\n",
       "31  0872390101_e1.lc    6.695202    824.802160\n",
       "32  0872390101_e2.lc   10.398635    698.341673\n",
       "33  0872390101_e3.lc   10.714961    726.491695\n",
       "34  0872390101_e4.lc    8.781832    845.041500\n",
       "35  0872390101_e5.lc    9.353147    826.324659\n",
       "36  0872390101_e6.lc    8.413108    734.505512\n",
       "37  0872390101_e7.lc   11.717638    757.901517\n",
       "38  0872390101_e8.lc    9.638427    787.222040\n",
       "39  0872390101_e9.lc    9.283091    700.412398\n",
       "40  0893810501_e1.lc   11.293263    962.637237\n",
       "41  0893810501_e2.lc   11.696943    740.419107\n",
       "42  0893810501_e3.lc    8.079651    754.697455"
      ]
     },
     "metadata": {},
     "output_type": "display_data"
    },
    {
     "name": "stdout",
     "output_type": "stream",
     "text": [
      "[7.735394891429241, 1.0996645159853478, 5.6634191743542415, 7.598664723800118, 6.000399496201797, 5.627178304404816, 7.140635513938151, 5.115358662615643, 5.818959970389534, 48.4378430748891, 7.6315806240481265, 6.050285738705415, 6.218463871277629, 6.466084432640806, 13.195821522058043, 12.028559139693336, 17.417194957643684, 7.363440635607382, 1.820802340350048, 1.120510075445868, 1.884150107089934, 1.4742172890742582, 4.253676110939439, 10.424275508168774, 9.47696666039161, 8.71097342360364, 10.88283647130417, 9.85086786791375, 11.375633794135233, 11.835401645499743, 6.695202426901283, 10.398635379654651, 10.714960612188442, 8.781831810924004, 9.353147436987111, 8.413108395055655, 11.7176382008046, 9.638427332983635, 9.283091360743672, 11.29326333521785, 11.696943467855506, 8.0796508460502]\n"
     ]
    }
   ],
   "source": [
    "df = pd.read_csv('Obs/eruption_profiles.csv',index_col=0)\n",
    "display(df)\n",
    "data = list(df['Amplitude'].values)\n",
    "#print(data)\n",
    "data = data[0:18] + data[19:]\n",
    "print(data)\n",
    "amp_x = np.arange(0,300,0.1)"
   ]
  },
  {
   "cell_type": "code",
   "execution_count": 3,
   "id": "6345a5e2",
   "metadata": {},
   "outputs": [
    {
     "name": "stdout",
     "output_type": "stream",
     "text": [
      "(8.947265741642036, 7.074622511301937)\n"
     ]
    },
    {
     "data": {
      "text/plain": [
       "(0.0, 50.0)"
      ]
     },
     "execution_count": 3,
     "metadata": {},
     "output_type": "execute_result"
    },
    {
     "data": {
      "image/png": "[encoded data removed]",
      "text/plain": [
       "<Figure size 432x288 with 1 Axes>"
      ]
     },
     "metadata": {
      "needs_background": "light"
     },
     "output_type": "display_data"
    }
   ],
   "source": [
    "dist = norm.fit(data)\n",
    "print(dist)\n",
    "plt.hist(data,bins=[1,4,6,8,11,13,15,20,50,300],density=True)\n",
    "plt.plot(amp_x,norm.pdf(amp_x,dist[0],dist[1]))\n",
    "plt.xlim(0,50)"
   ]
  },
  {
   "cell_type": "code",
   "execution_count": 4,
   "id": "865abc0b",
   "metadata": {},
   "outputs": [
    {
     "name": "stdout",
     "output_type": "stream",
     "text": [
      "(0.43630743881042555, -3.2040235007284963, 10.9473598830128)\n"
     ]
    },
    {
     "data": {
      "text/plain": [
       "(0.0, 50.0)"
      ]
     },
     "execution_count": 4,
     "metadata": {},
     "output_type": "execute_result"
    },
    {
     "data": {
      "image/png": "[encoded data removed]",
      "text/plain": [
       "<Figure size 432x288 with 1 Axes>"
      ]
     },
     "metadata": {
      "needs_background": "light"
     },
     "output_type": "display_data"
    }
   ],
   "source": [
    "dist = lognorm.fit(data)\n",
    "print(dist)\n",
    "plt.hist(data,bins=[1,4,6,8,11,13,15,20,50,300],density=True)\n",
    "plt.plot(amp_x,lognorm.pdf(amp_x,dist[0],dist[1],dist[2]))\n",
    "plt.xlim(0,50)"
   ]
  },
  {
   "cell_type": "code",
   "execution_count": 5,
   "id": "6062d46b",
   "metadata": {},
   "outputs": [
    {
     "name": "stdout",
     "output_type": "stream",
     "text": [
      "(1.6134741999689526, 4.584519831443178, 2.703909766435343)\n"
     ]
    },
    {
     "data": {
      "text/plain": [
       "(0.0, 50.0)"
      ]
     },
     "execution_count": 5,
     "metadata": {},
     "output_type": "execute_result"
    },
    {
     "data": {
      "image/png": "[encoded data removed]",
      "text/plain": [
       "<Figure size 432x288 with 1 Axes>"
      ]
     },
     "metadata": {
      "needs_background": "light"
     },
     "output_type": "display_data"
    }
   ],
   "source": [
    "dist = exponnorm.fit(data)\n",
    "print(dist)\n",
    "plt.hist(data,bins=[1,4,6,8,11,13,15,20,50,300],density=True)\n",
    "plt.plot(amp_x,exponnorm.pdf(amp_x,dist[0],dist[1],dist[2]))\n",
    "plt.xlim(0,50)"
   ]
  },
  {
   "cell_type": "code",
   "execution_count": 6,
   "id": "aef92355",
   "metadata": {},
   "outputs": [
    {
     "name": "stdout",
     "output_type": "stream",
     "text": [
      "(-4.427700844987939, 8.735756745939259)\n"
     ]
    },
    {
     "data": {
      "text/plain": [
       "(0.0, 50.0)"
      ]
     },
     "execution_count": 6,
     "metadata": {},
     "output_type": "execute_result"
    },
    {
     "data": {
      "image/png": "[encoded data removed]",
      "text/plain": [
       "<Figure size 432x288 with 1 Axes>"
      ]
     },
     "metadata": {
      "needs_background": "light"
     },
     "output_type": "display_data"
    }
   ],
   "source": [
    "dist = maxwell.fit(data)\n",
    "print(dist)\n",
    "plt.hist(data,bins=[1,4,6,8,11,13,15,20,50,300],density=True)\n",
    "plt.plot(amp_x,maxwell.pdf(amp_x,dist[0],dist[1]))\n",
    "plt.xlim(0,50)"
   ]
  },
  {
   "cell_type": "code",
   "execution_count": 7,
   "id": "89fa65b0",
   "metadata": {},
   "outputs": [
    {
     "name": "stdout",
     "output_type": "stream",
     "text": [
      "(0.013864331922079792, 1.0996645149430493, 10.564681003820738)\n"
     ]
    },
    {
     "data": {
      "text/plain": [
       "(0.0, 50.0)"
      ]
     },
     "execution_count": 7,
     "metadata": {},
     "output_type": "execute_result"
    },
    {
     "data": {
      "image/png": "[encoded data removed]",
      "text/plain": [
       "<Figure size 432x288 with 1 Axes>"
      ]
     },
     "metadata": {
      "needs_background": "light"
     },
     "output_type": "display_data"
    }
   ],
   "source": [
    "dist = foldnorm.fit(data)\n",
    "print(dist)\n",
    "plt.hist(data,bins=[1,4,6,8,11,13,15,20,50,300],density=True)\n",
    "plt.plot(amp_x,foldnorm.pdf(amp_x,dist[0],loc=dist[1],scale=dist[2]))\n",
    "plt.xlim(0,50)"
   ]
  },
  {
   "cell_type": "code",
   "execution_count": 8,
   "id": "8083004a",
   "metadata": {},
   "outputs": [
    {
     "name": "stdout",
     "output_type": "stream",
     "text": [
      "(-1.3899291572072494, 8.857422933738002)\n"
     ]
    },
    {
     "data": {
      "text/plain": [
       "(0.0, 50.0)"
      ]
     },
     "execution_count": 8,
     "metadata": {},
     "output_type": "execute_result"
    },
    {
     "data": {
      "image/png": "[encoded data removed]",
      "text/plain": [
       "<Figure size 432x288 with 1 Axes>"
      ]
     },
     "metadata": {
      "needs_background": "light"
     },
     "output_type": "display_data"
    }
   ],
   "source": [
    "dist = rayleigh.fit(data)\n",
    "print(dist)\n",
    "plt.hist(data,bins=[1,4,6,8,11,13,15,20,50,300],density=True)\n",
    "plt.plot(amp_x,rayleigh.pdf(amp_x,dist[0],dist[1]))\n",
    "plt.xlim(0,50)"
   ]
  },
  {
   "cell_type": "code",
   "execution_count": 9,
   "id": "1cdf0a57",
   "metadata": {},
   "outputs": [
    {
     "name": "stdout",
     "output_type": "stream",
     "text": [
      "(4.893871050906025, 2.090896076381423, 9.85191481797694)\n"
     ]
    },
    {
     "data": {
      "text/plain": [
       "(0.0, 50.0)"
      ]
     },
     "execution_count": 9,
     "metadata": {},
     "output_type": "execute_result"
    },
    {
     "data": {
      "image/png": "[encoded data removed]",
      "text/plain": [
       "<Figure size 432x288 with 1 Axes>"
      ]
     },
     "metadata": {
      "needs_background": "light"
     },
     "output_type": "display_data"
    }
   ],
   "source": [
    "dist = skewnorm.fit(data)\n",
    "print(dist)\n",
    "plt.hist(data,bins=[1,4,6,8,11,13,15,20,50,300],density=True)\n",
    "plt.plot(amp_x,skewnorm.pdf(amp_x,dist[0],dist[1],dist[2]))\n",
    "plt.xlim(0,50)"
   ]
  },
  {
   "cell_type": "code",
   "execution_count": 10,
   "id": "e1f6a58d",
   "metadata": {
    "scrolled": true
   },
   "outputs": [],
   "source": [
    "# dist = truncnorm.fit(data)\n",
    "# print(dist)\n",
    "# plt.hist(data,bins=[1,4,6,8,11,13,15,20,50,300],density=True)\n",
    "# plt.plot(amp_x,truncnorm.pdf(amp_x,dist[0],dist[1],dist[2],dist[3]))\n",
    "# plt.xlim(0,25)"
   ]
  },
  {
   "cell_type": "code",
   "execution_count": 11,
   "id": "96ed61a9",
   "metadata": {
    "scrolled": true
   },
   "outputs": [],
   "source": [
    "# dist = alpha.fit(data)\n",
    "# print(dist)\n",
    "# plt.hist(data,bins=[1,4,6,8,11,13,15,20,50,300],density=True)\n",
    "# plt.plot(amp_x,alpha.pdf(amp_x,dist[0],dist[1],dist[2]))\n",
    "# plt.xlim(0,25)"
   ]
  }
 ],
 "metadata": {
  "kernelspec": {
   "display_name": "Python 3 (ipykernel)",
   "language": "python",
   "name": "python3"
  },
  "language_info": {
   "codemirror_mode": {
    "name": "ipython",
    "version": 3
   },
   "file_extension": ".py",
   "mimetype": "text/x-python",
   "name": "python",
   "nbconvert_exporter": "python",
   "pygments_lexer": "ipython3",
   "version": "3.8.3"
  }
 },
 "nbformat": 4,
 "nbformat_minor": 5
}
