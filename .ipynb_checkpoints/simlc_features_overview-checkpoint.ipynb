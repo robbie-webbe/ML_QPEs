{
 "cells": [
  {
   "cell_type": "code",
   "execution_count": 1,
   "id": "c585f50a",
   "metadata": {},
   "outputs": [],
   "source": [
    "import pandas as pd\n",
    "import matplotlib.pyplot as plt\n",
    "\n",
    "col_names = ['STD/Mean','Prop > 1STD','Prop > 2STD','Prop > 3STD','Prop > 4STD','Prop > 5STD','Prop > 6STD','IQR/STD',\n",
    "            'Skew','Kurtosis','Reverse CCF','2nd ACF Peak','CSSD','Von Neumann Ratio','QPE?']\n",
    "qpe_df = pd.read_csv('Features/qpe_feats.csv',names = col_names)\n",
    "no_qpe_df = pd.read_csv('Features/no_qpe_feats.csv',names = col_names)\n"
   ]
  },
  {
   "cell_type": "code",
   "execution_count": 2,
   "id": "c8c23dd8",
   "metadata": {},
   "outputs": [
    {
     "data": {
      "text/html": [
       "<div>\n",
       "<style scoped>\n",
       "    .dataframe tbody tr th:only-of-type {\n",
       "        vertical-align: middle;\n",
       "    }\n",
       "\n",
       "    .dataframe tbody tr th {\n",
       "        vertical-align: top;\n",
       "    }\n",
       "\n",
       "    .dataframe thead th {\n",
       "        text-align: right;\n",
       "    }\n",
       "</style>\n",
       "<table border=\"1\" class=\"dataframe\">\n",
       "  <thead>\n",
       "    <tr style=\"text-align: right;\">\n",
       "      <th></th>\n",
       "      <th>STD/Mean</th>\n",
       "      <th>Prop &gt; 1STD</th>\n",
       "      <th>Prop &gt; 2STD</th>\n",
       "      <th>Prop &gt; 3STD</th>\n",
       "      <th>Prop &gt; 4STD</th>\n",
       "      <th>Prop &gt; 5STD</th>\n",
       "      <th>Prop &gt; 6STD</th>\n",
       "      <th>IQR/STD</th>\n",
       "      <th>Skew</th>\n",
       "      <th>Kurtosis</th>\n",
       "      <th>Reverse CCF</th>\n",
       "      <th>2nd ACF Peak</th>\n",
       "      <th>CSSD</th>\n",
       "      <th>Von Neumann Ratio</th>\n",
       "      <th>QPE?</th>\n",
       "    </tr>\n",
       "  </thead>\n",
       "  <tbody>\n",
       "    <tr>\n",
       "      <th>count</th>\n",
       "      <td>50000.000000</td>\n",
       "      <td>50000.000000</td>\n",
       "      <td>50000.000000</td>\n",
       "      <td>50000.000000</td>\n",
       "      <td>50000.000000</td>\n",
       "      <td>50000.000000</td>\n",
       "      <td>50000.000000</td>\n",
       "      <td>50000.000000</td>\n",
       "      <td>50000.000000</td>\n",
       "      <td>50000.000000</td>\n",
       "      <td>50000.000000</td>\n",
       "      <td>50000.000000</td>\n",
       "      <td>50000.000000</td>\n",
       "      <td>50000.000000</td>\n",
       "      <td>50000.0</td>\n",
       "    </tr>\n",
       "    <tr>\n",
       "      <th>mean</th>\n",
       "      <td>1.100202</td>\n",
       "      <td>0.141687</td>\n",
       "      <td>0.045858</td>\n",
       "      <td>0.022863</td>\n",
       "      <td>0.011883</td>\n",
       "      <td>0.006052</td>\n",
       "      <td>0.003043</td>\n",
       "      <td>0.709961</td>\n",
       "      <td>3.022545</td>\n",
       "      <td>14.630343</td>\n",
       "      <td>-6.279558</td>\n",
       "      <td>0.455846</td>\n",
       "      <td>0.972285</td>\n",
       "      <td>0.013509</td>\n",
       "      <td>1.0</td>\n",
       "    </tr>\n",
       "    <tr>\n",
       "      <th>std</th>\n",
       "      <td>0.429057</td>\n",
       "      <td>0.103277</td>\n",
       "      <td>0.019110</td>\n",
       "      <td>0.011940</td>\n",
       "      <td>0.007857</td>\n",
       "      <td>0.005665</td>\n",
       "      <td>0.004029</td>\n",
       "      <td>0.430410</td>\n",
       "      <td>1.860988</td>\n",
       "      <td>15.966090</td>\n",
       "      <td>587.876860</td>\n",
       "      <td>0.306796</td>\n",
       "      <td>0.026599</td>\n",
       "      <td>0.091666</td>\n",
       "      <td>0.0</td>\n",
       "    </tr>\n",
       "    <tr>\n",
       "      <th>min</th>\n",
       "      <td>0.282887</td>\n",
       "      <td>0.007500</td>\n",
       "      <td>0.000000</td>\n",
       "      <td>0.000000</td>\n",
       "      <td>0.000000</td>\n",
       "      <td>0.000000</td>\n",
       "      <td>0.000000</td>\n",
       "      <td>0.038871</td>\n",
       "      <td>-1.327841</td>\n",
       "      <td>-1.513082</td>\n",
       "      <td>-1775.272484</td>\n",
       "      <td>-0.001380</td>\n",
       "      <td>0.203704</td>\n",
       "      <td>0.000950</td>\n",
       "      <td>1.0</td>\n",
       "    </tr>\n",
       "    <tr>\n",
       "      <th>25%</th>\n",
       "      <td>0.770150</td>\n",
       "      <td>0.069500</td>\n",
       "      <td>0.030500</td>\n",
       "      <td>0.016000</td>\n",
       "      <td>0.004500</td>\n",
       "      <td>0.000000</td>\n",
       "      <td>0.000000</td>\n",
       "      <td>0.369981</td>\n",
       "      <td>1.880569</td>\n",
       "      <td>3.675265</td>\n",
       "      <td>-334.985121</td>\n",
       "      <td>0.134674</td>\n",
       "      <td>0.967467</td>\n",
       "      <td>0.002892</td>\n",
       "      <td>1.0</td>\n",
       "    </tr>\n",
       "    <tr>\n",
       "      <th>50%</th>\n",
       "      <td>1.106691</td>\n",
       "      <td>0.107500</td>\n",
       "      <td>0.048000</td>\n",
       "      <td>0.025500</td>\n",
       "      <td>0.013500</td>\n",
       "      <td>0.006000</td>\n",
       "      <td>0.000000</td>\n",
       "      <td>0.575287</td>\n",
       "      <td>2.985260</td>\n",
       "      <td>10.188811</td>\n",
       "      <td>-124.952616</td>\n",
       "      <td>0.476978</td>\n",
       "      <td>0.975976</td>\n",
       "      <td>0.004000</td>\n",
       "      <td>1.0</td>\n",
       "    </tr>\n",
       "    <tr>\n",
       "      <th>75%</th>\n",
       "      <td>1.383778</td>\n",
       "      <td>0.168500</td>\n",
       "      <td>0.061500</td>\n",
       "      <td>0.032000</td>\n",
       "      <td>0.018000</td>\n",
       "      <td>0.011000</td>\n",
       "      <td>0.006500</td>\n",
       "      <td>0.988588</td>\n",
       "      <td>4.174655</td>\n",
       "      <td>20.762646</td>\n",
       "      <td>216.597993</td>\n",
       "      <td>0.739393</td>\n",
       "      <td>0.982983</td>\n",
       "      <td>0.006438</td>\n",
       "      <td>1.0</td>\n",
       "    </tr>\n",
       "    <tr>\n",
       "      <th>max</th>\n",
       "      <td>3.711828</td>\n",
       "      <td>0.520500</td>\n",
       "      <td>0.095000</td>\n",
       "      <td>0.048000</td>\n",
       "      <td>0.032000</td>\n",
       "      <td>0.020000</td>\n",
       "      <td>0.014500</td>\n",
       "      <td>2.052785</td>\n",
       "      <td>15.091094</td>\n",
       "      <td>322.818133</td>\n",
       "      <td>1965.889928</td>\n",
       "      <td>0.997410</td>\n",
       "      <td>0.998999</td>\n",
       "      <td>2.781517</td>\n",
       "      <td>1.0</td>\n",
       "    </tr>\n",
       "  </tbody>\n",
       "</table>\n",
       "</div>"
      ],
      "text/plain": [
       "           STD/Mean   Prop > 1STD   Prop > 2STD   Prop > 3STD   Prop > 4STD  \\\n",
       "count  50000.000000  50000.000000  50000.000000  50000.000000  50000.000000   \n",
       "mean       1.100202      0.141687      0.045858      0.022863      0.011883   \n",
       "std        0.429057      0.103277      0.019110      0.011940      0.007857   \n",
       "min        0.282887      0.007500      0.000000      0.000000      0.000000   \n",
       "25%        0.770150      0.069500      0.030500      0.016000      0.004500   \n",
       "50%        1.106691      0.107500      0.048000      0.025500      0.013500   \n",
       "75%        1.383778      0.168500      0.061500      0.032000      0.018000   \n",
       "max        3.711828      0.520500      0.095000      0.048000      0.032000   \n",
       "\n",
       "        Prop > 5STD   Prop > 6STD       IQR/STD          Skew      Kurtosis  \\\n",
       "count  50000.000000  50000.000000  50000.000000  50000.000000  50000.000000   \n",
       "mean       0.006052      0.003043      0.709961      3.022545     14.630343   \n",
       "std        0.005665      0.004029      0.430410      1.860988     15.966090   \n",
       "min        0.000000      0.000000      0.038871     -1.327841     -1.513082   \n",
       "25%        0.000000      0.000000      0.369981      1.880569      3.675265   \n",
       "50%        0.006000      0.000000      0.575287      2.985260     10.188811   \n",
       "75%        0.011000      0.006500      0.988588      4.174655     20.762646   \n",
       "max        0.020000      0.014500      2.052785     15.091094    322.818133   \n",
       "\n",
       "        Reverse CCF  2nd ACF Peak          CSSD  Von Neumann Ratio     QPE?  \n",
       "count  50000.000000  50000.000000  50000.000000       50000.000000  50000.0  \n",
       "mean      -6.279558      0.455846      0.972285           0.013509      1.0  \n",
       "std      587.876860      0.306796      0.026599           0.091666      0.0  \n",
       "min    -1775.272484     -0.001380      0.203704           0.000950      1.0  \n",
       "25%     -334.985121      0.134674      0.967467           0.002892      1.0  \n",
       "50%     -124.952616      0.476978      0.975976           0.004000      1.0  \n",
       "75%      216.597993      0.739393      0.982983           0.006438      1.0  \n",
       "max     1965.889928      0.997410      0.998999           2.781517      1.0  "
      ]
     },
     "execution_count": 2,
     "metadata": {},
     "output_type": "execute_result"
    }
   ],
   "source": [
    "qpe_df.describe()"
   ]
  },
  {
   "cell_type": "code",
   "execution_count": 3,
   "id": "792e1ae8",
   "metadata": {},
   "outputs": [
    {
     "data": {
      "text/html": [
       "<div>\n",
       "<style scoped>\n",
       "    .dataframe tbody tr th:only-of-type {\n",
       "        vertical-align: middle;\n",
       "    }\n",
       "\n",
       "    .dataframe tbody tr th {\n",
       "        vertical-align: top;\n",
       "    }\n",
       "\n",
       "    .dataframe thead th {\n",
       "        text-align: right;\n",
       "    }\n",
       "</style>\n",
       "<table border=\"1\" class=\"dataframe\">\n",
       "  <thead>\n",
       "    <tr style=\"text-align: right;\">\n",
       "      <th></th>\n",
       "      <th>STD/Mean</th>\n",
       "      <th>Prop &gt; 1STD</th>\n",
       "      <th>Prop &gt; 2STD</th>\n",
       "      <th>Prop &gt; 3STD</th>\n",
       "      <th>Prop &gt; 4STD</th>\n",
       "      <th>Prop &gt; 5STD</th>\n",
       "      <th>Prop &gt; 6STD</th>\n",
       "      <th>IQR/STD</th>\n",
       "      <th>Skew</th>\n",
       "      <th>Kurtosis</th>\n",
       "      <th>Reverse CCF</th>\n",
       "      <th>2nd ACF Peak</th>\n",
       "      <th>CSSD</th>\n",
       "      <th>Von Neumann Ratio</th>\n",
       "      <th>QPE?</th>\n",
       "    </tr>\n",
       "  </thead>\n",
       "  <tbody>\n",
       "    <tr>\n",
       "      <th>count</th>\n",
       "      <td>50000.000000</td>\n",
       "      <td>50000.000000</td>\n",
       "      <td>50000.000000</td>\n",
       "      <td>50000.000000</td>\n",
       "      <td>50000.0</td>\n",
       "      <td>50000.0</td>\n",
       "      <td>50000.0</td>\n",
       "      <td>50000.000000</td>\n",
       "      <td>50000.000000</td>\n",
       "      <td>50000.000000</td>\n",
       "      <td>50000.000000</td>\n",
       "      <td>50000.000000</td>\n",
       "      <td>50000.000000</td>\n",
       "      <td>50000.000000</td>\n",
       "      <td>50000.0</td>\n",
       "    </tr>\n",
       "    <tr>\n",
       "      <th>mean</th>\n",
       "      <td>0.474130</td>\n",
       "      <td>0.355927</td>\n",
       "      <td>0.030086</td>\n",
       "      <td>0.000058</td>\n",
       "      <td>0.0</td>\n",
       "      <td>0.0</td>\n",
       "      <td>0.0</td>\n",
       "      <td>1.484574</td>\n",
       "      <td>-0.004090</td>\n",
       "      <td>-0.637017</td>\n",
       "      <td>-2.028794</td>\n",
       "      <td>0.089464</td>\n",
       "      <td>0.973826</td>\n",
       "      <td>0.002820</td>\n",
       "      <td>0.0</td>\n",
       "    </tr>\n",
       "    <tr>\n",
       "      <th>std</th>\n",
       "      <td>0.072816</td>\n",
       "      <td>0.043589</td>\n",
       "      <td>0.020585</td>\n",
       "      <td>0.000686</td>\n",
       "      <td>0.0</td>\n",
       "      <td>0.0</td>\n",
       "      <td>0.0</td>\n",
       "      <td>0.205405</td>\n",
       "      <td>0.467742</td>\n",
       "      <td>0.410112</td>\n",
       "      <td>922.679122</td>\n",
       "      <td>0.069066</td>\n",
       "      <td>0.009880</td>\n",
       "      <td>0.000140</td>\n",
       "      <td>0.0</td>\n",
       "    </tr>\n",
       "    <tr>\n",
       "      <th>min</th>\n",
       "      <td>0.280481</td>\n",
       "      <td>0.174500</td>\n",
       "      <td>0.000000</td>\n",
       "      <td>0.000000</td>\n",
       "      <td>0.0</td>\n",
       "      <td>0.0</td>\n",
       "      <td>0.0</td>\n",
       "      <td>0.774019</td>\n",
       "      <td>-1.530554</td>\n",
       "      <td>-1.546873</td>\n",
       "      <td>-1843.438349</td>\n",
       "      <td>-0.000007</td>\n",
       "      <td>0.920420</td>\n",
       "      <td>0.002326</td>\n",
       "      <td>0.0</td>\n",
       "    </tr>\n",
       "    <tr>\n",
       "      <th>25%</th>\n",
       "      <td>0.420456</td>\n",
       "      <td>0.326000</td>\n",
       "      <td>0.013000</td>\n",
       "      <td>0.000000</td>\n",
       "      <td>0.0</td>\n",
       "      <td>0.0</td>\n",
       "      <td>0.0</td>\n",
       "      <td>1.344723</td>\n",
       "      <td>-0.343012</td>\n",
       "      <td>-0.935073</td>\n",
       "      <td>-848.503346</td>\n",
       "      <td>0.025001</td>\n",
       "      <td>0.967467</td>\n",
       "      <td>0.002724</td>\n",
       "      <td>0.0</td>\n",
       "    </tr>\n",
       "    <tr>\n",
       "      <th>50%</th>\n",
       "      <td>0.467462</td>\n",
       "      <td>0.357000</td>\n",
       "      <td>0.027500</td>\n",
       "      <td>0.000000</td>\n",
       "      <td>0.0</td>\n",
       "      <td>0.0</td>\n",
       "      <td>0.0</td>\n",
       "      <td>1.502174</td>\n",
       "      <td>-0.004663</td>\n",
       "      <td>-0.707405</td>\n",
       "      <td>-2.491431</td>\n",
       "      <td>0.082967</td>\n",
       "      <td>0.974975</td>\n",
       "      <td>0.002817</td>\n",
       "      <td>0.0</td>\n",
       "    </tr>\n",
       "    <tr>\n",
       "      <th>75%</th>\n",
       "      <td>0.521468</td>\n",
       "      <td>0.386500</td>\n",
       "      <td>0.044500</td>\n",
       "      <td>0.000000</td>\n",
       "      <td>0.0</td>\n",
       "      <td>0.0</td>\n",
       "      <td>0.0</td>\n",
       "      <td>1.638947</td>\n",
       "      <td>0.332433</td>\n",
       "      <td>-0.409472</td>\n",
       "      <td>842.314323</td>\n",
       "      <td>0.141277</td>\n",
       "      <td>0.980981</td>\n",
       "      <td>0.002913</td>\n",
       "      <td>0.0</td>\n",
       "    </tr>\n",
       "    <tr>\n",
       "      <th>max</th>\n",
       "      <td>0.812465</td>\n",
       "      <td>0.516000</td>\n",
       "      <td>0.105500</td>\n",
       "      <td>0.026500</td>\n",
       "      <td>0.0</td>\n",
       "      <td>0.0</td>\n",
       "      <td>0.0</td>\n",
       "      <td>2.023004</td>\n",
       "      <td>1.498959</td>\n",
       "      <td>2.029375</td>\n",
       "      <td>1820.879834</td>\n",
       "      <td>0.324937</td>\n",
       "      <td>0.997998</td>\n",
       "      <td>0.003490</td>\n",
       "      <td>0.0</td>\n",
       "    </tr>\n",
       "  </tbody>\n",
       "</table>\n",
       "</div>"
      ],
      "text/plain": [
       "           STD/Mean   Prop > 1STD   Prop > 2STD   Prop > 3STD  Prop > 4STD  \\\n",
       "count  50000.000000  50000.000000  50000.000000  50000.000000      50000.0   \n",
       "mean       0.474130      0.355927      0.030086      0.000058          0.0   \n",
       "std        0.072816      0.043589      0.020585      0.000686          0.0   \n",
       "min        0.280481      0.174500      0.000000      0.000000          0.0   \n",
       "25%        0.420456      0.326000      0.013000      0.000000          0.0   \n",
       "50%        0.467462      0.357000      0.027500      0.000000          0.0   \n",
       "75%        0.521468      0.386500      0.044500      0.000000          0.0   \n",
       "max        0.812465      0.516000      0.105500      0.026500          0.0   \n",
       "\n",
       "       Prop > 5STD  Prop > 6STD       IQR/STD          Skew      Kurtosis  \\\n",
       "count      50000.0      50000.0  50000.000000  50000.000000  50000.000000   \n",
       "mean           0.0          0.0      1.484574     -0.004090     -0.637017   \n",
       "std            0.0          0.0      0.205405      0.467742      0.410112   \n",
       "min            0.0          0.0      0.774019     -1.530554     -1.546873   \n",
       "25%            0.0          0.0      1.344723     -0.343012     -0.935073   \n",
       "50%            0.0          0.0      1.502174     -0.004663     -0.707405   \n",
       "75%            0.0          0.0      1.638947      0.332433     -0.409472   \n",
       "max            0.0          0.0      2.023004      1.498959      2.029375   \n",
       "\n",
       "        Reverse CCF  2nd ACF Peak          CSSD  Von Neumann Ratio     QPE?  \n",
       "count  50000.000000  50000.000000  50000.000000       50000.000000  50000.0  \n",
       "mean      -2.028794      0.089464      0.973826           0.002820      0.0  \n",
       "std      922.679122      0.069066      0.009880           0.000140      0.0  \n",
       "min    -1843.438349     -0.000007      0.920420           0.002326      0.0  \n",
       "25%     -848.503346      0.025001      0.967467           0.002724      0.0  \n",
       "50%       -2.491431      0.082967      0.974975           0.002817      0.0  \n",
       "75%      842.314323      0.141277      0.980981           0.002913      0.0  \n",
       "max     1820.879834      0.324937      0.997998           0.003490      0.0  "
      ]
     },
     "execution_count": 3,
     "metadata": {},
     "output_type": "execute_result"
    }
   ],
   "source": [
    "no_qpe_df.describe()"
   ]
  },
  {
   "cell_type": "code",
   "execution_count": 4,
   "id": "6f6d38d4",
   "metadata": {},
   "outputs": [],
   "source": [
    "qpe_f1 = qpe_df['STD/Mean'].values\n",
    "qpe_f2 = qpe_df['Prop > 1STD'].values\n",
    "qpe_f3 = qpe_df['Prop > 2STD'].values\n",
    "qpe_f4 = qpe_df['Prop > 3STD'].values\n",
    "qpe_f5 = qpe_df['Prop > 4STD'].values\n",
    "qpe_f6 = qpe_df['Prop > 5STD'].values\n",
    "qpe_f7 = qpe_df['Prop > 6STD'].values\n",
    "qpe_f8 = qpe_df['IQR/STD'].values\n",
    "qpe_f9 = qpe_df['Skew'].values\n",
    "qpe_f10 = qpe_df['Kurtosis'].values\n",
    "qpe_f11 = qpe_df['Reverse CCF'].values\n",
    "qpe_f12 = qpe_df['2nd ACF Peak'].values\n",
    "qpe_f13 = qpe_df['CSSD'].values\n",
    "qpe_f14 = qpe_df['Von Neumann Ratio'].values"
   ]
  },
  {
   "cell_type": "code",
   "execution_count": 5,
   "id": "241dd577",
   "metadata": {},
   "outputs": [],
   "source": [
    "nqpe_f1 = no_qpe_df['STD/Mean'].values\n",
    "nqpe_f2 = no_qpe_df['Prop > 1STD'].values\n",
    "nqpe_f3 = no_qpe_df['Prop > 2STD'].values\n",
    "nqpe_f4 = no_qpe_df['Prop > 3STD'].values\n",
    "nqpe_f5 = no_qpe_df['Prop > 4STD'].values\n",
    "nqpe_f6 = no_qpe_df['Prop > 5STD'].values\n",
    "nqpe_f7 = no_qpe_df['Prop > 6STD'].values\n",
    "nqpe_f8 = no_qpe_df['IQR/STD'].values\n",
    "nqpe_f9 = no_qpe_df['Skew'].values\n",
    "nqpe_f10 = no_qpe_df['Kurtosis'].values\n",
    "nqpe_f11 = no_qpe_df['Reverse CCF'].values\n",
    "nqpe_f12 = no_qpe_df['2nd ACF Peak'].values\n",
    "nqpe_f13 = no_qpe_df['CSSD'].values\n",
    "nqpe_f14 = no_qpe_df['Von Neumann Ratio'].values"
   ]
  },
  {
   "cell_type": "code",
   "execution_count": 6,
   "id": "b8b46d96",
   "metadata": {
    "scrolled": false
   },
   "outputs": [
    {
     "data": {
      "image/png": "[encoded data removed]",
      "text/plain": [
       "<Figure size 720x432 with 1 Axes>"
      ]
     },
     "metadata": {
      "needs_background": "light"
     },
     "output_type": "display_data"
    }
   ],
   "source": [
    "plt.subplots(figsize=(10,6))\n",
    "plt.hist(qpe_f1,density=True,alpha=0.5,label='QPE',color='r')\n",
    "plt.hist(nqpe_f1,density=True,alpha=0.5,label='No QPE',color='b')\n",
    "plt.legend(loc='upper right')\n",
    "plt.title(qpe_df.columns.values[0])\n",
    "plt.show()"
   ]
  },
  {
   "cell_type": "code",
   "execution_count": 7,
   "id": "92bf5a9f",
   "metadata": {
    "scrolled": false
   },
   "outputs": [
    {
     "data": {
      "image/png": "[encoded data removed]",
      "text/plain": [
       "<Figure size 720x432 with 1 Axes>"
      ]
     },
     "metadata": {
      "needs_background": "light"
     },
     "output_type": "display_data"
    }
   ],
   "source": [
    "plt.subplots(figsize=(10,6))\n",
    "plt.hist(qpe_f2,density=True,alpha=0.5,label='QPE',color='r')\n",
    "plt.hist(nqpe_f2,density=True,alpha=0.5,label='No QPE',color='b')\n",
    "plt.legend(loc='upper right')\n",
    "plt.title(qpe_df.columns.values[1])\n",
    "plt.show()"
   ]
  },
  {
   "cell_type": "code",
   "execution_count": 8,
   "id": "f7abbd1a",
   "metadata": {
    "scrolled": false
   },
   "outputs": [
    {
     "data": {
      "image/png": "[encoded data removed]",
      "text/plain": [
       "<Figure size 720x432 with 1 Axes>"
      ]
     },
     "metadata": {
      "needs_background": "light"
     },
     "output_type": "display_data"
    }
   ],
   "source": [
    "plt.subplots(figsize=(10,6))\n",
    "plt.hist(qpe_f3,density=True,alpha=0.5,label='QPE',color='r')\n",
    "plt.hist(nqpe_f3,density=True,alpha=0.5,label='No QPE',color='b')\n",
    "plt.legend(loc='upper right')\n",
    "plt.title(qpe_df.columns.values[2])\n",
    "plt.show()"
   ]
  },
  {
   "cell_type": "code",
   "execution_count": 9,
   "id": "a9fede49",
   "metadata": {
    "scrolled": false
   },
   "outputs": [
    {
     "data": {
      "image/png": "[encoded data removed]",
      "text/plain": [
       "<Figure size 720x432 with 1 Axes>"
      ]
     },
     "metadata": {
      "needs_background": "light"
     },
     "output_type": "display_data"
    }
   ],
   "source": [
    "plt.subplots(figsize=(10,6))\n",
    "plt.hist(qpe_f4,density=True,alpha=0.5,label='QPE',color='r')\n",
    "plt.hist(nqpe_f4,density=True,alpha=0.5,label='No QPE',color='b')\n",
    "plt.legend(loc='upper right')\n",
    "plt.title(qpe_df.columns.values[3])\n",
    "plt.show()"
   ]
  },
  {
   "cell_type": "code",
   "execution_count": 10,
   "id": "91ad643f",
   "metadata": {
    "scrolled": false
   },
   "outputs": [
    {
     "data": {
      "image/png": "[encoded data removed]",
      "text/plain": [
       "<Figure size 720x432 with 1 Axes>"
      ]
     },
     "metadata": {
      "needs_background": "light"
     },
     "output_type": "display_data"
    }
   ],
   "source": [
    "plt.subplots(figsize=(10,6))\n",
    "plt.hist(qpe_f5,density=True,alpha=0.5,label='QPE',color='r')\n",
    "plt.hist(nqpe_f5,density=True,alpha=0.5,label='No QPE',color='b')\n",
    "plt.xlim(0,0.2)\n",
    "plt.legend(loc='upper right')\n",
    "plt.title(qpe_df.columns.values[4])\n",
    "plt.show()"
   ]
  },
  {
   "cell_type": "code",
   "execution_count": 11,
   "id": "6012a5c3",
   "metadata": {
    "scrolled": false
   },
   "outputs": [
    {
     "data": {
      "image/png": "[encoded data removed]",
      "text/plain": [
       "<Figure size 720x432 with 1 Axes>"
      ]
     },
     "metadata": {
      "needs_background": "light"
     },
     "output_type": "display_data"
    }
   ],
   "source": [
    "plt.subplots(figsize=(10,6))\n",
    "plt.hist(qpe_f6,density=True,alpha=0.5,label='QPE',color='r')\n",
    "plt.hist(nqpe_f6,density=True,alpha=0.5,label='No QPE',color='b')\n",
    "plt.legend(loc='upper right')\n",
    "plt.xlim(0,0.2)\n",
    "plt.title(qpe_df.columns.values[5])\n",
    "plt.show()"
   ]
  },
  {
   "cell_type": "code",
   "execution_count": 12,
   "id": "1393ce57",
   "metadata": {
    "scrolled": false
   },
   "outputs": [
    {
     "data": {
      "image/png": "[encoded data removed]",
      "text/plain": [
       "<Figure size 720x432 with 1 Axes>"
      ]
     },
     "metadata": {
      "needs_background": "light"
     },
     "output_type": "display_data"
    }
   ],
   "source": [
    "plt.subplots(figsize=(10,6))\n",
    "plt.hist(qpe_f7,density=True,alpha=0.5,label='QPE',color='r')\n",
    "plt.hist(nqpe_f7,density=True,alpha=0.5,label='No QPE',color='b')\n",
    "plt.legend(loc='upper right')\n",
    "plt.title(qpe_df.columns.values[6])\n",
    "plt.xlim(0,0.2)\n",
    "plt.show()"
   ]
  },
  {
   "cell_type": "code",
   "execution_count": 13,
   "id": "a209163a",
   "metadata": {
    "scrolled": false
   },
   "outputs": [
    {
     "data": {
      "image/png": "[encoded data removed]",
      "text/plain": [
       "<Figure size 720x432 with 1 Axes>"
      ]
     },
     "metadata": {
      "needs_background": "light"
     },
     "output_type": "display_data"
    }
   ],
   "source": [
    "plt.subplots(figsize=(10,6))\n",
    "plt.hist(qpe_f8,density=True,alpha=0.5,label='QPE',color='r')\n",
    "plt.hist(nqpe_f8,density=True,alpha=0.5,label='No QPE',color='b')\n",
    "plt.legend(loc='upper right')\n",
    "plt.title(qpe_df.columns.values[7])\n",
    "plt.show()"
   ]
  },
  {
   "cell_type": "code",
   "execution_count": 14,
   "id": "7875a6bb",
   "metadata": {
    "scrolled": false
   },
   "outputs": [
    {
     "data": {
      "image/png": "[encoded data removed]",
      "text/plain": [
       "<Figure size 720x432 with 1 Axes>"
      ]
     },
     "metadata": {
      "needs_background": "light"
     },
     "output_type": "display_data"
    }
   ],
   "source": [
    "plt.subplots(figsize=(10,6))\n",
    "plt.hist(qpe_f9,density=True,alpha=0.5,label='QPE',color='r')\n",
    "plt.hist(nqpe_f9,density=True,alpha=0.5,label='No QPE',color='b')\n",
    "plt.legend(loc='upper right')\n",
    "plt.title(qpe_df.columns.values[8])\n",
    "plt.show()"
   ]
  },
  {
   "cell_type": "code",
   "execution_count": 15,
   "id": "7a7cd6db",
   "metadata": {
    "scrolled": false
   },
   "outputs": [
    {
     "data": {
      "image/png": "[encoded data removed]",
      "text/plain": [
       "<Figure size 720x432 with 1 Axes>"
      ]
     },
     "metadata": {
      "needs_background": "light"
     },
     "output_type": "display_data"
    }
   ],
   "source": [
    "plt.subplots(figsize=(10,6))\n",
    "plt.hist(qpe_f10,density=True,alpha=0.5,label='QPE',color='r')\n",
    "plt.legend(loc='upper right')\n",
    "plt.title(qpe_df.columns.values[9])\n",
    "plt.show()"
   ]
  },
  {
   "cell_type": "code",
   "execution_count": 16,
   "id": "a48844fd",
   "metadata": {},
   "outputs": [
    {
     "data": {
      "image/png": "[encoded data removed]",
      "text/plain": [
       "<Figure size 720x432 with 1 Axes>"
      ]
     },
     "metadata": {
      "needs_background": "light"
     },
     "output_type": "display_data"
    }
   ],
   "source": [
    "plt.subplots(figsize=(10,6))\n",
    "plt.hist(nqpe_f10,density=True,alpha=0.5,label='No QPE',color='b')\n",
    "plt.legend(loc='upper right')\n",
    "plt.title(qpe_df.columns.values[9])\n",
    "plt.show()"
   ]
  },
  {
   "cell_type": "code",
   "execution_count": 17,
   "id": "9e9a6509",
   "metadata": {},
   "outputs": [
    {
     "data": {
      "image/png": "[encoded data removed]",
      "text/plain": [
       "<Figure size 720x432 with 1 Axes>"
      ]
     },
     "metadata": {
      "needs_background": "light"
     },
     "output_type": "display_data"
    }
   ],
   "source": [
    "plt.subplots(figsize=(10,6))\n",
    "plt.hist(qpe_f11,density=True,alpha=0.5,label='QPE',color='r')\n",
    "plt.hist(nqpe_f11,density=True,alpha=0.5,label='No QPE',color='b')\n",
    "plt.legend(loc='upper right')\n",
    "plt.title(qpe_df.columns.values[10])\n",
    "plt.show()"
   ]
  },
  {
   "cell_type": "code",
   "execution_count": 18,
   "id": "a19dccdc",
   "metadata": {},
   "outputs": [
    {
     "data": {
      "image/png": "[encoded data removed]",
      "text/plain": [
       "<Figure size 720x432 with 1 Axes>"
      ]
     },
     "metadata": {
      "needs_background": "light"
     },
     "output_type": "display_data"
    }
   ],
   "source": [
    "plt.subplots(figsize=(10,6))\n",
    "plt.hist(qpe_f12,density=True,alpha=0.5,label='QPE',color='r')\n",
    "plt.hist(nqpe_f12,density=True,alpha=0.5,label='No QPE',color='b')\n",
    "plt.legend(loc='upper right')\n",
    "plt.title(qpe_df.columns.values[11])\n",
    "plt.show()"
   ]
  },
  {
   "cell_type": "code",
   "execution_count": 19,
   "id": "dd93170c",
   "metadata": {},
   "outputs": [
    {
     "data": {
      "image/png": "[encoded data removed]",
      "text/plain": [
       "<Figure size 720x432 with 1 Axes>"
      ]
     },
     "metadata": {
      "needs_background": "light"
     },
     "output_type": "display_data"
    }
   ],
   "source": [
    "plt.subplots(figsize=(10,6))\n",
    "plt.hist(qpe_f13,density=True,alpha=0.5,label='QPE',color='r')\n",
    "plt.legend(loc='upper right')\n",
    "plt.title(qpe_df.columns.values[12])\n",
    "plt.show()"
   ]
  },
  {
   "cell_type": "code",
   "execution_count": 20,
   "id": "211a7f4e",
   "metadata": {},
   "outputs": [
    {
     "data": {
      "image/png": "[encoded data removed]",
      "text/plain": [
       "<Figure size 720x432 with 1 Axes>"
      ]
     },
     "metadata": {
      "needs_background": "light"
     },
     "output_type": "display_data"
    }
   ],
   "source": [
    "plt.subplots(figsize=(10,6))\n",
    "plt.hist(nqpe_f13,density=True,alpha=0.5,label='No QPE',color='b')\n",
    "plt.legend(loc='upper right')\n",
    "plt.title(qpe_df.columns.values[12])\n",
    "plt.show()"
   ]
  },
  {
   "cell_type": "code",
   "execution_count": 21,
   "id": "60daf91e",
   "metadata": {},
   "outputs": [
    {
     "data": {
      "image/png": "[encoded data removed]",
      "text/plain": [
       "<Figure size 720x432 with 1 Axes>"
      ]
     },
     "metadata": {
      "needs_background": "light"
     },
     "output_type": "display_data"
    }
   ],
   "source": [
    "plt.subplots(figsize=(10,6))\n",
    "plt.hist(qpe_f14,bins=25,density=True,alpha=0.5,label='QPE',color='r')\n",
    "plt.legend(loc='upper right')\n",
    "plt.title(qpe_df.columns.values[13])\n",
    "plt.show()"
   ]
  },
  {
   "cell_type": "code",
   "execution_count": 22,
   "id": "c3c2ff19",
   "metadata": {},
   "outputs": [
    {
     "data": {
      "image/png": "[encoded data removed]",
      "text/plain": [
       "<Figure size 720x432 with 1 Axes>"
      ]
     },
     "metadata": {
      "needs_background": "light"
     },
     "output_type": "display_data"
    }
   ],
   "source": [
    "plt.subplots(figsize=(10,6))\n",
    "plt.hist(nqpe_f14,density=True,alpha=0.5,label='No QPE',color='b')\n",
    "plt.legend(loc='upper right')\n",
    "plt.title(qpe_df.columns.values[13])\n",
    "plt.show()"
   ]
  },
  {
   "cell_type": "code",
   "execution_count": null,
   "id": "541e43d2",
   "metadata": {},
   "outputs": [],
   "source": []
  }
 ],
 "metadata": {
  "kernelspec": {
   "display_name": "Python 3 (ipykernel)",
   "language": "python",
   "name": "python3"
  },
  "language_info": {
   "codemirror_mode": {
    "name": "ipython",
    "version": 3
   },
   "file_extension": ".py",
   "mimetype": "text/x-python",
   "name": "python",
   "nbconvert_exporter": "python",
   "pygments_lexer": "ipython3",
   "version": "3.8.13"
  }
 },
 "nbformat": 4,
 "nbformat_minor": 5
}
