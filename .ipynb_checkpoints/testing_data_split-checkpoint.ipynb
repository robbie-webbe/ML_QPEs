{
 "cells": [
  {
   "cell_type": "code",
   "execution_count": 1,
   "id": "6552e4d8",
   "metadata": {},
   "outputs": [],
   "source": [
    "import numpy as np\n",
    "\n",
    "simq = np.loadtxt('Features/qpe_feats_dt1000.csv',delimiter=',')\n",
    "simnq = np.loadtxt('Features/no_qpe_feats_dt1000.csv',delimiter=',')"
   ]
  },
  {
   "cell_type": "code",
   "execution_count": 2,
   "id": "47fbd802",
   "metadata": {},
   "outputs": [],
   "source": [
    "#split the simulated data into 90/10 training and validation/testing\n",
    "train_val_simq = simq[0:45000]\n",
    "test_simq = simq[45000:]\n",
    "\n",
    "train_val_simnq = simnq[0:45000]\n",
    "test_simnq = simnq[45000:]"
   ]
  },
  {
   "cell_type": "code",
   "execution_count": 3,
   "id": "82b53f17",
   "metadata": {},
   "outputs": [],
   "source": [
    "train_val_data = np.concatenate((train_val_simq,train_val_simnq))\n",
    "test_data = np.concatenate((test_simq,test_simnq))"
   ]
  },
  {
   "cell_type": "code",
   "execution_count": 4,
   "id": "812560dc",
   "metadata": {},
   "outputs": [],
   "source": [
    "np.savetxt('Features/train_val_data_dt1000.csv',train_val_data,delimiter=',')\n",
    "np.savetxt('Features/simtest_data_dt1000.csv',test_data,delimiter=',')"
   ]
  }
 ],
 "metadata": {
  "kernelspec": {
   "display_name": "Python 3 (ipykernel)",
   "language": "python",
   "name": "python3"
  },
  "language_info": {
   "codemirror_mode": {
    "name": "ipython",
    "version": 3
   },
   "file_extension": ".py",
   "mimetype": "text/x-python",
   "name": "python",
   "nbconvert_exporter": "python",
   "pygments_lexer": "ipython3",
   "version": "3.8.13"
  }
 },
 "nbformat": 4,
 "nbformat_minor": 5
}
