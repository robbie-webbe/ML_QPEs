{
 "cells": [
  {
   "cell_type": "code",
   "execution_count": 1,
   "id": "35f30682",
   "metadata": {
    "scrolled": false
   },
   "outputs": [
    {
     "name": "stderr",
     "output_type": "stream",
     "text": [
      "/Users/do19150/opt/anaconda3/lib/python3.8/site-packages/stingray/utils.py:24: UserWarning: Numba not installed. Faking it\n",
      "  warnings.warn(\"Numba not installed. Faking it\")\n",
      "/Users/do19150/opt/anaconda3/lib/python3.8/site-packages/stingray/largememory.py:25: UserWarning: Large Datasets may not be processed efficiently due to computational constraints\n",
      "  warnings.warn(\n",
      "/Users/do19150/opt/anaconda3/lib/python3.8/site-packages/stingray/crossspectrum.py:28: UserWarning: pyfftw not installed. Using standard scipy fft\n",
      "  warnings.warn(\"pyfftw not installed. Using standard scipy fft\")\n",
      "/Users/do19150/opt/anaconda3/lib/python3.8/site-packages/stingray/crosscorrelation.py:8: UserWarning: pyfftw not installed. Using standard scipy fft\n",
      "  warnings.warn(\"pyfftw not installed. Using standard scipy fft\")\n",
      "/Users/do19150/opt/anaconda3/lib/python3.8/site-packages/stingray/bispectrum.py:10: UserWarning: pyfftw not installed. Using standard scipy fft\n",
      "  warnings.warn(\"pyfftw not installed. Using standard scipy fft\")\n"
     ]
    }
   ],
   "source": [
    "import numpy as np\n",
    "import pandas as pd\n",
    "import tensorflow as tf\n",
    "from random import sample, shuffle\n",
    "import sys\n",
    "\n",
    "sys.path.append('/Users/do19150/Gits/Analysis_Funcs/General/')\n",
    "from fitsloader import XMMtolc\n",
    "\n",
    "train_val_data = np.loadtxt('/Users/do19150/Gits/ML_QPE/Features/train_val_data.csv',delimiter=',')\n",
    "simlc_test_data = np.loadtxt('/Users/do19150/Gits/ML_QPE/Features/simtest_data.csv',delimiter=',')\n",
    "reallc_test_data = pd.read_csv('/Users/do19150/Gits/ML_QPE/Features/realobs_test_data.csv',dtype='object')\n",
    "reallc_test_data = reallc_test_data.astype({'STD/Mean':'float','Prop > 1STD':'float','Prop > 2STD':'float','Prop > 3STD':'float',\n",
    "                        'Prop > 4STD':'float','Prop > 5STD':'float','Prop > 6STD':'float',\n",
    "                        'IQR/STD':'float','Skew':'float','Kurtosis':'float','Rev CCF':'float',\n",
    "                        '2nd ACF':'float','CSSD':'float','Von Neumann Ratio':'float','QPE?':'float'})"
   ]
  },
  {
   "cell_type": "code",
   "execution_count": 2,
   "id": "f3d2045c",
   "metadata": {},
   "outputs": [
    {
     "name": "stdout",
     "output_type": "stream",
     "text": [
      "(90000, 15) (10000, 15)\n",
      "(69, 16) Index(['ObsID', 'STD/Mean', 'Prop > 1STD', 'Prop > 2STD', 'Prop > 3STD',\n",
      "       'Prop > 4STD', 'Prop > 5STD', 'Prop > 6STD', 'IQR/STD', 'Skew',\n",
      "       'Kurtosis', 'Rev CCF', '2nd ACF', 'CSSD', 'Von Neumann Ratio', 'QPE?'],\n",
      "      dtype='object')\n"
     ]
    }
   ],
   "source": [
    "print(train_val_data.shape,simlc_test_data.shape)\n",
    "print(reallc_test_data.shape,reallc_test_data.columns)"
   ]
  },
  {
   "cell_type": "code",
   "execution_count": 3,
   "id": "9b2582d1",
   "metadata": {
    "scrolled": false
   },
   "outputs": [],
   "source": [
    "#split the train/validation data 80%/20% into training and validation\n",
    "\n",
    "index_range = list(np.arange(len(train_val_data)))\n",
    "train_indices = sorted(sample(index_range,int(0.8*len(index_range))))\n",
    "valid_indices = index_range\n",
    "for i in train_indices:\n",
    "    valid_indices.remove(i)"
   ]
  },
  {
   "cell_type": "code",
   "execution_count": 4,
   "id": "94778286",
   "metadata": {},
   "outputs": [],
   "source": [
    "# print(len(train_indices),train_indices[0:20])\n",
    "# print(len(valid_indices),valid_indices[0:10])"
   ]
  },
  {
   "cell_type": "code",
   "execution_count": 5,
   "id": "85a5e1ef",
   "metadata": {},
   "outputs": [],
   "source": [
    "#create the feature sets\n",
    "training_data = train_val_data[train_indices]\n",
    "valid_data = train_val_data[valid_indices]"
   ]
  },
  {
   "cell_type": "code",
   "execution_count": 6,
   "id": "8f442c0e",
   "metadata": {},
   "outputs": [],
   "source": [
    "#separate the training and validaiton features and labels\n",
    "\n",
    "input_data = []\n",
    "input_labels = []\n",
    "for i in range(len(training_data)):\n",
    "    input_data.append(list(training_data[i][0:14]))\n",
    "    input_labels.append([training_data[i][14]])\n",
    "    \n",
    "check_data = []\n",
    "check_labels = []\n",
    "for i in range(len(valid_data)):\n",
    "    check_data.append(list(valid_data[i][0:14]))\n",
    "    check_labels.append([valid_data[i][14]])"
   ]
  },
  {
   "cell_type": "code",
   "execution_count": 7,
   "id": "f82e2b5c",
   "metadata": {},
   "outputs": [
    {
     "name": "stdout",
     "output_type": "stream",
     "text": [
      "72000 14 72000 1\n",
      "18000 14 18000 1\n"
     ]
    }
   ],
   "source": [
    "print(len(input_data),len(input_data[0]),len(input_labels),len(input_labels[0]))\n",
    "print(len(check_data),len(check_data[0]),len(check_labels),len(check_labels[0]))"
   ]
  },
  {
   "cell_type": "code",
   "execution_count": 8,
   "id": "39b9c945",
   "metadata": {},
   "outputs": [
    {
     "name": "stderr",
     "output_type": "stream",
     "text": [
      "2022-09-02 10:15:16.768807: I tensorflow/core/platform/cpu_feature_guard.cc:193] This TensorFlow binary is optimized with oneAPI Deep Neural Network Library (oneDNN) to use the following CPU instructions in performance-critical operations:  AVX2 FMA\n",
      "To enable them in other operations, rebuild TensorFlow with the appropriate compiler flags.\n"
     ]
    },
    {
     "name": "stdout",
     "output_type": "stream",
     "text": [
      "Epoch 1/10\n",
      "2250/2250 [==============================] - 3s 1ms/step - loss: 1.5260 - accuracy: 0.8462\n",
      "Epoch 2/10\n",
      "2250/2250 [==============================] - 3s 1ms/step - loss: 0.5627 - accuracy: 0.8930\n",
      "Epoch 3/10\n",
      "2250/2250 [==============================] - 3s 1ms/step - loss: 0.3115 - accuracy: 0.9104\n",
      "Epoch 4/10\n",
      "2250/2250 [==============================] - 3s 1ms/step - loss: 0.2470 - accuracy: 0.9223\n",
      "Epoch 5/10\n",
      "2250/2250 [==============================] - 3s 1ms/step - loss: 0.2272 - accuracy: 0.9274\n",
      "Epoch 6/10\n",
      "2250/2250 [==============================] - 3s 1ms/step - loss: 0.2217 - accuracy: 0.9282\n",
      "Epoch 7/10\n",
      "2250/2250 [==============================] - 3s 1ms/step - loss: 0.2177 - accuracy: 0.9290\n",
      "Epoch 8/10\n",
      "2250/2250 [==============================] - 3s 1ms/step - loss: 0.2150 - accuracy: 0.9293\n",
      "Epoch 9/10\n",
      "2250/2250 [==============================] - 3s 1ms/step - loss: 0.2133 - accuracy: 0.9298\n",
      "Epoch 10/10\n",
      "2250/2250 [==============================] - 3s 1ms/step - loss: 0.2127 - accuracy: 0.9298\n",
      "563/563 - 1s - loss: 0.2182 - accuracy: 0.9289 - 641ms/epoch - 1ms/step\n",
      "\n",
      "Validation accuracy: 0.9288889169692993\n"
     ]
    }
   ],
   "source": [
    "model = tf.keras.Sequential([\n",
    "    tf.keras.layers.Dense(182, activation='relu'),\n",
    "    tf.keras.layers.Dense(91),\n",
    "    tf.keras.layers.Dense(2)\n",
    "])\n",
    "model.compile(optimizer='adam',\n",
    "              loss=tf.keras.losses.SparseCategoricalCrossentropy(from_logits=True),\n",
    "              metrics=['accuracy'])\n",
    "model.fit(input_data, input_labels, epochs=10)\n",
    "test_loss, test_acc = model.evaluate(check_data,  check_labels, verbose=2)\n",
    "\n",
    "print('\\nValidation accuracy:', test_acc)"
   ]
  },
  {
   "cell_type": "code",
   "execution_count": 9,
   "id": "eb55d3d6",
   "metadata": {},
   "outputs": [
    {
     "name": "stdout",
     "output_type": "stream",
     "text": [
      "10000 14 10000 1\n"
     ]
    }
   ],
   "source": [
    "#make predictions on simulated test data\n",
    "sim_test_feats = []\n",
    "sim_test_labels = []\n",
    "for i in range(len(simlc_test_data)):\n",
    "    sim_test_feats.append(list(simlc_test_data[i][0:14]))\n",
    "    sim_test_labels.append([simlc_test_data[i][14]])\n",
    "    \n",
    "print(len(sim_test_feats),len(sim_test_feats[0]),len(sim_test_labels),len(sim_test_labels[0]))"
   ]
  },
  {
   "cell_type": "code",
   "execution_count": 10,
   "id": "eb1d8529",
   "metadata": {},
   "outputs": [
    {
     "name": "stdout",
     "output_type": "stream",
     "text": [
      "313/313 - 0s - loss: 0.2189 - accuracy: 0.9294 - 238ms/epoch - 761us/step\n",
      "\n",
      "Validation accuracy: 0.9294000267982483\n"
     ]
    }
   ],
   "source": [
    "test_loss, test_acc = model.evaluate(sim_test_feats,  sim_test_labels, verbose=2)\n",
    "\n",
    "print('\\nValidation accuracy:', test_acc)"
   ]
  },
  {
   "cell_type": "code",
   "execution_count": 11,
   "id": "b54b6496",
   "metadata": {},
   "outputs": [
    {
     "name": "stdout",
     "output_type": "stream",
     "text": [
      "69 14 69 1\n"
     ]
    }
   ],
   "source": [
    "#make predictions on real test data\n",
    "real_test_feats = []\n",
    "real_test_labels = []\n",
    "for i in range(len(reallc_test_data)):\n",
    "    real_test_feats.append(list(reallc_test_data.iloc[i,1:15].values))\n",
    "    real_test_labels.append([reallc_test_data.iloc[i,15]])\n",
    "    \n",
    "print(len(real_test_feats),len(real_test_feats[0]),len(real_test_labels),len(real_test_labels[0]))"
   ]
  },
  {
   "cell_type": "code",
   "execution_count": 12,
   "id": "6311f41f",
   "metadata": {},
   "outputs": [
    {
     "name": "stdout",
     "output_type": "stream",
     "text": [
      "3/3 - 0s - loss: 6.3226 - accuracy: 0.2754 - 35ms/epoch - 12ms/step\n",
      "\n",
      "Validation accuracy: 0.2753623127937317\n"
     ]
    }
   ],
   "source": [
    "test_loss, test_acc = model.evaluate(real_test_feats,  real_test_labels, verbose=2)\n",
    "\n",
    "print('\\nValidation accuracy:', test_acc)"
   ]
  },
  {
   "cell_type": "code",
   "execution_count": 13,
   "id": "9ebf95ab",
   "metadata": {},
   "outputs": [],
   "source": [
    "probability_model = tf.keras.Sequential([model, tf.keras.layers.Softmax()])"
   ]
  },
  {
   "cell_type": "code",
   "execution_count": 14,
   "id": "8ce0afcd",
   "metadata": {
    "scrolled": false
   },
   "outputs": [
    {
     "name": "stdout",
     "output_type": "stream",
     "text": [
      "1/1 [==============================] - 0s 79ms/step\n",
      "0093641501 1 [[0.04108374 0.95891625]]\n",
      "1/1 [==============================] - 0s 16ms/step\n",
      "0093641601 0 [[0.873798   0.12620191]]\n",
      "1/1 [==============================] - 0s 16ms/step\n",
      "0093641701 0 [[0.86143595 0.13856404]]\n",
      "1/1 [==============================] - 0s 16ms/step\n",
      "0111790101 1 [[0.38457543 0.61542463]]\n",
      "1/1 [==============================] - 0s 16ms/step\n",
      "0112550601 1 [[0.01080421 0.9891958 ]]\n",
      "1/1 [==============================] - 0s 17ms/step\n",
      "0112551701 1 [[0.29319647 0.7068036 ]]\n",
      "1/1 [==============================] - 0s 16ms/step\n",
      "0124710801 1 [[7.486731e-11 1.000000e+00]]\n",
      "1/1 [==============================] - 0s 16ms/step\n",
      "0145800101 1 [[6.4932981e-05 9.9993503e-01]]\n",
      "1/1 [==============================] - 0s 16ms/step\n",
      "0152170501 1 [[0.2546271  0.74537295]]\n",
      "1/1 [==============================] - 0s 16ms/step\n",
      "0200670101 1 [[3.0477838e-29 1.0000000e+00]]\n",
      "1/1 [==============================] - 0s 15ms/step\n",
      "0200670201 1 [[5.65887e-35 1.00000e+00]]\n",
      "1/1 [==============================] - 0s 15ms/step\n",
      "0200670301 1 [[0.08919936 0.91080064]]\n",
      "1/1 [==============================] - 0s 17ms/step\n",
      "0200670401 1 [[0.00192263 0.9980774 ]]\n",
      "1/1 [==============================] - 0s 17ms/step\n",
      "0200920101 1 [[1.9684920e-05 9.9998033e-01]]\n",
      "1/1 [==============================] - 0s 18ms/step\n",
      "0304190101 1 [[2.991877e-16 1.000000e+00]]\n",
      "1/1 [==============================] - 0s 18ms/step\n",
      "0306630101 1 [[0.00417868 0.99582136]]\n",
      "1/1 [==============================] - 0s 18ms/step\n",
      "0306630201 1 [[0.014208   0.98579204]]\n",
      "1/1 [==============================] - 0s 17ms/step\n",
      "0311190101 0 [[0.86910576 0.13089421]]\n",
      "1/1 [==============================] - 0s 16ms/step\n",
      "0401360101 1 [[0.19783089 0.8021691 ]]\n",
      "1/1 [==============================] - 0s 15ms/step\n",
      "0401360201 1 [[0.02521653 0.9747834 ]]\n",
      "1/1 [==============================] - 0s 16ms/step\n",
      "0401360301 1 [[0.01820058 0.9817994 ]]\n",
      "1/1 [==============================] - 0s 17ms/step\n",
      "0411980101 1 [[0.17576787 0.82423216]]\n",
      "1/1 [==============================] - 0s 17ms/step\n",
      "0411980401 1 [[0.0036629  0.99633706]]\n",
      "1/1 [==============================] - 0s 16ms/step\n",
      "0500730101 1 [[0.00380254 0.99619746]]\n",
      "1/1 [==============================] - 0s 16ms/step\n",
      "0500730201 1 [[0.11955715 0.88044286]]\n",
      "1/1 [==============================] - 0s 16ms/step\n",
      "0510011501 1 [[4.0462912e-22 1.0000000e+00]]\n",
      "1/1 [==============================] - 0s 18ms/step\n",
      "0551450101 1 [[0.12288692 0.8771131 ]]\n",
      "1/1 [==============================] - 0s 17ms/step\n",
      "0551870401 1 [[0.00449805 0.99550194]]\n",
      "1/1 [==============================] - 0s 17ms/step\n",
      "0551870601 1 [[0.03507592 0.9649241 ]]\n",
      "1/1 [==============================] - 0s 16ms/step\n",
      "0556090101 1 [[0.15567534 0.8443247 ]]\n",
      "1/1 [==============================] - 0s 15ms/step\n",
      "0603260201 1 [[1.5184258e-06 9.9999845e-01]]\n",
      "1/1 [==============================] - 0s 16ms/step\n",
      "0651790201 1 [[0.01191475 0.98808527]]\n",
      "1/1 [==============================] - 0s 16ms/step\n",
      "0657820101 0 [[0.5123469  0.48765308]]\n",
      "1/1 [==============================] - 0s 15ms/step\n",
      "0691570101 1 [[0.06177258 0.9382274 ]]\n",
      "1/1 [==============================] - 0s 18ms/step\n",
      "0725200101 0 [[0.8207957  0.17920429]]\n",
      "1/1 [==============================] - 0s 17ms/step\n",
      "0725200301 0 [[0.65017194 0.34982803]]\n",
      "1/1 [==============================] - 0s 17ms/step\n",
      "0740960101 1 [[0.22020978 0.7797902 ]]\n",
      "1/1 [==============================] - 0s 16ms/step\n",
      "0761630101 1 [[5.042216e-11 1.000000e+00]]\n",
      "1/1 [==============================] - 0s 17ms/step\n",
      "0761630201 1 [[1.062906e-07 9.999999e-01]]\n",
      "1/1 [==============================] - 0s 18ms/step\n",
      "0761630301 1 [[2.1526526e-04 9.9978477e-01]]\n",
      "1/1 [==============================] - 0s 18ms/step\n",
      "0784510301 1 [[8.051670e-04 9.991948e-01]]\n",
      "1/1 [==============================] - 0s 15ms/step\n",
      "0790650101 0 [[0.8867128  0.11328716]]\n",
      "1/1 [==============================] - 0s 17ms/step\n",
      "0794581201 1 [[0.16265254 0.83734745]]\n",
      "1/1 [==============================] - 0s 17ms/step\n",
      "0803670501 1 [[0.02891564 0.9710843 ]]\n",
      "1/1 [==============================] - 0s 16ms/step\n",
      "0803670601 1 [[0.04034476 0.95965517]]\n",
      "1/1 [==============================] - 0s 16ms/step\n",
      "0803671001 1 [[0.03803893 0.96196103]]\n",
      "1/1 [==============================] - 0s 17ms/step\n",
      "0803671101 1 [[0.001575 0.998425]]\n",
      "1/1 [==============================] - 0s 16ms/step\n",
      "0805080401 1 [[0.03225017 0.9677498 ]]\n",
      "1/1 [==============================] - 0s 16ms/step\n",
      "0805080501 1 [[0.07414864 0.9258514 ]]\n",
      "1/1 [==============================] - 0s 16ms/step\n",
      "0823680101 1 [[6.779594e-08 9.999999e-01]]\n",
      "1/1 [==============================] - 0s 17ms/step\n",
      "0831790701 1 [[1.5849175e-09 1.0000000e+00]]\n",
      "1/1 [==============================] - 0s 16ms/step\n",
      "0842340201 1 [[0.31094527 0.6890547 ]]\n",
      "1/1 [==============================] - 0s 21ms/step\n",
      "0851180401 1 [[1.6246023e-09 1.0000000e+00]]\n",
      "1/1 [==============================] - 0s 19ms/step\n",
      "0851180501 1 [[5.2492016e-10 1.0000000e+00]]\n",
      "1/1 [==============================] - 0s 16ms/step\n",
      "0861910201 1 [[1.5605503e-10 1.0000000e+00]]\n",
      "1/1 [==============================] - 0s 17ms/step\n",
      "0861910301 0 [[0.75406295 0.2459371 ]]\n",
      "1/1 [==============================] - 0s 18ms/step\n",
      "0862760201 1 [[0.08726548 0.9127345 ]]\n",
      "1/1 [==============================] - 0s 16ms/step\n",
      "0864330101 1 [[1.5452997e-05 9.9998450e-01]]\n",
      "1/1 [==============================] - 0s 17ms/step\n",
      "0864330201 1 [[0.40804854 0.59195143]]\n",
      "1/1 [==============================] - 0s 17ms/step\n",
      "0864330301 1 [[0.22947203 0.770528  ]]\n",
      "1/1 [==============================] - 0s 18ms/step\n",
      "0864330401 1 [[0.45499972 0.5450003 ]]\n",
      "1/1 [==============================] - 0s 15ms/step\n",
      "0864560101 1 [[8.386125e-09 1.000000e+00]]\n",
      "1/1 [==============================] - 0s 16ms/step\n",
      "0870830101 1 [[0.07655405 0.92344594]]\n",
      "1/1 [==============================] - 0s 16ms/step\n",
      "0870830201 1 [[0.01072303 0.989277  ]]\n",
      "1/1 [==============================] - 0s 15ms/step\n",
      "0870830301 1 [[0.0093333 0.9906667]]\n",
      "1/1 [==============================] - 0s 17ms/step\n",
      "0870830401 1 [[0.07524382 0.9247561 ]]\n",
      "1/1 [==============================] - 0s 16ms/step\n",
      "0872390101 1 [[1.9123142e-10 1.0000000e+00]]\n",
      "1/1 [==============================] - 0s 17ms/step\n",
      "0891800601 1 [[6.0624984e-04 9.9939370e-01]]\n",
      "1/1 [==============================] - 0s 16ms/step\n",
      "0893810501 1 [[5.570034e-07 9.999994e-01]]\n"
     ]
    }
   ],
   "source": [
    "for i in range(len(real_test_feats)):\n",
    "    obs_feats = reallc_test_data.iloc[i,:].values\n",
    "    obs_feats = np.expand_dims(np.asarray(list(obs_feats[1:15])),0)\n",
    "    prediction = probability_model.predict(obs_feats)\n",
    "    print(reallc_test_data['ObsID'].values[i],np.argmax(prediction[0]),prediction)"
   ]
  },
  {
   "cell_type": "code",
   "execution_count": 15,
   "id": "fe7188de",
   "metadata": {
    "scrolled": false
   },
   "outputs": [
    {
     "name": "stdout",
     "output_type": "stream",
     "text": [
      "['0093641501' '0093641601' '0093641701' '0111790101' '0112550601'\n",
      " '0112551701' '0124710801' '0145800101' '0152170501' '0200670101'\n",
      " '0200670201' '0200670301' '0200670401' '0200920101' '0304190101'\n",
      " '0306630101' '0306630201' '0311190101' '0401360101' '0401360201'\n",
      " '0401360301' '0411980101' '0411980401' '0500730101' '0500730201'\n",
      " '0510011501' '0551450101' '0551870401' '0551870601' '0556090101'\n",
      " '0603260201' '0651790201' '0657820101' '0691570101' '0725200101'\n",
      " '0725200301' '0740960101' '0761630101' '0761630201' '0761630301'\n",
      " '0784510301' '0790650101' '0794581201' '0803670501' '0803670601'\n",
      " '0803671001' '0803671101' '0805080401' '0805080501' '0823680101'\n",
      " '0831790701' '0842340201' '0851180401' '0851180501' '0861910201'\n",
      " '0861910301' '0862760201' '0864330101' '0864330201' '0864330301'\n",
      " '0864330401' '0864560101' '0870830101' '0870830201' '0870830301'\n",
      " '0870830401' '0872390101' '0891800601' '0893810501']\n"
     ]
    }
   ],
   "source": [
    "print(reallc_test_data['ObsID'].values)"
   ]
  },
  {
   "cell_type": "code",
   "execution_count": 16,
   "id": "70803254",
   "metadata": {
    "scrolled": false
   },
   "outputs": [
    {
     "name": "stdout",
     "output_type": "stream",
     "text": [
      "1/1 [==============================] - 0s 16ms/step\n"
     ]
    },
    {
     "ename": "FileNotFoundError",
     "evalue": "[Errno 2] No such file or directory: '/Users/do19150/Gits/ML_QPE/Obs/0862760201_.2-2.0_t10_pn_filt.lc'",
     "output_type": "error",
     "traceback": [
      "\u001b[0;31m---------------------------------------------------------------------------\u001b[0m",
      "\u001b[0;31mFileNotFoundError\u001b[0m                         Traceback (most recent call last)",
      "Input \u001b[0;32mIn [16]\u001b[0m, in \u001b[0;36m<cell line: 5>\u001b[0;34m()\u001b[0m\n\u001b[1;32m      3\u001b[0m obs_features\u001b[38;5;241m.\u001b[39mshape\n\u001b[1;32m      4\u001b[0m prediction \u001b[38;5;241m=\u001b[39m probability_model\u001b[38;5;241m.\u001b[39mpredict(obs_features)\n\u001b[0;32m----> 5\u001b[0m lc \u001b[38;5;241m=\u001b[39m \u001b[43mXMMtolc\u001b[49m\u001b[43m(\u001b[49m\u001b[38;5;124;43m'\u001b[39;49m\u001b[38;5;124;43m/Users/do19150/Gits/ML_QPE/Obs/\u001b[39;49m\u001b[38;5;124;43m'\u001b[39;49m\u001b[38;5;241;43m+\u001b[39;49m\u001b[43mobs\u001b[49m\u001b[38;5;241;43m+\u001b[39;49m\u001b[38;5;124;43m'\u001b[39;49m\u001b[38;5;124;43m_.2-2.0_t10_pn_filt.lc\u001b[39;49m\u001b[38;5;124;43m'\u001b[39;49m\u001b[43m,\u001b[49m\u001b[43mt_bin\u001b[49m\u001b[38;5;241;43m=\u001b[39;49m\u001b[38;5;241;43m10\u001b[39;49m\u001b[43m)\u001b[49m\n\u001b[1;32m      6\u001b[0m lc\u001b[38;5;241m.\u001b[39mshift(\u001b[38;5;241m-\u001b[39mlc\u001b[38;5;241m.\u001b[39mtime[\u001b[38;5;241m0\u001b[39m])\u001b[38;5;241m.\u001b[39mrebin(\u001b[38;5;241m50\u001b[39m)\u001b[38;5;241m.\u001b[39mplot()\n\u001b[1;32m      7\u001b[0m \u001b[38;5;28mprint\u001b[39m(prediction)\n",
      "File \u001b[0;32m~/Gits/Analysis_Funcs/General/fitsloader.py:27\u001b[0m, in \u001b[0;36mXMMtolc\u001b[0;34m(fname, gti, t_bin)\u001b[0m\n\u001b[1;32m     22\u001b[0m \u001b[38;5;28;01mdef\u001b[39;00m \u001b[38;5;21mXMMtolc\u001b[39m(fname,gti\u001b[38;5;241m=\u001b[39m\u001b[38;5;28;01mTrue\u001b[39;00m,t_bin\u001b[38;5;241m=\u001b[39m\u001b[38;5;28;01mFalse\u001b[39;00m):\n\u001b[1;32m     23\u001b[0m     \u001b[38;5;124;03m'''\u001b[39;00m\n\u001b[1;32m     24\u001b[0m \u001b[38;5;124;03m    Function for importing xmm observations into stingray lightcurve objects.\u001b[39;00m\n\u001b[1;32m     25\u001b[0m \u001b[38;5;124;03m    '''\u001b[39;00m\n\u001b[0;32m---> 27\u001b[0m     data \u001b[38;5;241m=\u001b[39m \u001b[43mfits\u001b[49m\u001b[38;5;241;43m.\u001b[39;49m\u001b[43mopen\u001b[49m\u001b[43m(\u001b[49m\u001b[43mfname\u001b[49m\u001b[43m)\u001b[49m\n\u001b[1;32m     28\u001b[0m     time \u001b[38;5;241m=\u001b[39m data[\u001b[38;5;241m1\u001b[39m]\u001b[38;5;241m.\u001b[39mdata\u001b[38;5;241m.\u001b[39mfield(\u001b[38;5;124m'\u001b[39m\u001b[38;5;124mTIME\u001b[39m\u001b[38;5;124m'\u001b[39m)\n\u001b[1;32m     29\u001b[0m     rate \u001b[38;5;241m=\u001b[39m data[\u001b[38;5;241m1\u001b[39m]\u001b[38;5;241m.\u001b[39mdata\u001b[38;5;241m.\u001b[39mfield(\u001b[38;5;124m'\u001b[39m\u001b[38;5;124mRATE\u001b[39m\u001b[38;5;124m'\u001b[39m)\n",
      "File \u001b[0;32m~/opt/anaconda3/lib/python3.8/site-packages/astropy/io/fits/hdu/hdulist.py:175\u001b[0m, in \u001b[0;36mfitsopen\u001b[0;34m(name, mode, memmap, save_backup, cache, lazy_load_hdus, ignore_missing_simple, **kwargs)\u001b[0m\n\u001b[1;32m    172\u001b[0m \u001b[38;5;28;01mif\u001b[39;00m \u001b[38;5;129;01mnot\u001b[39;00m name:\n\u001b[1;32m    173\u001b[0m     \u001b[38;5;28;01mraise\u001b[39;00m \u001b[38;5;167;01mValueError\u001b[39;00m(\u001b[38;5;124mf\u001b[39m\u001b[38;5;124m'\u001b[39m\u001b[38;5;124mEmpty filename: \u001b[39m\u001b[38;5;132;01m{\u001b[39;00mname\u001b[38;5;132;01m!r}\u001b[39;00m\u001b[38;5;124m'\u001b[39m)\n\u001b[0;32m--> 175\u001b[0m \u001b[38;5;28;01mreturn\u001b[39;00m \u001b[43mHDUList\u001b[49m\u001b[38;5;241;43m.\u001b[39;49m\u001b[43mfromfile\u001b[49m\u001b[43m(\u001b[49m\u001b[43mname\u001b[49m\u001b[43m,\u001b[49m\u001b[43m \u001b[49m\u001b[43mmode\u001b[49m\u001b[43m,\u001b[49m\u001b[43m \u001b[49m\u001b[43mmemmap\u001b[49m\u001b[43m,\u001b[49m\u001b[43m \u001b[49m\u001b[43msave_backup\u001b[49m\u001b[43m,\u001b[49m\u001b[43m \u001b[49m\u001b[43mcache\u001b[49m\u001b[43m,\u001b[49m\n\u001b[1;32m    176\u001b[0m \u001b[43m                        \u001b[49m\u001b[43mlazy_load_hdus\u001b[49m\u001b[43m,\u001b[49m\u001b[43m \u001b[49m\u001b[43mignore_missing_simple\u001b[49m\u001b[43m,\u001b[49m\u001b[43m \u001b[49m\u001b[38;5;241;43m*\u001b[39;49m\u001b[38;5;241;43m*\u001b[39;49m\u001b[43mkwargs\u001b[49m\u001b[43m)\u001b[49m\n",
      "File \u001b[0;32m~/opt/anaconda3/lib/python3.8/site-packages/astropy/io/fits/hdu/hdulist.py:410\u001b[0m, in \u001b[0;36mHDUList.fromfile\u001b[0;34m(cls, fileobj, mode, memmap, save_backup, cache, lazy_load_hdus, ignore_missing_simple, **kwargs)\u001b[0m\n\u001b[1;32m    398\u001b[0m \u001b[38;5;129m@classmethod\u001b[39m\n\u001b[1;32m    399\u001b[0m \u001b[38;5;28;01mdef\u001b[39;00m \u001b[38;5;21mfromfile\u001b[39m(\u001b[38;5;28mcls\u001b[39m, fileobj, mode\u001b[38;5;241m=\u001b[39m\u001b[38;5;28;01mNone\u001b[39;00m, memmap\u001b[38;5;241m=\u001b[39m\u001b[38;5;28;01mNone\u001b[39;00m,\n\u001b[1;32m    400\u001b[0m              save_backup\u001b[38;5;241m=\u001b[39m\u001b[38;5;28;01mFalse\u001b[39;00m, cache\u001b[38;5;241m=\u001b[39m\u001b[38;5;28;01mTrue\u001b[39;00m, lazy_load_hdus\u001b[38;5;241m=\u001b[39m\u001b[38;5;28;01mTrue\u001b[39;00m,\n\u001b[1;32m    401\u001b[0m              ignore_missing_simple\u001b[38;5;241m=\u001b[39m\u001b[38;5;28;01mFalse\u001b[39;00m, \u001b[38;5;241m*\u001b[39m\u001b[38;5;241m*\u001b[39mkwargs):\n\u001b[1;32m    402\u001b[0m     \u001b[38;5;124;03m\"\"\"\u001b[39;00m\n\u001b[1;32m    403\u001b[0m \u001b[38;5;124;03m    Creates an `HDUList` instance from a file-like object.\u001b[39;00m\n\u001b[1;32m    404\u001b[0m \n\u001b[0;32m   (...)\u001b[0m\n\u001b[1;32m    407\u001b[0m \u001b[38;5;124;03m    documentation for details of the parameters accepted by this method).\u001b[39;00m\n\u001b[1;32m    408\u001b[0m \u001b[38;5;124;03m    \"\"\"\u001b[39;00m\n\u001b[0;32m--> 410\u001b[0m     \u001b[38;5;28;01mreturn\u001b[39;00m \u001b[38;5;28;43mcls\u001b[39;49m\u001b[38;5;241;43m.\u001b[39;49m\u001b[43m_readfrom\u001b[49m\u001b[43m(\u001b[49m\u001b[43mfileobj\u001b[49m\u001b[38;5;241;43m=\u001b[39;49m\u001b[43mfileobj\u001b[49m\u001b[43m,\u001b[49m\u001b[43m \u001b[49m\u001b[43mmode\u001b[49m\u001b[38;5;241;43m=\u001b[39;49m\u001b[43mmode\u001b[49m\u001b[43m,\u001b[49m\u001b[43m \u001b[49m\u001b[43mmemmap\u001b[49m\u001b[38;5;241;43m=\u001b[39;49m\u001b[43mmemmap\u001b[49m\u001b[43m,\u001b[49m\n\u001b[1;32m    411\u001b[0m \u001b[43m                         \u001b[49m\u001b[43msave_backup\u001b[49m\u001b[38;5;241;43m=\u001b[39;49m\u001b[43msave_backup\u001b[49m\u001b[43m,\u001b[49m\u001b[43m \u001b[49m\u001b[43mcache\u001b[49m\u001b[38;5;241;43m=\u001b[39;49m\u001b[43mcache\u001b[49m\u001b[43m,\u001b[49m\n\u001b[1;32m    412\u001b[0m \u001b[43m                         \u001b[49m\u001b[43mignore_missing_simple\u001b[49m\u001b[38;5;241;43m=\u001b[39;49m\u001b[43mignore_missing_simple\u001b[49m\u001b[43m,\u001b[49m\n\u001b[1;32m    413\u001b[0m \u001b[43m                         \u001b[49m\u001b[43mlazy_load_hdus\u001b[49m\u001b[38;5;241;43m=\u001b[39;49m\u001b[43mlazy_load_hdus\u001b[49m\u001b[43m,\u001b[49m\u001b[43m \u001b[49m\u001b[38;5;241;43m*\u001b[39;49m\u001b[38;5;241;43m*\u001b[39;49m\u001b[43mkwargs\u001b[49m\u001b[43m)\u001b[49m\n",
      "File \u001b[0;32m~/opt/anaconda3/lib/python3.8/site-packages/astropy/io/fits/hdu/hdulist.py:1060\u001b[0m, in \u001b[0;36mHDUList._readfrom\u001b[0;34m(cls, fileobj, data, mode, memmap, cache, lazy_load_hdus, ignore_missing_simple, **kwargs)\u001b[0m\n\u001b[1;32m   1057\u001b[0m \u001b[38;5;28;01mif\u001b[39;00m fileobj \u001b[38;5;129;01mis\u001b[39;00m \u001b[38;5;129;01mnot\u001b[39;00m \u001b[38;5;28;01mNone\u001b[39;00m:\n\u001b[1;32m   1058\u001b[0m     \u001b[38;5;28;01mif\u001b[39;00m \u001b[38;5;129;01mnot\u001b[39;00m \u001b[38;5;28misinstance\u001b[39m(fileobj, _File):\n\u001b[1;32m   1059\u001b[0m         \u001b[38;5;66;03m# instantiate a FITS file object (ffo)\u001b[39;00m\n\u001b[0;32m-> 1060\u001b[0m         fileobj \u001b[38;5;241m=\u001b[39m \u001b[43m_File\u001b[49m\u001b[43m(\u001b[49m\u001b[43mfileobj\u001b[49m\u001b[43m,\u001b[49m\u001b[43m \u001b[49m\u001b[43mmode\u001b[49m\u001b[38;5;241;43m=\u001b[39;49m\u001b[43mmode\u001b[49m\u001b[43m,\u001b[49m\u001b[43m \u001b[49m\u001b[43mmemmap\u001b[49m\u001b[38;5;241;43m=\u001b[39;49m\u001b[43mmemmap\u001b[49m\u001b[43m,\u001b[49m\u001b[43m \u001b[49m\u001b[43mcache\u001b[49m\u001b[38;5;241;43m=\u001b[39;49m\u001b[43mcache\u001b[49m\u001b[43m)\u001b[49m\n\u001b[1;32m   1061\u001b[0m     \u001b[38;5;66;03m# The Astropy mode is determined by the _File initializer if the\u001b[39;00m\n\u001b[1;32m   1062\u001b[0m     \u001b[38;5;66;03m# supplied mode was None\u001b[39;00m\n\u001b[1;32m   1063\u001b[0m     mode \u001b[38;5;241m=\u001b[39m fileobj\u001b[38;5;241m.\u001b[39mmode\n",
      "File \u001b[0;32m~/opt/anaconda3/lib/python3.8/site-packages/astropy/io/fits/file.py:170\u001b[0m, in \u001b[0;36m_File.__init__\u001b[0;34m(self, fileobj, mode, memmap, overwrite, cache)\u001b[0m\n\u001b[1;32m    168\u001b[0m     \u001b[38;5;28mself\u001b[39m\u001b[38;5;241m.\u001b[39m_open_fileobj(fileobj, mode, overwrite)\n\u001b[1;32m    169\u001b[0m \u001b[38;5;28;01melif\u001b[39;00m \u001b[38;5;28misinstance\u001b[39m(fileobj, (\u001b[38;5;28mstr\u001b[39m, \u001b[38;5;28mbytes\u001b[39m)):\n\u001b[0;32m--> 170\u001b[0m     \u001b[38;5;28;43mself\u001b[39;49m\u001b[38;5;241;43m.\u001b[39;49m\u001b[43m_open_filename\u001b[49m\u001b[43m(\u001b[49m\u001b[43mfileobj\u001b[49m\u001b[43m,\u001b[49m\u001b[43m \u001b[49m\u001b[43mmode\u001b[49m\u001b[43m,\u001b[49m\u001b[43m \u001b[49m\u001b[43moverwrite\u001b[49m\u001b[43m)\u001b[49m\n\u001b[1;32m    171\u001b[0m \u001b[38;5;28;01melse\u001b[39;00m:\n\u001b[1;32m    172\u001b[0m     \u001b[38;5;28mself\u001b[39m\u001b[38;5;241m.\u001b[39m_open_filelike(fileobj, mode, overwrite)\n",
      "File \u001b[0;32m~/opt/anaconda3/lib/python3.8/site-packages/astropy/io/fits/file.py:562\u001b[0m, in \u001b[0;36m_File._open_filename\u001b[0;34m(self, filename, mode, overwrite)\u001b[0m\n\u001b[1;32m    559\u001b[0m ext \u001b[38;5;241m=\u001b[39m os\u001b[38;5;241m.\u001b[39mpath\u001b[38;5;241m.\u001b[39msplitext(\u001b[38;5;28mself\u001b[39m\u001b[38;5;241m.\u001b[39mname)[\u001b[38;5;241m1\u001b[39m]\n\u001b[1;32m    561\u001b[0m \u001b[38;5;28;01mif\u001b[39;00m \u001b[38;5;129;01mnot\u001b[39;00m \u001b[38;5;28mself\u001b[39m\u001b[38;5;241m.\u001b[39m_try_read_compressed(\u001b[38;5;28mself\u001b[39m\u001b[38;5;241m.\u001b[39mname, magic, mode, ext\u001b[38;5;241m=\u001b[39mext):\n\u001b[0;32m--> 562\u001b[0m     \u001b[38;5;28mself\u001b[39m\u001b[38;5;241m.\u001b[39m_file \u001b[38;5;241m=\u001b[39m \u001b[38;5;28;43mopen\u001b[39;49m\u001b[43m(\u001b[49m\u001b[38;5;28;43mself\u001b[39;49m\u001b[38;5;241;43m.\u001b[39;49m\u001b[43mname\u001b[49m\u001b[43m,\u001b[49m\u001b[43m \u001b[49m\u001b[43mIO_FITS_MODES\u001b[49m\u001b[43m[\u001b[49m\u001b[43mmode\u001b[49m\u001b[43m]\u001b[49m\u001b[43m)\u001b[49m\n\u001b[1;32m    563\u001b[0m     \u001b[38;5;28mself\u001b[39m\u001b[38;5;241m.\u001b[39mclose_on_error \u001b[38;5;241m=\u001b[39m \u001b[38;5;28;01mTrue\u001b[39;00m\n\u001b[1;32m    565\u001b[0m \u001b[38;5;66;03m# Make certain we're back at the beginning of the file\u001b[39;00m\n\u001b[1;32m    566\u001b[0m \u001b[38;5;66;03m# BZ2File does not support seek when the file is open for writing, but\u001b[39;00m\n\u001b[1;32m    567\u001b[0m \u001b[38;5;66;03m# when opening a file for write, bz2.BZ2File always truncates anyway.\u001b[39;00m\n",
      "\u001b[0;31mFileNotFoundError\u001b[0m: [Errno 2] No such file or directory: '/Users/do19150/Gits/ML_QPE/Obs/0862760201_.2-2.0_t10_pn_filt.lc'"
     ]
    }
   ],
   "source": [
    "obs = '0862760201'\n",
    "obs_features = np.asarray(reallc_test_data.iloc[np.where(reallc_test_data['ObsID'].values == obs)[0],1:15].values)\n",
    "obs_features.shape\n",
    "prediction = probability_model.predict(obs_features)\n",
    "lc = XMMtolc('/Users/do19150/Gits/ML_QPE/Obs/'+obs+'_.2-2.0_t10_pn_filt.lc',t_bin=10)\n",
    "lc.shift(-lc.time[0]).rebin(50).plot()\n",
    "print(prediction)"
   ]
  }
 ],
 "metadata": {
  "kernelspec": {
   "display_name": "Python 3 (ipykernel)",
   "language": "python",
   "name": "python3"
  },
  "language_info": {
   "codemirror_mode": {
    "name": "ipython",
    "version": 3
   },
   "file_extension": ".py",
   "mimetype": "text/x-python",
   "name": "python",
   "nbconvert_exporter": "python",
   "pygments_lexer": "ipython3",
   "version": "3.8.13"
  }
 },
 "nbformat": 4,
 "nbformat_minor": 5
}
