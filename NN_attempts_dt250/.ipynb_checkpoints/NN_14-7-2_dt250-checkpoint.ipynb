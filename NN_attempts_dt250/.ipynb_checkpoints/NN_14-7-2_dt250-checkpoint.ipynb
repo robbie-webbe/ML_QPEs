{
 "cells": [
  {
   "cell_type": "code",
   "execution_count": 1,
   "id": "35f30682",
   "metadata": {
    "scrolled": false
   },
   "outputs": [
    {
     "name": "stderr",
     "output_type": "stream",
     "text": [
      "/Users/do19150/opt/anaconda3/lib/python3.8/site-packages/stingray/utils.py:24: UserWarning: Numba not installed. Faking it\n",
      "  warnings.warn(\"Numba not installed. Faking it\")\n",
      "/Users/do19150/opt/anaconda3/lib/python3.8/site-packages/stingray/largememory.py:25: UserWarning: Large Datasets may not be processed efficiently due to computational constraints\n",
      "  warnings.warn(\n",
      "/Users/do19150/opt/anaconda3/lib/python3.8/site-packages/stingray/crossspectrum.py:28: UserWarning: pyfftw not installed. Using standard scipy fft\n",
      "  warnings.warn(\"pyfftw not installed. Using standard scipy fft\")\n",
      "/Users/do19150/opt/anaconda3/lib/python3.8/site-packages/stingray/crosscorrelation.py:8: UserWarning: pyfftw not installed. Using standard scipy fft\n",
      "  warnings.warn(\"pyfftw not installed. Using standard scipy fft\")\n",
      "/Users/do19150/opt/anaconda3/lib/python3.8/site-packages/stingray/bispectrum.py:10: UserWarning: pyfftw not installed. Using standard scipy fft\n",
      "  warnings.warn(\"pyfftw not installed. Using standard scipy fft\")\n"
     ]
    }
   ],
   "source": [
    "import numpy as np\n",
    "import pandas as pd\n",
    "import tensorflow as tf\n",
    "from random import sample, shuffle\n",
    "import sys\n",
    "\n",
    "sys.path.append('/Users/do19150/Gits/Analysis_Funcs/General/')\n",
    "from fitsloader import XMMtolc\n",
    "\n",
    "train_val_data = np.loadtxt('/Users/do19150/Gits/ML_QPE/Features/train_val_data_dt250.csv',delimiter=',')\n",
    "simlc_test_data = np.loadtxt('/Users/do19150/Gits/ML_QPE/Features/simtest_data_dt250.csv',delimiter=',')\n",
    "reallc_test_data = pd.read_csv('/Users/do19150/Gits/ML_QPE/Features/realobs_test_data_dt250.0.csv',dtype='object')\n",
    "reallc_test_data = reallc_test_data.astype({'STD/Mean':'float','Prop > 1STD':'float','Prop > 2STD':'float','Prop > 3STD':'float',\n",
    "                        'Prop > 4STD':'float','Prop > 5STD':'float','Prop > 6STD':'float',\n",
    "                        'IQR/STD':'float','Skew':'float','Kurtosis':'float','Rev CCF':'float',\n",
    "                        '2nd ACF':'float','CSSD':'float','Von Neumann Ratio':'float','QPE?':'float'})"
   ]
  },
  {
   "cell_type": "code",
   "execution_count": 2,
   "id": "f3d2045c",
   "metadata": {},
   "outputs": [
    {
     "name": "stdout",
     "output_type": "stream",
     "text": [
      "(90000, 15) (10000, 15)\n",
      "(66, 16) Index(['ObsID', 'STD/Mean', 'Prop > 1STD', 'Prop > 2STD', 'Prop > 3STD',\n",
      "       'Prop > 4STD', 'Prop > 5STD', 'Prop > 6STD', 'IQR/STD', 'Skew',\n",
      "       'Kurtosis', 'Rev CCF', '2nd ACF', 'CSSD', 'Von Neumann Ratio', 'QPE?'],\n",
      "      dtype='object')\n"
     ]
    }
   ],
   "source": [
    "print(train_val_data.shape,simlc_test_data.shape)\n",
    "print(reallc_test_data.shape,reallc_test_data.columns)"
   ]
  },
  {
   "cell_type": "code",
   "execution_count": 3,
   "id": "9b2582d1",
   "metadata": {
    "scrolled": false
   },
   "outputs": [],
   "source": [
    "#split the train/validation data 80%/20% into training and validation\n",
    "\n",
    "index_range = list(np.arange(len(train_val_data)))\n",
    "train_indices = sorted(sample(index_range,int(0.8*len(index_range))))\n",
    "valid_indices = index_range\n",
    "for i in train_indices:\n",
    "    valid_indices.remove(i)"
   ]
  },
  {
   "cell_type": "code",
   "execution_count": 4,
   "id": "94778286",
   "metadata": {},
   "outputs": [],
   "source": [
    "# print(len(train_indices),train_indices[0:20])\n",
    "# print(len(valid_indices),valid_indices[0:10])"
   ]
  },
  {
   "cell_type": "code",
   "execution_count": 5,
   "id": "85a5e1ef",
   "metadata": {},
   "outputs": [],
   "source": [
    "#create the feature sets\n",
    "training_data = train_val_data[train_indices]\n",
    "valid_data = train_val_data[valid_indices]"
   ]
  },
  {
   "cell_type": "code",
   "execution_count": 6,
   "id": "8f442c0e",
   "metadata": {},
   "outputs": [],
   "source": [
    "#separate the training and validaiton features and labels\n",
    "\n",
    "input_data = []\n",
    "input_labels = []\n",
    "for i in range(len(training_data)):\n",
    "    input_data.append(list(training_data[i][0:14]))\n",
    "    input_labels.append([training_data[i][14]])\n",
    "    \n",
    "check_data = []\n",
    "check_labels = []\n",
    "for i in range(len(valid_data)):\n",
    "    check_data.append(list(valid_data[i][0:14]))\n",
    "    check_labels.append([valid_data[i][14]])"
   ]
  },
  {
   "cell_type": "code",
   "execution_count": 7,
   "id": "f82e2b5c",
   "metadata": {},
   "outputs": [
    {
     "name": "stdout",
     "output_type": "stream",
     "text": [
      "72000 14 72000 1\n",
      "18000 14 18000 1\n"
     ]
    }
   ],
   "source": [
    "print(len(input_data),len(input_data[0]),len(input_labels),len(input_labels[0]))\n",
    "print(len(check_data),len(check_data[0]),len(check_labels),len(check_labels[0]))"
   ]
  },
  {
   "cell_type": "code",
   "execution_count": 8,
   "id": "39b9c945",
   "metadata": {},
   "outputs": [
    {
     "name": "stderr",
     "output_type": "stream",
     "text": [
      "2022-09-06 12:44:01.937256: I tensorflow/core/platform/cpu_feature_guard.cc:142] This TensorFlow binary is optimized with oneAPI Deep Neural Network Library (oneDNN) to use the following CPU instructions in performance-critical operations:  SSE4.1 SSE4.2 AVX AVX2 FMA\n",
      "To enable them in other operations, rebuild TensorFlow with the appropriate compiler flags.\n",
      "2022-09-06 12:44:04.291503: I tensorflow/compiler/mlir/mlir_graph_optimization_pass.cc:116] None of the MLIR optimization passes are enabled (registered 2)\n"
     ]
    },
    {
     "name": "stdout",
     "output_type": "stream",
     "text": [
      "Epoch 1/10\n",
      "2250/2250 [==============================] - 1s 503us/step - loss: 3.1845 - accuracy: 0.8183\n",
      "Epoch 2/10\n",
      "2250/2250 [==============================] - 1s 497us/step - loss: 0.2462 - accuracy: 0.9199\n",
      "Epoch 3/10\n",
      "2250/2250 [==============================] - 1s 499us/step - loss: 0.2393 - accuracy: 0.9220\n",
      "Epoch 4/10\n",
      "2250/2250 [==============================] - 1s 500us/step - loss: 0.2320 - accuracy: 0.9255\n",
      "Epoch 5/10\n",
      "2250/2250 [==============================] - 1s 532us/step - loss: 0.2284 - accuracy: 0.9278\n",
      "Epoch 6/10\n",
      "2250/2250 [==============================] - 1s 552us/step - loss: 0.2306 - accuracy: 0.9275\n",
      "Epoch 7/10\n",
      "2250/2250 [==============================] - 1s 508us/step - loss: 0.2231 - accuracy: 0.9290\n",
      "Epoch 8/10\n",
      "2250/2250 [==============================] - 1s 501us/step - loss: 0.2172 - accuracy: 0.9307\n",
      "Epoch 9/10\n",
      "2250/2250 [==============================] - 1s 497us/step - loss: 0.2192 - accuracy: 0.9297\n",
      "Epoch 10/10\n",
      "2250/2250 [==============================] - 1s 499us/step - loss: 0.2122 - accuracy: 0.9319\n",
      "563/563 - 0s - loss: 0.2012 - accuracy: 0.9360\n",
      "\n",
      "Validation accuracy: 0.9359999895095825\n"
     ]
    }
   ],
   "source": [
    "model = tf.keras.Sequential([\n",
    "    tf.keras.layers.Dense(14, activation='relu'),\n",
    "    tf.keras.layers.Dense(7),\n",
    "    tf.keras.layers.Dense(2),\n",
    "])\n",
    "model.compile(optimizer='adam',\n",
    "              loss=tf.keras.losses.SparseCategoricalCrossentropy(from_logits=True),\n",
    "              metrics=['accuracy'])\n",
    "model.fit(input_data, input_labels, epochs=10)\n",
    "test_loss, test_acc = model.evaluate(check_data,  check_labels, verbose=2)\n",
    "\n",
    "print('\\nValidation accuracy:', test_acc)"
   ]
  },
  {
   "cell_type": "code",
   "execution_count": 9,
   "id": "eb55d3d6",
   "metadata": {},
   "outputs": [
    {
     "name": "stdout",
     "output_type": "stream",
     "text": [
      "10000 14 10000 1\n"
     ]
    }
   ],
   "source": [
    "#make predictions on simulated test data\n",
    "sim_test_feats = []\n",
    "sim_test_labels = []\n",
    "for i in range(len(simlc_test_data)):\n",
    "    sim_test_feats.append(list(simlc_test_data[i][0:14]))\n",
    "    sim_test_labels.append([simlc_test_data[i][14]])\n",
    "    \n",
    "print(len(sim_test_feats),len(sim_test_feats[0]),len(sim_test_labels),len(sim_test_labels[0]))"
   ]
  },
  {
   "cell_type": "code",
   "execution_count": 10,
   "id": "eb1d8529",
   "metadata": {},
   "outputs": [
    {
     "name": "stdout",
     "output_type": "stream",
     "text": [
      "313/313 - 0s - loss: 0.2047 - accuracy: 0.9346\n",
      "\n",
      "Validation accuracy: 0.9345999956130981\n"
     ]
    }
   ],
   "source": [
    "test_loss, test_acc = model.evaluate(sim_test_feats,  sim_test_labels, verbose=2)\n",
    "\n",
    "print('\\nValidation accuracy:', test_acc)"
   ]
  },
  {
   "cell_type": "code",
   "execution_count": 11,
   "id": "b54b6496",
   "metadata": {},
   "outputs": [
    {
     "name": "stdout",
     "output_type": "stream",
     "text": [
      "66 14 66 1\n"
     ]
    }
   ],
   "source": [
    "#make predictions on real test data\n",
    "real_test_feats = []\n",
    "real_test_labels = []\n",
    "for i in range(len(reallc_test_data)):\n",
    "    real_test_feats.append(list(reallc_test_data.iloc[i,1:15].values))\n",
    "    real_test_labels.append([reallc_test_data.iloc[i,15]])\n",
    "    \n",
    "print(len(real_test_feats),len(real_test_feats[0]),len(real_test_labels),len(real_test_labels[0]))"
   ]
  },
  {
   "cell_type": "code",
   "execution_count": 12,
   "id": "6311f41f",
   "metadata": {},
   "outputs": [
    {
     "name": "stdout",
     "output_type": "stream",
     "text": [
      "3/3 - 0s - loss: 14.5721 - accuracy: 0.1667\n",
      "\n",
      "Validation accuracy: 0.1666666716337204\n"
     ]
    }
   ],
   "source": [
    "test_loss, test_acc = model.evaluate(real_test_feats,  real_test_labels, verbose=2)\n",
    "\n",
    "print('\\nValidation accuracy:', test_acc)"
   ]
  },
  {
   "cell_type": "code",
   "execution_count": 13,
   "id": "9ebf95ab",
   "metadata": {},
   "outputs": [],
   "source": [
    "probability_model = tf.keras.Sequential([model, tf.keras.layers.Softmax()])"
   ]
  },
  {
   "cell_type": "code",
   "execution_count": 14,
   "id": "8ce0afcd",
   "metadata": {
    "scrolled": true
   },
   "outputs": [
    {
     "name": "stdout",
     "output_type": "stream",
     "text": [
      "0111790101 1 [[0.01422038 0.98577964]]\n",
      "0112550601 1 [[3.8359757e-14 1.0000000e+00]]\n",
      "0112551701 1 [[0.00185627 0.9981438 ]]\n",
      "0124710801 1 [[6.1157557e-13 1.0000000e+00]]\n",
      "0145800101 1 [[2.7304103e-11 1.0000000e+00]]\n",
      "0152170501 1 [[1.316671e-07 9.999999e-01]]\n",
      "0200670101 1 [[5.600702e-09 1.000000e+00]]\n",
      "0200670201 1 [[4.712027e-10 1.000000e+00]]\n",
      "0200670301 1 [[1.4427212e-12 1.0000000e+00]]\n",
      "0200670401 1 [[9.1740455e-09 1.0000000e+00]]\n",
      "0200920101 1 [[1.2502947e-11 1.0000000e+00]]\n",
      "0304190101 1 [[2.308774e-13 1.000000e+00]]\n",
      "0306630101 1 [[0.00189937 0.9981007 ]]\n",
      "0306630201 1 [[6.325024e-05 9.999367e-01]]\n",
      "0311190101 1 [[0.2965681 0.7034319]]\n",
      "0401360101 1 [[3.5764572e-10 1.0000000e+00]]\n",
      "0401360201 1 [[1.2660026e-08 1.0000000e+00]]\n",
      "0401360301 1 [[2.1483468e-06 9.9999785e-01]]\n",
      "0411980101 1 [[5.8303137e-08 1.0000000e+00]]\n",
      "0411980401 1 [[6.0785044e-07 9.9999940e-01]]\n",
      "0500730101 1 [[3.016872e-09 1.000000e+00]]\n",
      "0500730201 1 [[1.5946648e-07 9.9999988e-01]]\n",
      "0510011501 1 [[1.8816782e-15 1.0000000e+00]]\n",
      "0551450101 1 [[1.5106993e-08 1.0000000e+00]]\n",
      "0551870401 1 [[4.0866884e-13 1.0000000e+00]]\n",
      "0551870601 1 [[4.3350855e-08 1.0000000e+00]]\n",
      "0556090101 1 [[3.3068908e-08 1.0000000e+00]]\n",
      "0603260201 1 [[6.3474923e-09 1.0000000e+00]]\n",
      "0651790201 1 [[6.708656e-11 1.000000e+00]]\n",
      "0657820101 1 [[0.00289898 0.997101  ]]\n",
      "0691570101 1 [[2.0520324e-10 1.0000000e+00]]\n",
      "0725200101 1 [[0.32789052 0.6721095 ]]\n",
      "0725200301 1 [[0.27897558 0.72102445]]\n",
      "0740960101 1 [[6.350183e-07 9.999994e-01]]\n",
      "0761630101 1 [[4.46889e-09 1.00000e+00]]\n",
      "0761630201 1 [[2.2445557e-12 1.0000000e+00]]\n",
      "0761630301 1 [[4.6810907e-08 1.0000000e+00]]\n",
      "0784510301 1 [[4.946337e-09 1.000000e+00]]\n",
      "0790650101 1 [[0.48488018 0.51511985]]\n",
      "0794581201 1 [[6.474139e-10 1.000000e+00]]\n",
      "0803670501 1 [[3.1611422e-09 1.0000000e+00]]\n",
      "0803670601 1 [[1.2990561e-09 1.0000000e+00]]\n",
      "0803671001 1 [[2.610965e-09 1.000000e+00]]\n",
      "0803671101 1 [[1.11356115e-07 9.99999881e-01]]\n",
      "0805080401 1 [[7.350187e-08 9.999999e-01]]\n",
      "0805080501 1 [[9.692977e-09 1.000000e+00]]\n",
      "0823680101 1 [[4.039322e-10 1.000000e+00]]\n",
      "0831790701 1 [[1.8430543e-10 1.0000000e+00]]\n",
      "0842340201 1 [[1.0023543e-08 1.0000000e+00]]\n",
      "0851180401 1 [[1.6591934e-09 1.0000000e+00]]\n",
      "0851180501 1 [[6.509788e-10 1.000000e+00]]\n",
      "0861910201 1 [[2.162813e-12 1.000000e+00]]\n",
      "0861910301 0 [[0.7275439 0.2724561]]\n",
      "0862760201 1 [[6.3333093e-12 1.0000000e+00]]\n",
      "0864330101 1 [[2.5177562e-12 1.0000000e+00]]\n",
      "0864330201 1 [[5.628527e-08 1.000000e+00]]\n",
      "0864330301 1 [[5.824767e-07 9.999994e-01]]\n",
      "0864330401 1 [[2.7546828e-05 9.9997246e-01]]\n",
      "0864560101 1 [[5.202606e-09 1.000000e+00]]\n",
      "0870830101 1 [[9.899181e-11 1.000000e+00]]\n",
      "0870830201 1 [[4.3001616e-11 1.0000000e+00]]\n",
      "0870830301 1 [[3.043658e-11 1.000000e+00]]\n",
      "0870830401 1 [[3.0873224e-11 1.0000000e+00]]\n",
      "0872390101 1 [[5.8085464e-12 1.0000000e+00]]\n",
      "0891800601 1 [[6.057074e-09 1.000000e+00]]\n",
      "0893810501 1 [[2.8621702e-08 1.0000000e+00]]\n"
     ]
    }
   ],
   "source": [
    "for i in range(len(real_test_feats)):\n",
    "    obs_feats = reallc_test_data.iloc[i,:].values\n",
    "    obs_feats = np.expand_dims(np.asarray(list(obs_feats[1:15])),0)\n",
    "    prediction = probability_model.predict(obs_feats)\n",
    "    print(reallc_test_data['ObsID'].values[i],np.argmax(prediction[0]),prediction)"
   ]
  },
  {
   "cell_type": "code",
   "execution_count": 15,
   "id": "fe7188de",
   "metadata": {
    "scrolled": false
   },
   "outputs": [
    {
     "name": "stdout",
     "output_type": "stream",
     "text": [
      "['0111790101' '0112550601' '0112551701' '0124710801' '0145800101'\n",
      " '0152170501' '0200670101' '0200670201' '0200670301' '0200670401'\n",
      " '0200920101' '0304190101' '0306630101' '0306630201' '0311190101'\n",
      " '0401360101' '0401360201' '0401360301' '0411980101' '0411980401'\n",
      " '0500730101' '0500730201' '0510011501' '0551450101' '0551870401'\n",
      " '0551870601' '0556090101' '0603260201' '0651790201' '0657820101'\n",
      " '0691570101' '0725200101' '0725200301' '0740960101' '0761630101'\n",
      " '0761630201' '0761630301' '0784510301' '0790650101' '0794581201'\n",
      " '0803670501' '0803670601' '0803671001' '0803671101' '0805080401'\n",
      " '0805080501' '0823680101' '0831790701' '0842340201' '0851180401'\n",
      " '0851180501' '0861910201' '0861910301' '0862760201' '0864330101'\n",
      " '0864330201' '0864330301' '0864330401' '0864560101' '0870830101'\n",
      " '0870830201' '0870830301' '0870830401' '0872390101' '0891800601'\n",
      " '0893810501']\n"
     ]
    }
   ],
   "source": [
    "print(reallc_test_data['ObsID'].values)"
   ]
  },
  {
   "cell_type": "code",
   "execution_count": 16,
   "id": "70803254",
   "metadata": {
    "scrolled": false
   },
   "outputs": [
    {
     "data": {
      "image/png": "[encoded data removed]",
      "text/plain": [
       "<Figure size 432x288 with 1 Axes>"
      ]
     },
     "metadata": {
      "needs_background": "light"
     },
     "output_type": "display_data"
    },
    {
     "name": "stdout",
     "output_type": "stream",
     "text": [
      "[[6.0785044e-07 9.9999940e-01]]\n"
     ]
    }
   ],
   "source": [
    "obs = '0411980401'\n",
    "obs_features = np.asarray(reallc_test_data.iloc[np.where(reallc_test_data['ObsID'].values == obs)[0],1:15].values)\n",
    "obs_features.shape\n",
    "prediction = probability_model.predict(obs_features)\n",
    "lc = XMMtolc('/Users/do19150/Gits/ML_QPE/Obs/'+obs+'_.2-2.0_t10_pn_filt.lc',t_bin=10)\n",
    "lc.shift(-lc.time[0]).rebin(50).plot()\n",
    "print(prediction)"
   ]
  }
 ],
 "metadata": {
  "kernelspec": {
   "display_name": "Python 3 (ipykernel)",
   "language": "python",
   "name": "python3"
  },
  "language_info": {
   "codemirror_mode": {
    "name": "ipython",
    "version": 3
   },
   "file_extension": ".py",
   "mimetype": "text/x-python",
   "name": "python",
   "nbconvert_exporter": "python",
   "pygments_lexer": "ipython3",
   "version": "3.8.13"
  }
 },
 "nbformat": 4,
 "nbformat_minor": 5
}
