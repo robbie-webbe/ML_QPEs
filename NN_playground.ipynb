{
 "cells": [
  {
   "cell_type": "code",
   "execution_count": 1,
   "id": "35f30682",
   "metadata": {},
   "outputs": [
    {
     "data": {
      "text/plain": [
       "(100000, 15)"
      ]
     },
     "execution_count": 1,
     "metadata": {},
     "output_type": "execute_result"
    }
   ],
   "source": [
    "import numpy as np\n",
    "import tensorflow as tf\n",
    "from random import sample, shuffle\n",
    "\n",
    "qpe_feats = np.loadtxt('Features/qpe_feats.csv',delimiter=',')\n",
    "nqpe_feats = np.loadtxt('Features/no_qpe_feats.csv',delimiter=',')\n",
    "\n",
    "features = np.concatenate((nqpe_feats,qpe_feats))\n",
    "features.shape"
   ]
  },
  {
   "cell_type": "code",
   "execution_count": 2,
   "id": "9b2582d1",
   "metadata": {
    "scrolled": false
   },
   "outputs": [],
   "source": [
    "#split the data 80%/20% into training and validation\n",
    "\n",
    "index_range = list(np.arange(len(qpe_feats)))\n",
    "qpe_training_indices = sample(index_range,int(0.8*len(qpe_feats)))\n",
    "qpe_valid_indices = index_range\n",
    "for i in qpe_training_indices:\n",
    "    qpe_valid_indices.remove(i)"
   ]
  },
  {
   "cell_type": "code",
   "execution_count": 3,
   "id": "f95f20cb",
   "metadata": {},
   "outputs": [],
   "source": [
    "index_range = list(np.arange(len(qpe_feats)))\n",
    "nqpe_training_indices = sample(index_range,int(0.8*len(nqpe_feats)))\n",
    "nqpe_valid_indices = index_range\n",
    "for i in nqpe_training_indices:\n",
    "    nqpe_valid_indices.remove(i)"
   ]
  },
  {
   "cell_type": "code",
   "execution_count": 4,
   "id": "85a5e1ef",
   "metadata": {},
   "outputs": [],
   "source": [
    "#sort the index lists\n",
    "qpe_training_indices = sorted(qpe_training_indices)\n",
    "qpe_valid_indices = sorted(qpe_valid_indices)\n",
    "nqpe_training_indices = sorted(nqpe_training_indices)\n",
    "nqpe_valid_indices = sorted(nqpe_valid_indices)\n",
    "    \n",
    "#create the feature sets\n",
    "qpe_training_feats = qpe_feats[qpe_training_indices]\n",
    "qpe_valid_feats = qpe_feats[qpe_valid_indices]\n",
    "nqpe_training_feats = nqpe_feats[nqpe_training_indices]\n",
    "nqpe_valid_feats = nqpe_feats[nqpe_valid_indices]"
   ]
  },
  {
   "cell_type": "code",
   "execution_count": 5,
   "id": "06245428",
   "metadata": {
    "scrolled": true
   },
   "outputs": [],
   "source": [
    "#create total training and validation data sets\n",
    "training_data = np.concatenate((qpe_training_feats,nqpe_training_feats))\n",
    "validation_data = np.concatenate((qpe_valid_feats,nqpe_valid_feats))\n",
    "\n",
    "#randomise the order of the training and data sets\n",
    "train_data = sample(list(training_data),len(training_data))\n",
    "val_data = sample(list(validation_data),len(validation_data))\n",
    "\n",
    "# print(train_data[0:5])\n",
    "# print(val_data[0:5])"
   ]
  },
  {
   "cell_type": "code",
   "execution_count": 6,
   "id": "8f442c0e",
   "metadata": {},
   "outputs": [],
   "source": [
    "#separate the training and validaiton features and labels\n",
    "\n",
    "input_data = []\n",
    "input_labels = []\n",
    "for i in range(len(train_data)):\n",
    "    input_data.append(list(train_data[i][0:14]))\n",
    "    input_labels.append([train_data[i][14]])\n",
    "    \n",
    "# print(input_data[0:5])\n",
    "# print(input_labels[0:5])\n",
    "\n",
    "check_data = []\n",
    "check_labels = []\n",
    "for i in range(len(val_data)):\n",
    "    check_data.append(list(val_data[i][0:14]))\n",
    "    check_labels.append([val_data[i][14]])\n",
    "    \n",
    "# print(check_data[0:5])\n",
    "# print(check_labels[0:5])"
   ]
  },
  {
   "cell_type": "code",
   "execution_count": 7,
   "id": "1d04bfc6",
   "metadata": {},
   "outputs": [
    {
     "name": "stderr",
     "output_type": "stream",
     "text": [
      "2022-08-29 20:14:42.174689: I tensorflow/core/platform/cpu_feature_guard.cc:193] This TensorFlow binary is optimized with oneAPI Deep Neural Network Library (oneDNN) to use the following CPU instructions in performance-critical operations:  AVX2 FMA\n",
      "To enable them in other operations, rebuild TensorFlow with the appropriate compiler flags.\n"
     ]
    }
   ],
   "source": [
    "model = tf.keras.Sequential([\n",
    "    tf.keras.layers.Dense(14, activation='relu'),\n",
    "    tf.keras.layers.Dense(2)\n",
    "])"
   ]
  },
  {
   "cell_type": "code",
   "execution_count": 8,
   "id": "39b9c945",
   "metadata": {},
   "outputs": [],
   "source": [
    "model.compile(optimizer='adam',\n",
    "              loss=tf.keras.losses.SparseCategoricalCrossentropy(from_logits=True),\n",
    "              metrics=['accuracy'])"
   ]
  },
  {
   "cell_type": "code",
   "execution_count": 9,
   "id": "843b29af",
   "metadata": {},
   "outputs": [
    {
     "name": "stdout",
     "output_type": "stream",
     "text": [
      "Epoch 1/10\n",
      "2500/2500 [==============================] - 2s 697us/step - loss: 0.6334 - accuracy: 0.8850\n",
      "Epoch 2/10\n",
      "2500/2500 [==============================] - 2s 760us/step - loss: 0.3049 - accuracy: 0.9066\n",
      "Epoch 3/10\n",
      "2500/2500 [==============================] - 2s 682us/step - loss: 0.2897 - accuracy: 0.9119\n",
      "Epoch 4/10\n",
      "2500/2500 [==============================] - 2s 705us/step - loss: 0.2853 - accuracy: 0.9141\n",
      "Epoch 5/10\n",
      "2500/2500 [==============================] - 2s 684us/step - loss: 0.2884 - accuracy: 0.9150\n",
      "Epoch 6/10\n",
      "2500/2500 [==============================] - 2s 684us/step - loss: 0.2806 - accuracy: 0.9164\n",
      "Epoch 7/10\n",
      "2500/2500 [==============================] - 2s 686us/step - loss: 0.2850 - accuracy: 0.9156\n",
      "Epoch 8/10\n",
      "2500/2500 [==============================] - 2s 681us/step - loss: 0.2853 - accuracy: 0.9169\n",
      "Epoch 9/10\n",
      "2500/2500 [==============================] - 2s 683us/step - loss: 0.2770 - accuracy: 0.9178\n",
      "Epoch 10/10\n",
      "2500/2500 [==============================] - 2s 715us/step - loss: 0.2691 - accuracy: 0.9200\n"
     ]
    },
    {
     "data": {
      "text/plain": [
       "<keras.callbacks.History at 0x7f9d73212be0>"
      ]
     },
     "execution_count": 9,
     "metadata": {},
     "output_type": "execute_result"
    }
   ],
   "source": [
    "model.fit(input_data, input_labels, epochs=10)"
   ]
  },
  {
   "cell_type": "code",
   "execution_count": 10,
   "id": "d3da9a82",
   "metadata": {},
   "outputs": [
    {
     "name": "stdout",
     "output_type": "stream",
     "text": [
      "625/625 - 0s - loss: 0.3485 - accuracy: 0.8378 - 423ms/epoch - 677us/step\n",
      "\n",
      "Test accuracy: 0.8378499746322632\n"
     ]
    }
   ],
   "source": [
    "test_loss, test_acc = model.evaluate(check_data,  check_labels, verbose=2)\n",
    "\n",
    "print('\\nTest accuracy:', test_acc)"
   ]
  }
 ],
 "metadata": {
  "kernelspec": {
   "display_name": "Python 3 (ipykernel)",
   "language": "python",
   "name": "python3"
  },
  "language_info": {
   "codemirror_mode": {
    "name": "ipython",
    "version": 3
   },
   "file_extension": ".py",
   "mimetype": "text/x-python",
   "name": "python",
   "nbconvert_exporter": "python",
   "pygments_lexer": "ipython3",
   "version": "3.8.3"
  }
 },
 "nbformat": 4,
 "nbformat_minor": 5
}
