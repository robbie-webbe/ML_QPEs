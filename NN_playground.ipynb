{
 "cells": [
  {
   "cell_type": "code",
   "execution_count": 1,
   "id": "35f30682",
   "metadata": {},
   "outputs": [],
   "source": [
    "import numpy as np\n",
    "import pandas as pd\n",
    "import tensorflow as tf\n",
    "from random import sample, shuffle\n",
    "\n",
    "train_val_data = np.loadtxt('Features/train_val_data.csv',delimiter=',')\n",
    "simlc_test_data = np.loadtxt('Features/simtest_data.csv',delimiter=',')\n",
    "reallc_test_data = pd.read_csv('Features/realobs_test_data.csv',dtype='object')"
   ]
  },
  {
   "cell_type": "code",
   "execution_count": 2,
   "id": "f3d2045c",
   "metadata": {},
   "outputs": [
    {
     "name": "stdout",
     "output_type": "stream",
     "text": [
      "(90000, 15) (10000, 15)\n",
      "(69, 16) Index(['ObsID', 'STD/Mean', 'Prop > 1STD', 'Prop > 2STD', 'Prop > 3STD',\n",
      "       'Prop > 4STD', 'Prop > 5STD', 'Prop > 6STD', 'IQR/STD', 'Skew',\n",
      "       'Kurtosis', 'Rev CCF', '2nd ACF', 'CSSD', 'Von Neumann Ratio', 'QPE?'],\n",
      "      dtype='object')\n"
     ]
    }
   ],
   "source": [
    "print(train_val_data.shape,simlc_test_data.shape)\n",
    "print(reallc_test_data.shape,reallc_test_data.columns)"
   ]
  },
  {
   "cell_type": "code",
   "execution_count": 5,
   "id": "9b2582d1",
   "metadata": {
    "scrolled": false
   },
   "outputs": [],
   "source": [
    "#split the train/validation data 80%/20% into training and validation\n",
    "\n",
    "index_range = list(np.arange(len(train_val_data)))\n",
    "train_indices = sorted(sample(index_range,int(0.8*len(index_range))))\n",
    "valid_indices = index_range\n",
    "for i in train_indices:\n",
    "    valid_indices.remove(i)"
   ]
  },
  {
   "cell_type": "code",
   "execution_count": 6,
   "id": "94778286",
   "metadata": {},
   "outputs": [
    {
     "name": "stdout",
     "output_type": "stream",
     "text": [
      "72000 [0, 1, 2, 3, 4, 7, 8, 9, 10, 11, 12, 13, 14, 15, 17, 18, 19, 20, 21, 23]\n",
      "18000 [5, 6, 16, 22, 28, 29, 31, 38, 39, 43]\n"
     ]
    }
   ],
   "source": [
    "# print(len(train_indices),train_indices[0:20])\n",
    "# print(len(valid_indices),valid_indices[0:10])"
   ]
  },
  {
   "cell_type": "code",
   "execution_count": 7,
   "id": "85a5e1ef",
   "metadata": {},
   "outputs": [],
   "source": [
    "#create the feature sets\n",
    "training_data = train_val_data[train_indices]\n",
    "valid_data = train_val_data[valid_indices]"
   ]
  },
  {
   "cell_type": "code",
   "execution_count": 9,
   "id": "8f442c0e",
   "metadata": {},
   "outputs": [],
   "source": [
    "#separate the training and validaiton features and labels\n",
    "\n",
    "input_data = []\n",
    "input_labels = []\n",
    "for i in range(len(training_data)):\n",
    "    input_data.append(list(training_data[i][0:14]))\n",
    "    input_labels.append([training_data[i][14]])\n",
    "    \n",
    "check_data = []\n",
    "check_labels = []\n",
    "for i in range(len(valid_data)):\n",
    "    check_data.append(list(valid_data[i][0:14]))\n",
    "    check_labels.append([valid_data[i][14]])"
   ]
  },
  {
   "cell_type": "code",
   "execution_count": 12,
   "id": "f82e2b5c",
   "metadata": {},
   "outputs": [
    {
     "name": "stdout",
     "output_type": "stream",
     "text": [
      "72000 14 72000 1\n",
      "18000 14 18000 1\n"
     ]
    }
   ],
   "source": [
    "print(len(input_data),len(input_data[0]),len(input_labels),len(input_labels[0]))\n",
    "print(len(check_data),len(check_data[0]),len(check_labels),len(check_labels[0]))"
   ]
  },
  {
   "cell_type": "code",
   "execution_count": 13,
   "id": "39b9c945",
   "metadata": {},
   "outputs": [
    {
     "name": "stderr",
     "output_type": "stream",
     "text": [
      "2022-09-01 12:52:34.599442: I tensorflow/core/platform/cpu_feature_guard.cc:193] This TensorFlow binary is optimized with oneAPI Deep Neural Network Library (oneDNN) to use the following CPU instructions in performance-critical operations:  AVX2 FMA\n",
      "To enable them in other operations, rebuild TensorFlow with the appropriate compiler flags.\n"
     ]
    },
    {
     "name": "stdout",
     "output_type": "stream",
     "text": [
      "Epoch 1/10\n",
      "2250/2250 [==============================] - 2s 697us/step - loss: 1.4544 - accuracy: 0.8506\n",
      "Epoch 2/10\n",
      "2250/2250 [==============================] - 2s 700us/step - loss: 0.3085 - accuracy: 0.9037\n",
      "Epoch 3/10\n",
      "2250/2250 [==============================] - 2s 694us/step - loss: 0.3032 - accuracy: 0.9072\n",
      "Epoch 4/10\n",
      "2250/2250 [==============================] - 2s 679us/step - loss: 0.2934 - accuracy: 0.9116\n",
      "Epoch 5/10\n",
      "2250/2250 [==============================] - 2s 689us/step - loss: 0.2906 - accuracy: 0.9137\n",
      "Epoch 6/10\n",
      "2250/2250 [==============================] - 2s 682us/step - loss: 0.2980 - accuracy: 0.9128\n",
      "Epoch 7/10\n",
      "2250/2250 [==============================] - 2s 684us/step - loss: 0.2878 - accuracy: 0.9148\n",
      "Epoch 8/10\n",
      "2250/2250 [==============================] - 2s 689us/step - loss: 0.2931 - accuracy: 0.9138\n",
      "Epoch 9/10\n",
      "2250/2250 [==============================] - 2s 697us/step - loss: 0.2795 - accuracy: 0.9173\n",
      "Epoch 10/10\n",
      "2250/2250 [==============================] - 2s 713us/step - loss: 0.2956 - accuracy: 0.9150\n",
      "563/563 - 0s - loss: 0.2781 - accuracy: 0.9298 - 427ms/epoch - 759us/step\n",
      "\n",
      "Test accuracy: 0.9298333525657654\n"
     ]
    }
   ],
   "source": [
    "model = tf.keras.Sequential([\n",
    "    tf.keras.layers.Dense(14, activation='relu'),\n",
    "    tf.keras.layers.Dense(2)\n",
    "])\n",
    "model.compile(optimizer='adam',\n",
    "              loss=tf.keras.losses.SparseCategoricalCrossentropy(from_logits=True),\n",
    "              metrics=['accuracy'])\n",
    "model.fit(input_data, input_labels, epochs=10)\n",
    "test_loss, test_acc = model.evaluate(check_data,  check_labels, verbose=2)\n",
    "\n",
    "print('\\nTest accuracy:', test_acc)"
   ]
  },
  {
   "cell_type": "code",
   "execution_count": 15,
   "id": "6708ff17",
   "metadata": {},
   "outputs": [
    {
     "name": "stdout",
     "output_type": "stream",
     "text": [
      "Epoch 1/10\n",
      "2250/2250 [==============================] - 2s 677us/step - loss: 23.5196 - accuracy: 0.6604\n",
      "Epoch 2/10\n",
      "2250/2250 [==============================] - 1s 665us/step - loss: 1.1787 - accuracy: 0.8125\n",
      "Epoch 3/10\n",
      "2250/2250 [==============================] - 1s 665us/step - loss: 1.1264 - accuracy: 0.8316\n",
      "Epoch 4/10\n",
      "2250/2250 [==============================] - 2s 668us/step - loss: 1.0644 - accuracy: 0.8531\n",
      "Epoch 5/10\n",
      "2250/2250 [==============================] - 2s 690us/step - loss: 0.4920 - accuracy: 0.9108\n",
      "Epoch 6/10\n",
      "2250/2250 [==============================] - 2s 702us/step - loss: 0.2395 - accuracy: 0.9265\n",
      "Epoch 7/10\n",
      "2250/2250 [==============================] - 2s 688us/step - loss: 0.2273 - accuracy: 0.9285\n",
      "Epoch 8/10\n",
      "2250/2250 [==============================] - 2s 679us/step - loss: 0.2297 - accuracy: 0.9263\n",
      "Epoch 9/10\n",
      "2250/2250 [==============================] - 2s 680us/step - loss: 0.2273 - accuracy: 0.9269\n",
      "Epoch 10/10\n",
      "2250/2250 [==============================] - 2s 683us/step - loss: 0.2255 - accuracy: 0.9285\n",
      "563/563 - 0s - loss: 0.2187 - accuracy: 0.9308 - 479ms/epoch - 850us/step\n",
      "\n",
      "Test accuracy: 0.9308333396911621\n"
     ]
    }
   ],
   "source": [
    "model = tf.keras.Sequential([\n",
    "    tf.keras.layers.Dense(14, activation='relu')\n",
    "])\n",
    "model.compile(optimizer='adam',\n",
    "              loss=tf.keras.losses.SparseCategoricalCrossentropy(from_logits=True),\n",
    "              metrics=['accuracy'])\n",
    "model.fit(input_data, input_labels, epochs=10)\n",
    "test_loss, test_acc = model.evaluate(check_data,  check_labels, verbose=2)\n",
    "\n",
    "print('\\nTest accuracy:', test_acc)"
   ]
  },
  {
   "cell_type": "code",
   "execution_count": 16,
   "id": "f5c93d00",
   "metadata": {},
   "outputs": [
    {
     "name": "stdout",
     "output_type": "stream",
     "text": [
      "Epoch 1/10\n",
      "2250/2250 [==============================] - 2s 775us/step - loss: 6.1254 - accuracy: 0.8465\n",
      "Epoch 2/10\n",
      "2250/2250 [==============================] - 2s 777us/step - loss: 0.2837 - accuracy: 0.9105\n",
      "Epoch 3/10\n",
      "2250/2250 [==============================] - 2s 775us/step - loss: 0.2872 - accuracy: 0.9122\n",
      "Epoch 4/10\n",
      "2250/2250 [==============================] - 2s 772us/step - loss: 0.2836 - accuracy: 0.9142\n",
      "Epoch 5/10\n",
      "2250/2250 [==============================] - 2s 744us/step - loss: 0.2783 - accuracy: 0.9161\n",
      "Epoch 6/10\n",
      "2250/2250 [==============================] - 2s 769us/step - loss: 0.2775 - accuracy: 0.9169\n",
      "Epoch 7/10\n",
      "2250/2250 [==============================] - 2s 739us/step - loss: 0.2641 - accuracy: 0.9201\n",
      "Epoch 8/10\n",
      "2250/2250 [==============================] - 2s 742us/step - loss: 0.2647 - accuracy: 0.9200\n",
      "Epoch 9/10\n",
      "2250/2250 [==============================] - 2s 737us/step - loss: 0.2574 - accuracy: 0.9216\n",
      "Epoch 10/10\n",
      "2250/2250 [==============================] - 2s 746us/step - loss: 0.2589 - accuracy: 0.9210\n",
      "563/563 - 0s - loss: 0.2167 - accuracy: 0.9302 - 399ms/epoch - 709us/step\n",
      "\n",
      "Test accuracy: 0.9301666617393494\n"
     ]
    }
   ],
   "source": [
    "model = tf.keras.Sequential([\n",
    "    tf.keras.layers.Dense(14, activation='relu'),\n",
    "    tf.keras.layers.Dense(7)\n",
    "])\n",
    "model.compile(optimizer='adam',\n",
    "              loss=tf.keras.losses.SparseCategoricalCrossentropy(from_logits=True),\n",
    "              metrics=['accuracy'])\n",
    "model.fit(input_data, input_labels, epochs=10)\n",
    "test_loss, test_acc = model.evaluate(check_data,  check_labels, verbose=2)\n",
    "\n",
    "print('\\nTest accuracy:', test_acc)"
   ]
  },
  {
   "cell_type": "code",
   "execution_count": 17,
   "id": "3a5dd072",
   "metadata": {},
   "outputs": [
    {
     "name": "stdout",
     "output_type": "stream",
     "text": [
      "Epoch 1/10\n",
      "2250/2250 [==============================] - 2s 677us/step - loss: 39.1705 - accuracy: 0.7344\n",
      "Epoch 2/10\n",
      "2250/2250 [==============================] - 1s 658us/step - loss: 0.2415 - accuracy: 0.9205\n",
      "Epoch 3/10\n",
      "2250/2250 [==============================] - 1s 657us/step - loss: 0.2351 - accuracy: 0.9243\n",
      "Epoch 4/10\n",
      "2250/2250 [==============================] - 1s 661us/step - loss: 0.2291 - accuracy: 0.9269\n",
      "Epoch 5/10\n",
      "2250/2250 [==============================] - 1s 661us/step - loss: 0.2275 - accuracy: 0.9267\n",
      "Epoch 6/10\n",
      "2250/2250 [==============================] - 2s 685us/step - loss: 0.2252 - accuracy: 0.9284\n",
      "Epoch 7/10\n",
      "2250/2250 [==============================] - 1s 661us/step - loss: 0.2230 - accuracy: 0.9288\n",
      "Epoch 8/10\n",
      "2250/2250 [==============================] - 1s 662us/step - loss: 0.2232 - accuracy: 0.9288\n",
      "Epoch 9/10\n",
      "2250/2250 [==============================] - 1s 664us/step - loss: 0.2233 - accuracy: 0.9288\n",
      "Epoch 10/10\n",
      "2250/2250 [==============================] - 1s 661us/step - loss: 0.2259 - accuracy: 0.9280\n",
      "563/563 - 0s - loss: 0.2126 - accuracy: 0.9312 - 390ms/epoch - 692us/step\n",
      "\n",
      "Test accuracy: 0.9311666488647461\n"
     ]
    }
   ],
   "source": [
    "model = tf.keras.Sequential([\n",
    "    tf.keras.layers.Dense(7)\n",
    "])\n",
    "model.compile(optimizer='adam',\n",
    "              loss=tf.keras.losses.SparseCategoricalCrossentropy(from_logits=True),\n",
    "              metrics=['accuracy'])\n",
    "model.fit(input_data, input_labels, epochs=10)\n",
    "test_loss, test_acc = model.evaluate(check_data,  check_labels, verbose=2)\n",
    "\n",
    "print('\\nTest accuracy:', test_acc)"
   ]
  }
 ],
 "metadata": {
  "kernelspec": {
   "display_name": "Python 3 (ipykernel)",
   "language": "python",
   "name": "python3"
  },
  "language_info": {
   "codemirror_mode": {
    "name": "ipython",
    "version": 3
   },
   "file_extension": ".py",
   "mimetype": "text/x-python",
   "name": "python",
   "nbconvert_exporter": "python",
   "pygments_lexer": "ipython3",
   "version": "3.8.13"
  }
 },
 "nbformat": 4,
 "nbformat_minor": 5
}
