{
 "cells": [
  {
   "cell_type": "code",
   "execution_count": 1,
   "id": "bf9e6b8f",
   "metadata": {},
   "outputs": [
    {
     "name": "stderr",
     "output_type": "stream",
     "text": [
      "/Users/do19150/opt/anaconda3/lib/python3.8/site-packages/stingray/utils.py:24: UserWarning: Numba not installed. Faking it\n",
      "  warnings.warn(\"Numba not installed. Faking it\")\n",
      "/Users/do19150/opt/anaconda3/lib/python3.8/site-packages/stingray/largememory.py:25: UserWarning: Large Datasets may not be processed efficiently due to computational constraints\n",
      "  warnings.warn(\n",
      "/Users/do19150/opt/anaconda3/lib/python3.8/site-packages/stingray/crossspectrum.py:28: UserWarning: pyfftw not installed. Using standard scipy fft\n",
      "  warnings.warn(\"pyfftw not installed. Using standard scipy fft\")\n",
      "/Users/do19150/opt/anaconda3/lib/python3.8/site-packages/stingray/crosscorrelation.py:8: UserWarning: pyfftw not installed. Using standard scipy fft\n",
      "  warnings.warn(\"pyfftw not installed. Using standard scipy fft\")\n",
      "/Users/do19150/opt/anaconda3/lib/python3.8/site-packages/stingray/bispectrum.py:10: UserWarning: pyfftw not installed. Using standard scipy fft\n",
      "  warnings.warn(\"pyfftw not installed. Using standard scipy fft\")\n"
     ]
    }
   ],
   "source": [
    "import pandas as pd\n",
    "import sys\n",
    "sys.path.append('/Users/do19150/Gits/Analysis_Funcs/LC_Sim/')\n",
    "sys.path.append('/home/do19150/Git_repos/Analysis_Funcs/LC_Sim/')\n",
    "sys.path.append('/Users/do19150/Gits/Analysis_Funcs/General/')\n",
    "sys.path.append('/home/do19150/Git_repos/Analysis_Funcs/General/')\n",
    "\n",
    "from fitsloader import XMMtolc\n",
    "from CurveFit import GaussCurve\n",
    "from astropy.modeling.models import Const1D\n",
    "from stingray.modeling import GaussianLogLikelihood, ParameterEstimation\n",
    "import matplotlib.pyplot as plt\n",
    "df = pd.read_csv('eruption_profiles_auto.csv',index_col=0)"
   ]
  },
  {
   "cell_type": "code",
   "execution_count": 2,
   "id": "563ed68a",
   "metadata": {},
   "outputs": [
    {
     "name": "stderr",
     "output_type": "stream",
     "text": [
      "WARNING:root:Computing the bin time ``dt``. This can take time. If you know the bin time, please specify it at light curve creation\n"
     ]
    },
    {
     "name": "stdout",
     "output_type": "stream",
     "text": [
      "Warning: Desired error not necessarily achieved due to precision loss.\n",
      "         Current function value: 561.898069\n",
      "         Iterations: 30\n",
      "         Function evaluations: 345\n",
      "         Gradient evaluations: 67\n"
     ]
    }
   ],
   "source": [
    "lc = XMMtolc('Eruption_lcsegs/0124710801_e1.lc')\n",
    "lc = lc.rebin(200)\n",
    "model = Const1D() + GaussCurve()\n",
    "start_pars = [25,175,2000,13000]\n",
    "loglike = GaussianLogLikelihood(lc.time,lc.counts,lc.counts_err,model)\n",
    "parest = ParameterEstimation(fitmethod='BFGS', max_post=False)\n",
    "res = parest.fit(loglike,start_pars,scipy_optimize_options={'options':{'maxiter':100000,'gtol':1e-10,'disp':True}})\n",
    "df.iloc[0,1] = model.amplitude_1.value/model.amplitude_0.value\n",
    "df.iloc[0,2] = model.width_1.value"
   ]
  },
  {
   "cell_type": "code",
   "execution_count": 3,
   "id": "f6d48604",
   "metadata": {},
   "outputs": [
    {
     "name": "stderr",
     "output_type": "stream",
     "text": [
      "WARNING:root:Computing the bin time ``dt``. This can take time. If you know the bin time, please specify it at light curve creation\n"
     ]
    },
    {
     "name": "stdout",
     "output_type": "stream",
     "text": [
      "Warning: Desired error not necessarily achieved due to precision loss.\n",
      "         Current function value: 816.273626\n",
      "         Iterations: 25\n",
      "         Function evaluations: 337\n",
      "         Gradient evaluations: 65\n"
     ]
    }
   ],
   "source": [
    "lc = XMMtolc('Eruption_lcsegs/0823680101_e2.lc')\n",
    "lc = lc.rebin(200)  \n",
    "model = Const1D() + GaussCurve()\n",
    "start_pars = [50,500,2000,11000]\n",
    "loglike = GaussianLogLikelihood(lc.time,lc.counts,lc.counts_err,model)\n",
    "parest = ParameterEstimation(fitmethod='BFGS', max_post=False)\n",
    "res = parest.fit(loglike,start_pars,scipy_optimize_options={'options':{'maxiter':100000,'gtol':1e-10,'disp':True}})\n",
    "df.iloc[2,1] = model.amplitude_1.value/model.amplitude_0.value\n",
    "df.iloc[2,2] = model.width_1.value"
   ]
  },
  {
   "cell_type": "code",
   "execution_count": 4,
   "id": "f0d594fc",
   "metadata": {},
   "outputs": [
    {
     "name": "stderr",
     "output_type": "stream",
     "text": [
      "WARNING:root:Computing the bin time ``dt``. This can take time. If you know the bin time, please specify it at light curve creation\n"
     ]
    },
    {
     "name": "stdout",
     "output_type": "stream",
     "text": [
      "Warning: Desired error not necessarily achieved due to precision loss.\n",
      "         Current function value: 729.791752\n",
      "         Iterations: 30\n",
      "         Function evaluations: 250\n",
      "         Gradient evaluations: 50\n"
     ]
    }
   ],
   "source": [
    "lc = XMMtolc('Eruption_lcsegs/0831790701_e1.lc')\n",
    "lc = lc.rebin(200)  \n",
    "model = Const1D() + GaussCurve()\n",
    "start_pars = [50,450,2000,1000]\n",
    "loglike = GaussianLogLikelihood(lc.time,lc.counts,lc.counts_err,model)\n",
    "parest = ParameterEstimation(fitmethod='BFGS', max_post=False)\n",
    "res = parest.fit(loglike,start_pars,scipy_optimize_options={'options':{'maxiter':100000,'gtol':1e-10,'disp':True}})\n",
    "df.iloc[3,1] = model.amplitude_1.value/model.amplitude_0.value\n",
    "df.iloc[3,2] = model.width_1.value"
   ]
  },
  {
   "cell_type": "code",
   "execution_count": 5,
   "id": "47ce3470",
   "metadata": {},
   "outputs": [
    {
     "name": "stderr",
     "output_type": "stream",
     "text": [
      "WARNING:root:Computing the bin time ``dt``. This can take time. If you know the bin time, please specify it at light curve creation\n"
     ]
    },
    {
     "name": "stdout",
     "output_type": "stream",
     "text": [
      "Warning: Desired error not necessarily achieved due to precision loss.\n",
      "         Current function value: 1397.763837\n",
      "         Iterations: 25\n",
      "         Function evaluations: 200\n",
      "         Gradient evaluations: 40\n"
     ]
    }
   ],
   "source": [
    "lc = XMMtolc('Eruption_lcsegs/0831790701_e3.lc')\n",
    "lc = lc.rebin(200) \n",
    "model = Const1D() + GaussCurve()\n",
    "start_pars = [50,400,2000,20000]\n",
    "loglike = GaussianLogLikelihood(lc.time,lc.counts,lc.counts_err,model)\n",
    "parest = ParameterEstimation(fitmethod='BFGS', max_post=False)\n",
    "res = parest.fit(loglike,start_pars,scipy_optimize_options={'options':{'maxiter':100000,'gtol':1e-10,'disp':True}})\n",
    "df.iloc[5,1] = model.amplitude_1.value/model.amplitude_0.value\n",
    "df.iloc[5,2] = model.width_1.value"
   ]
  },
  {
   "cell_type": "code",
   "execution_count": 6,
   "id": "a8328e7f",
   "metadata": {},
   "outputs": [
    {
     "name": "stderr",
     "output_type": "stream",
     "text": [
      "WARNING:root:Computing the bin time ``dt``. This can take time. If you know the bin time, please specify it at light curve creation\n"
     ]
    },
    {
     "name": "stdout",
     "output_type": "stream",
     "text": [
      "Optimization terminated successfully.\n",
      "         Current function value: 1218.717760\n",
      "         Iterations: 32\n",
      "         Function evaluations: 200\n",
      "         Gradient evaluations: 40\n"
     ]
    }
   ],
   "source": [
    "lc = XMMtolc('Eruption_lcsegs/0831790701_e4.lc')\n",
    "lc = lc.rebin(200)\n",
    "model = Const1D() + GaussCurve()\n",
    "start_pars = [50,350,2000,22000]\n",
    "loglike = GaussianLogLikelihood(lc.time,lc.counts,lc.counts_err,model)\n",
    "parest = ParameterEstimation(fitmethod='BFGS', max_post=False)\n",
    "res = parest.fit(loglike,start_pars,scipy_optimize_options={'options':{'maxiter':100000,'gtol':1e-10,'disp':True}})\n",
    "df.iloc[6,1] = model.amplitude_1.value/model.amplitude_0.value\n",
    "df.iloc[6,2] = model.width_1.value"
   ]
  },
  {
   "cell_type": "code",
   "execution_count": 7,
   "id": "74742924",
   "metadata": {},
   "outputs": [
    {
     "name": "stderr",
     "output_type": "stream",
     "text": [
      "WARNING:root:Computing the bin time ``dt``. This can take time. If you know the bin time, please specify it at light curve creation\n"
     ]
    },
    {
     "name": "stdout",
     "output_type": "stream",
     "text": [
      "Warning: Desired error not necessarily achieved due to precision loss.\n",
      "         Current function value: 1076.791554\n",
      "         Iterations: 37\n",
      "         Function evaluations: 320\n",
      "         Gradient evaluations: 64\n"
     ]
    }
   ],
   "source": [
    "lc = XMMtolc('Eruption_lcsegs/0831790701_e5.lc')\n",
    "lc = lc.rebin(200)\n",
    "model = Const1D() + GaussCurve()\n",
    "start_pars = [50,450,2000,20000]\n",
    "loglike = GaussianLogLikelihood(lc.time,lc.counts,lc.counts_err,model)\n",
    "parest = ParameterEstimation(fitmethod='BFGS', max_post=False)\n",
    "res = parest.fit(loglike,start_pars,scipy_optimize_options={'options':{'maxiter':100000,'gtol':1e-10,'disp':True}})\n",
    "df.iloc[7,1] = model.amplitude_1.value/model.amplitude_0.value\n",
    "df.iloc[7,2] = model.width_1.value"
   ]
  },
  {
   "cell_type": "code",
   "execution_count": 8,
   "id": "0f4af922",
   "metadata": {},
   "outputs": [
    {
     "name": "stderr",
     "output_type": "stream",
     "text": [
      "WARNING:root:Computing the bin time ``dt``. This can take time. If you know the bin time, please specify it at light curve creation\n"
     ]
    },
    {
     "name": "stdout",
     "output_type": "stream",
     "text": [
      "Optimization terminated successfully.\n",
      "         Current function value: 6571.828296\n",
      "         Iterations: 4\n",
      "         Function evaluations: 35\n",
      "         Gradient evaluations: 7\n"
     ]
    }
   ],
   "source": [
    "lc = XMMtolc('Eruption_lcsegs/0851180401_e1.lc')\n",
    "lc = lc.rebin(200) \n",
    "model = Const1D() + GaussCurve()\n",
    "start_pars = [50,450,2000,20000]\n",
    "loglike = GaussianLogLikelihood(lc.time,lc.counts,lc.counts_err,model)\n",
    "parest = ParameterEstimation(fitmethod='BFGS', max_post=False)\n",
    "res = parest.fit(loglike,start_pars,scipy_optimize_options={'options':{'maxiter':100000,'gtol':1e-10,'disp':True}})\n",
    "df.iloc[8,1] = model.amplitude_1.value/model.amplitude_0.value\n",
    "df.iloc[8,2] = model.width_1.value"
   ]
  },
  {
   "cell_type": "code",
   "execution_count": 9,
   "id": "5e1633ee",
   "metadata": {},
   "outputs": [
    {
     "name": "stderr",
     "output_type": "stream",
     "text": [
      "WARNING:root:Computing the bin time ``dt``. This can take time. If you know the bin time, please specify it at light curve creation\n"
     ]
    },
    {
     "name": "stdout",
     "output_type": "stream",
     "text": [
      "Warning: Desired error not necessarily achieved due to precision loss.\n",
      "         Current function value: 621.597682\n",
      "         Iterations: 42\n",
      "         Function evaluations: 310\n",
      "         Gradient evaluations: 62\n"
     ]
    }
   ],
   "source": [
    "lc = XMMtolc('Eruption_lcsegs/0851180401_e3.lc')\n",
    "lc = lc.rebin(200) \n",
    "model = Const1D() + GaussCurve()\n",
    "start_pars = [50,250,2000,15000]\n",
    "loglike = GaussianLogLikelihood(lc.time,lc.counts,lc.counts_err,model)\n",
    "parest = ParameterEstimation(fitmethod='BFGS', max_post=False)\n",
    "res = parest.fit(loglike,start_pars,scipy_optimize_options={'options':{'maxiter':100000,'gtol':1e-10,'disp':True}})\n",
    "df.iloc[10,1] = model.amplitude_1.value/model.amplitude_0.value\n",
    "df.iloc[10,2] = model.width_1.value"
   ]
  },
  {
   "cell_type": "code",
   "execution_count": 10,
   "id": "cab53d39",
   "metadata": {},
   "outputs": [
    {
     "name": "stderr",
     "output_type": "stream",
     "text": [
      "WARNING:root:Computing the bin time ``dt``. This can take time. If you know the bin time, please specify it at light curve creation\n"
     ]
    },
    {
     "name": "stdout",
     "output_type": "stream",
     "text": [
      "Warning: Desired error not necessarily achieved due to precision loss.\n",
      "         Current function value: 990.236147\n",
      "         Iterations: 31\n",
      "         Function evaluations: 391\n",
      "         Gradient evaluations: 76\n"
     ]
    }
   ],
   "source": [
    "lc = XMMtolc('Eruption_lcsegs/0851180401_e5.lc')\n",
    "lc = lc.rebin(200)\n",
    "model = Const1D() + GaussCurve()\n",
    "start_pars = [50,300,2000,19000]\n",
    "loglike = GaussianLogLikelihood(lc.time,lc.counts,lc.counts_err,model)\n",
    "parest = ParameterEstimation(fitmethod='BFGS', max_post=False)\n",
    "res = parest.fit(loglike,start_pars,scipy_optimize_options={'options':{'maxiter':100000,'gtol':1e-10,'disp':True}})\n",
    "df.iloc[12,1] = model.amplitude_1.value/model.amplitude_0.value\n",
    "df.iloc[12,2] = model.width_1.value"
   ]
  },
  {
   "cell_type": "code",
   "execution_count": 11,
   "id": "687c8c4c",
   "metadata": {},
   "outputs": [
    {
     "name": "stderr",
     "output_type": "stream",
     "text": [
      "WARNING:root:Computing the bin time ``dt``. This can take time. If you know the bin time, please specify it at light curve creation\n"
     ]
    },
    {
     "name": "stdout",
     "output_type": "stream",
     "text": [
      "Warning: Desired error not necessarily achieved due to precision loss.\n",
      "         Current function value: 474.755454\n",
      "         Iterations: 32\n",
      "         Function evaluations: 215\n",
      "         Gradient evaluations: 43\n"
     ]
    }
   ],
   "source": [
    "lc = XMMtolc('Eruption_lcsegs/0851180501_e1.lc')\n",
    "lc = lc.rebin(200)  \n",
    "model = Const1D() + GaussCurve()\n",
    "start_pars = [10,300,2000,6000]\n",
    "loglike = GaussianLogLikelihood(lc.time,lc.counts,lc.counts_err,model)\n",
    "parest = ParameterEstimation(fitmethod='BFGS', max_post=False)\n",
    "res = parest.fit(loglike,start_pars,scipy_optimize_options={'options':{'maxiter':100000,'gtol':1e-10,'disp':True}})\n",
    "df.iloc[13,1] = model.amplitude_1.value/model.amplitude_0.value\n",
    "df.iloc[13,2] = model.width_1.value"
   ]
  },
  {
   "cell_type": "code",
   "execution_count": 12,
   "id": "7e4a7663",
   "metadata": {},
   "outputs": [
    {
     "name": "stderr",
     "output_type": "stream",
     "text": [
      "WARNING:root:Computing the bin time ``dt``. This can take time. If you know the bin time, please specify it at light curve creation\n",
      "/Users/do19150/Gits/Analysis_Funcs/LC_Sim/CurveFit.py:32: RuntimeWarning: underflow encountered in exp\n",
      "  rng = np.abs(amplitude)*np.exp(-((domain-position)**2)/w)\n",
      "/Users/do19150/Gits/Analysis_Funcs/LC_Sim/CurveFit.py:32: RuntimeWarning: underflow encountered in multiply\n",
      "  rng = np.abs(amplitude)*np.exp(-((domain-position)**2)/w)\n"
     ]
    },
    {
     "name": "stdout",
     "output_type": "stream",
     "text": [
      "Warning: Desired error not necessarily achieved due to precision loss.\n",
      "         Current function value: 2102.920378\n",
      "         Iterations: 38\n",
      "         Function evaluations: 235\n",
      "         Gradient evaluations: 47\n"
     ]
    },
    {
     "name": "stderr",
     "output_type": "stream",
     "text": [
      "/Users/do19150/Gits/Analysis_Funcs/LC_Sim/CurveFit.py:32: RuntimeWarning: underflow encountered in exp\n",
      "  rng = np.abs(amplitude)*np.exp(-((domain-position)**2)/w)\n",
      "/Users/do19150/Gits/Analysis_Funcs/LC_Sim/CurveFit.py:32: RuntimeWarning: underflow encountered in multiply\n",
      "  rng = np.abs(amplitude)*np.exp(-((domain-position)**2)/w)\n"
     ]
    }
   ],
   "source": [
    "lc = XMMtolc('Eruption_lcsegs/0864330101_e1.lc')\n",
    "lc = lc.rebin(200)  \n",
    "model = Const1D() + GaussCurve()\n",
    "start_pars = [90,150,2000,32000]\n",
    "loglike = GaussianLogLikelihood(lc.time,lc.counts,lc.counts_err,model)\n",
    "parest = ParameterEstimation(fitmethod='BFGS', max_post=False)\n",
    "res = parest.fit(loglike,start_pars,scipy_optimize_options={'options':{'maxiter':100000,'gtol':1e-10,'disp':True}})\n",
    "df.iloc[16,1] = model.amplitude_1.value/model.amplitude_0.value\n",
    "df.iloc[16,2] = model.width_1.value"
   ]
  },
  {
   "cell_type": "code",
   "execution_count": 13,
   "id": "4e3909df",
   "metadata": {},
   "outputs": [
    {
     "name": "stderr",
     "output_type": "stream",
     "text": [
      "WARNING:root:Computing the bin time ``dt``. This can take time. If you know the bin time, please specify it at light curve creation\n"
     ]
    },
    {
     "name": "stdout",
     "output_type": "stream",
     "text": [
      "Warning: Desired error not necessarily achieved due to precision loss.\n",
      "         Current function value: 712.387357\n",
      "         Iterations: 36\n",
      "         Function evaluations: 230\n",
      "         Gradient evaluations: 46\n"
     ]
    }
   ],
   "source": [
    "lc = XMMtolc('Eruption_lcsegs/0864330101_e2.lc')\n",
    "lc = lc.rebin(200)  \n",
    "model = Const1D() + GaussCurve()\n",
    "start_pars = [90,90,2000,7500]\n",
    "loglike = GaussianLogLikelihood(lc.time,lc.counts,lc.counts_err,model)\n",
    "parest = ParameterEstimation(fitmethod='BFGS', max_post=False)\n",
    "res = parest.fit(loglike,start_pars,scipy_optimize_options={'options':{'maxiter':100000,'gtol':1e-10,'disp':True}})\n",
    "df.iloc[17,1] = model.amplitude_1.value/model.amplitude_0.value\n",
    "df.iloc[17,2] = model.width_1.value"
   ]
  },
  {
   "cell_type": "code",
   "execution_count": 14,
   "id": "32b6fe17",
   "metadata": {},
   "outputs": [
    {
     "name": "stderr",
     "output_type": "stream",
     "text": [
      "WARNING:root:Computing the bin time ``dt``. This can take time. If you know the bin time, please specify it at light curve creation\n"
     ]
    },
    {
     "name": "stdout",
     "output_type": "stream",
     "text": [
      "Optimization terminated successfully.\n",
      "         Current function value: 1046.793857\n",
      "         Iterations: 33\n",
      "         Function evaluations: 175\n",
      "         Gradient evaluations: 35\n"
     ]
    }
   ],
   "source": [
    "lc = XMMtolc('Eruption_lcsegs/0864330101_e4.lc')\n",
    "lc = lc.rebin(200)  \n",
    "model = Const1D() + GaussCurve()\n",
    "start_pars = [90,150,2000,22500]\n",
    "loglike = GaussianLogLikelihood(lc.time,lc.counts,lc.counts_err,model)\n",
    "parest = ParameterEstimation(fitmethod='BFGS', max_post=False)\n",
    "res = parest.fit(loglike,start_pars,scipy_optimize_options={'options':{'maxiter':100000,'gtol':1e-10,'disp':True}})\n",
    "df.iloc[19,1] = model.amplitude_1.value/model.amplitude_0.value\n",
    "df.iloc[19,2] = model.width_1.value"
   ]
  },
  {
   "cell_type": "code",
   "execution_count": 15,
   "id": "133d1589",
   "metadata": {},
   "outputs": [
    {
     "name": "stderr",
     "output_type": "stream",
     "text": [
      "WARNING:root:Computing the bin time ``dt``. This can take time. If you know the bin time, please specify it at light curve creation\n"
     ]
    },
    {
     "name": "stdout",
     "output_type": "stream",
     "text": [
      "Warning: Desired error not necessarily achieved due to precision loss.\n",
      "         Current function value: 893.976452\n",
      "         Iterations: 44\n",
      "         Function evaluations: 487\n",
      "         Gradient evaluations: 95\n"
     ]
    }
   ],
   "source": [
    "lc = XMMtolc('Eruption_lcsegs/0864560101_e2.lc')\n",
    "lc = lc.rebin(200)\n",
    "model = Const1D() + GaussCurve()\n",
    "start_pars = [40,200,2000,13000]\n",
    "loglike = GaussianLogLikelihood(lc.time,lc.counts,lc.counts_err,model)\n",
    "parest = ParameterEstimation(fitmethod='BFGS', max_post=False)\n",
    "res = parest.fit(loglike,start_pars,scipy_optimize_options={'options':{'maxiter':100000,'gtol':1e-10,'disp':True}})\n",
    "df.iloc[21,1] = model.amplitude_1.value/model.amplitude_0.value\n",
    "df.iloc[21,2] = model.width_1.value"
   ]
  },
  {
   "cell_type": "code",
   "execution_count": 16,
   "id": "24103e98",
   "metadata": {},
   "outputs": [
    {
     "name": "stderr",
     "output_type": "stream",
     "text": [
      "WARNING:root:Computing the bin time ``dt``. This can take time. If you know the bin time, please specify it at light curve creation\n"
     ]
    },
    {
     "name": "stdout",
     "output_type": "stream",
     "text": [
      "Warning: Desired error not necessarily achieved due to precision loss.\n",
      "         Current function value: 483.968906\n",
      "         Iterations: 34\n",
      "         Function evaluations: 190\n",
      "         Gradient evaluations: 38\n"
     ]
    }
   ],
   "source": [
    "lc = XMMtolc('Eruption_lcsegs/0864560101_e3.lc')\n",
    "lc = lc.rebin(200)\n",
    "model = Const1D() + GaussCurve()\n",
    "start_pars = [20,200,2000,16000]\n",
    "loglike = GaussianLogLikelihood(lc.time,lc.counts,lc.counts_err,model)\n",
    "parest = ParameterEstimation(fitmethod='BFGS', max_post=False)\n",
    "res = parest.fit(loglike,start_pars,scipy_optimize_options={'options':{'maxiter':100000,'gtol':1e-10,'disp':True}})\n",
    "df.iloc[22,1] = model.amplitude_1.value/model.amplitude_0.value\n",
    "df.iloc[22,2] = model.width_1.value"
   ]
  },
  {
   "cell_type": "code",
   "execution_count": 17,
   "id": "2e8b3024",
   "metadata": {},
   "outputs": [
    {
     "name": "stderr",
     "output_type": "stream",
     "text": [
      "WARNING:root:Computing the bin time ``dt``. This can take time. If you know the bin time, please specify it at light curve creation\n"
     ]
    },
    {
     "name": "stdout",
     "output_type": "stream",
     "text": [
      "Warning: Desired error not necessarily achieved due to precision loss.\n",
      "         Current function value: 476.346343\n",
      "         Iterations: 38\n",
      "         Function evaluations: 230\n",
      "         Gradient evaluations: 46\n"
     ]
    }
   ],
   "source": [
    "lc = XMMtolc('Eruption_lcsegs/0864560101_e4.lc')\n",
    "lc = lc.rebin(200)  \n",
    "model = Const1D() + GaussCurve()\n",
    "start_pars = [40,200,2000,7000]\n",
    "loglike = GaussianLogLikelihood(lc.time,lc.counts,lc.counts_err,model)\n",
    "parest = ParameterEstimation(fitmethod='BFGS', max_post=False)\n",
    "res = parest.fit(loglike,start_pars,scipy_optimize_options={'options':{'maxiter':100000,'gtol':1e-10,'disp':True}})\n",
    "df.iloc[23,1] = model.amplitude_1.value/model.amplitude_0.value\n",
    "df.iloc[23,2] = model.width_1.value"
   ]
  },
  {
   "cell_type": "code",
   "execution_count": 18,
   "id": "6ea738b3",
   "metadata": {},
   "outputs": [
    {
     "name": "stderr",
     "output_type": "stream",
     "text": [
      "WARNING:root:Computing the bin time ``dt``. This can take time. If you know the bin time, please specify it at light curve creation\n"
     ]
    },
    {
     "name": "stdout",
     "output_type": "stream",
     "text": [
      "Optimization terminated successfully.\n",
      "         Current function value: 392.931697\n",
      "         Iterations: 45\n",
      "         Function evaluations: 305\n",
      "         Gradient evaluations: 61\n"
     ]
    }
   ],
   "source": [
    "lc = XMMtolc('Eruption_lcsegs/0864560101_e6.lc')\n",
    "lc = lc.rebin(200)\n",
    "model = Const1D() + GaussCurve()\n",
    "start_pars = [40,200,2000,2500]\n",
    "loglike = GaussianLogLikelihood(lc.time,lc.counts,lc.counts_err,model)\n",
    "parest = ParameterEstimation(fitmethod='BFGS', max_post=False)\n",
    "res = parest.fit(loglike,start_pars,scipy_optimize_options={'options':{'maxiter':100000,'gtol':1e-10,'disp':True}})\n",
    "df.iloc[25,1] = model.amplitude_1.value/model.amplitude_0.value\n",
    "df.iloc[25,2] = model.width_1.value"
   ]
  },
  {
   "cell_type": "code",
   "execution_count": 19,
   "id": "549e379d",
   "metadata": {},
   "outputs": [],
   "source": [
    "df.to_csv('eruption_profiles.csv')"
   ]
  },
  {
   "cell_type": "code",
   "execution_count": 20,
   "id": "39670283",
   "metadata": {},
   "outputs": [
    {
     "data": {
      "text/html": [
       "<div>\n",
       "<style scoped>\n",
       "    .dataframe tbody tr th:only-of-type {\n",
       "        vertical-align: middle;\n",
       "    }\n",
       "\n",
       "    .dataframe tbody tr th {\n",
       "        vertical-align: top;\n",
       "    }\n",
       "\n",
       "    .dataframe thead th {\n",
       "        text-align: right;\n",
       "    }\n",
       "</style>\n",
       "<table border=\"1\" class=\"dataframe\">\n",
       "  <thead>\n",
       "    <tr style=\"text-align: right;\">\n",
       "      <th></th>\n",
       "      <th>Seg</th>\n",
       "      <th>Amplitude</th>\n",
       "      <th>Duration</th>\n",
       "    </tr>\n",
       "  </thead>\n",
       "  <tbody>\n",
       "    <tr>\n",
       "      <th>0</th>\n",
       "      <td>0124710801_e1.lc</td>\n",
       "      <td>7.735394</td>\n",
       "      <td>1299.880227</td>\n",
       "    </tr>\n",
       "    <tr>\n",
       "      <th>1</th>\n",
       "      <td>0823680101_e1.lc</td>\n",
       "      <td>5.663421</td>\n",
       "      <td>1925.300964</td>\n",
       "    </tr>\n",
       "    <tr>\n",
       "      <th>2</th>\n",
       "      <td>0823680101_e2.lc</td>\n",
       "      <td>7.598667</td>\n",
       "      <td>2066.116675</td>\n",
       "    </tr>\n",
       "    <tr>\n",
       "      <th>3</th>\n",
       "      <td>0831790701_e1.lc</td>\n",
       "      <td>6.000399</td>\n",
       "      <td>2047.941785</td>\n",
       "    </tr>\n",
       "    <tr>\n",
       "      <th>4</th>\n",
       "      <td>0831790701_e2.lc</td>\n",
       "      <td>5.627173</td>\n",
       "      <td>2025.858664</td>\n",
       "    </tr>\n",
       "    <tr>\n",
       "      <th>5</th>\n",
       "      <td>0831790701_e3.lc</td>\n",
       "      <td>7.415376</td>\n",
       "      <td>2036.516921</td>\n",
       "    </tr>\n",
       "    <tr>\n",
       "      <th>6</th>\n",
       "      <td>0831790701_e4.lc</td>\n",
       "      <td>5.186093</td>\n",
       "      <td>2034.002427</td>\n",
       "    </tr>\n",
       "    <tr>\n",
       "      <th>7</th>\n",
       "      <td>0831790701_e5.lc</td>\n",
       "      <td>5.902244</td>\n",
       "      <td>2087.143830</td>\n",
       "    </tr>\n",
       "    <tr>\n",
       "      <th>8</th>\n",
       "      <td>0851180401_e1.lc</td>\n",
       "      <td>9.650009</td>\n",
       "      <td>2007.005464</td>\n",
       "    </tr>\n",
       "    <tr>\n",
       "      <th>9</th>\n",
       "      <td>0851180401_e2.lc</td>\n",
       "      <td>7.631581</td>\n",
       "      <td>2185.789872</td>\n",
       "    </tr>\n",
       "    <tr>\n",
       "      <th>10</th>\n",
       "      <td>0851180401_e3.lc</td>\n",
       "      <td>6.951863</td>\n",
       "      <td>2050.565049</td>\n",
       "    </tr>\n",
       "    <tr>\n",
       "      <th>11</th>\n",
       "      <td>0851180401_e4.lc</td>\n",
       "      <td>6.218461</td>\n",
       "      <td>2176.781340</td>\n",
       "    </tr>\n",
       "    <tr>\n",
       "      <th>12</th>\n",
       "      <td>0851180401_e5.lc</td>\n",
       "      <td>6.466092</td>\n",
       "      <td>2235.935581</td>\n",
       "    </tr>\n",
       "    <tr>\n",
       "      <th>13</th>\n",
       "      <td>0851180501_e1.lc</td>\n",
       "      <td>13.195818</td>\n",
       "      <td>1223.599084</td>\n",
       "    </tr>\n",
       "    <tr>\n",
       "      <th>14</th>\n",
       "      <td>0851180501_e2.lc</td>\n",
       "      <td>12.028561</td>\n",
       "      <td>1426.344804</td>\n",
       "    </tr>\n",
       "    <tr>\n",
       "      <th>15</th>\n",
       "      <td>0851180501_e3.lc</td>\n",
       "      <td>17.417193</td>\n",
       "      <td>1245.496101</td>\n",
       "    </tr>\n",
       "    <tr>\n",
       "      <th>16</th>\n",
       "      <td>0864330101_e1.lc</td>\n",
       "      <td>1.452313</td>\n",
       "      <td>1452.115742</td>\n",
       "    </tr>\n",
       "    <tr>\n",
       "      <th>17</th>\n",
       "      <td>0864330101_e2.lc</td>\n",
       "      <td>1.053518</td>\n",
       "      <td>1897.019693</td>\n",
       "    </tr>\n",
       "    <tr>\n",
       "      <th>18</th>\n",
       "      <td>0864330101_e3.lc</td>\n",
       "      <td>1.884154</td>\n",
       "      <td>2229.310385</td>\n",
       "    </tr>\n",
       "    <tr>\n",
       "      <th>19</th>\n",
       "      <td>0864330101_e4.lc</td>\n",
       "      <td>1.506477</td>\n",
       "      <td>1572.543148</td>\n",
       "    </tr>\n",
       "    <tr>\n",
       "      <th>20</th>\n",
       "      <td>0864560101_e1.lc</td>\n",
       "      <td>4.253677</td>\n",
       "      <td>1110.844330</td>\n",
       "    </tr>\n",
       "    <tr>\n",
       "      <th>21</th>\n",
       "      <td>0864560101_e2.lc</td>\n",
       "      <td>10.424279</td>\n",
       "      <td>1507.208762</td>\n",
       "    </tr>\n",
       "    <tr>\n",
       "      <th>22</th>\n",
       "      <td>0864560101_e3.lc</td>\n",
       "      <td>9.792684</td>\n",
       "      <td>1361.305690</td>\n",
       "    </tr>\n",
       "    <tr>\n",
       "      <th>23</th>\n",
       "      <td>0864560101_e4.lc</td>\n",
       "      <td>9.225905</td>\n",
       "      <td>1021.617735</td>\n",
       "    </tr>\n",
       "    <tr>\n",
       "      <th>24</th>\n",
       "      <td>0864560101_e5.lc</td>\n",
       "      <td>10.882837</td>\n",
       "      <td>1327.925492</td>\n",
       "    </tr>\n",
       "    <tr>\n",
       "      <th>25</th>\n",
       "      <td>0864560101_e6.lc</td>\n",
       "      <td>10.627619</td>\n",
       "      <td>1243.067313</td>\n",
       "    </tr>\n",
       "    <tr>\n",
       "      <th>26</th>\n",
       "      <td>0864560101_e7.lc</td>\n",
       "      <td>11.375635</td>\n",
       "      <td>1461.310189</td>\n",
       "    </tr>\n",
       "    <tr>\n",
       "      <th>27</th>\n",
       "      <td>0864560101_e8.lc</td>\n",
       "      <td>11.835408</td>\n",
       "      <td>1275.011788</td>\n",
       "    </tr>\n",
       "  </tbody>\n",
       "</table>\n",
       "</div>"
      ],
      "text/plain": [
       "                 Seg  Amplitude     Duration\n",
       "0   0124710801_e1.lc   7.735394  1299.880227\n",
       "1   0823680101_e1.lc   5.663421  1925.300964\n",
       "2   0823680101_e2.lc   7.598667  2066.116675\n",
       "3   0831790701_e1.lc   6.000399  2047.941785\n",
       "4   0831790701_e2.lc   5.627173  2025.858664\n",
       "5   0831790701_e3.lc   7.415376  2036.516921\n",
       "6   0831790701_e4.lc   5.186093  2034.002427\n",
       "7   0831790701_e5.lc   5.902244  2087.143830\n",
       "8   0851180401_e1.lc   9.650009  2007.005464\n",
       "9   0851180401_e2.lc   7.631581  2185.789872\n",
       "10  0851180401_e3.lc   6.951863  2050.565049\n",
       "11  0851180401_e4.lc   6.218461  2176.781340\n",
       "12  0851180401_e5.lc   6.466092  2235.935581\n",
       "13  0851180501_e1.lc  13.195818  1223.599084\n",
       "14  0851180501_e2.lc  12.028561  1426.344804\n",
       "15  0851180501_e3.lc  17.417193  1245.496101\n",
       "16  0864330101_e1.lc   1.452313  1452.115742\n",
       "17  0864330101_e2.lc   1.053518  1897.019693\n",
       "18  0864330101_e3.lc   1.884154  2229.310385\n",
       "19  0864330101_e4.lc   1.506477  1572.543148\n",
       "20  0864560101_e1.lc   4.253677  1110.844330\n",
       "21  0864560101_e2.lc  10.424279  1507.208762\n",
       "22  0864560101_e3.lc   9.792684  1361.305690\n",
       "23  0864560101_e4.lc   9.225905  1021.617735\n",
       "24  0864560101_e5.lc  10.882837  1327.925492\n",
       "25  0864560101_e6.lc  10.627619  1243.067313\n",
       "26  0864560101_e7.lc  11.375635  1461.310189\n",
       "27  0864560101_e8.lc  11.835408  1275.011788"
      ]
     },
     "execution_count": 20,
     "metadata": {},
     "output_type": "execute_result"
    }
   ],
   "source": [
    "df"
   ]
  }
 ],
 "metadata": {
  "kernelspec": {
   "display_name": "Python 3 (ipykernel)",
   "language": "python",
   "name": "python3"
  },
  "language_info": {
   "codemirror_mode": {
    "name": "ipython",
    "version": 3
   },
   "file_extension": ".py",
   "mimetype": "text/x-python",
   "name": "python",
   "nbconvert_exporter": "python",
   "pygments_lexer": "ipython3",
   "version": "3.8.3"
  }
 },
 "nbformat": 4,
 "nbformat_minor": 5
}
