{
 "cells": [
  {
   "cell_type": "code",
   "execution_count": 1,
   "id": "35f30682",
   "metadata": {},
   "outputs": [],
   "source": [
    "import numpy as np\n",
    "from random import sample\n",
    "\n",
    "qpe_feats = np.loadtxt('Features/qpe_feats.csv',delimiter=',')\n",
    "nqpe_feats = np.loadtxt('Features/no_qpe_feats.csv',delimiter=',')\n",
    "total_feats = int(len(qpe_feats)+len(nqpe_feats))"
   ]
  },
  {
   "cell_type": "code",
   "execution_count": 2,
   "id": "2bb0dfdb",
   "metadata": {
    "scrolled": false
   },
   "outputs": [],
   "source": [
    "indices = list(np.arange(len(qpe_feats)))\n",
    "\n",
    "#create n samples of indices from the total length\n",
    "n = 10\n",
    "index_sets = []\n",
    "\n",
    "for i in range(n):\n",
    "    sets = int(n-i)\n",
    "    sample_indices = sample(indices,int(len(indices)/sets))\n",
    "    index_sets.append(sample_indices)\n",
    "    for j in sample_indices:\n",
    "        indices.remove(j)"
   ]
  },
  {
   "cell_type": "code",
   "execution_count": 3,
   "id": "72743413",
   "metadata": {},
   "outputs": [],
   "source": [
    "qpe_feature_sets = []\n",
    "nqpe_feature_sets = []\n",
    "\n",
    "for i in range(n):\n",
    "    qpe_feature_sets.append(qpe_feats[index_sets[i]])\n",
    "    nqpe_feature_sets.append(nqpe_feats[index_sets[i]])"
   ]
  },
  {
   "cell_type": "code",
   "execution_count": 4,
   "id": "41fd6f06",
   "metadata": {},
   "outputs": [],
   "source": [
    "feature_sets = []\n",
    "for i in range(n):\n",
    "    feature_sets.append([np.concatenate((qpe_feature_sets[i],nqpe_feature_sets[i]))])"
   ]
  },
  {
   "cell_type": "code",
   "execution_count": 5,
   "id": "1c9ac728",
   "metadata": {},
   "outputs": [],
   "source": [
    "# for i in range(10):\n",
    "#     print(feature_sets[i][0][0:10])"
   ]
  },
  {
   "cell_type": "code",
   "execution_count": 6,
   "id": "8238bc6e",
   "metadata": {},
   "outputs": [
    {
     "name": "stdout",
     "output_type": "stream",
     "text": [
      "10\n",
      "1\n",
      "10000\n",
      "15\n"
     ]
    }
   ],
   "source": [
    "print(len(feature_sets))\n",
    "print(len(feature_sets[0]))\n",
    "print(len(feature_sets[0][0]))\n",
    "print(len(feature_sets[0][0][0]))"
   ]
  },
  {
   "cell_type": "code",
   "execution_count": 7,
   "id": "13863707",
   "metadata": {},
   "outputs": [],
   "source": [
    "#shuffle the lc features in each subset\n",
    "for i in range(n):\n",
    "    subset_indices = list(np.arange(len(feature_sets[0][0])))\n",
    "    subset_indices = sample(subset_indices,int(len(subset_indices)))\n",
    "    feature_sets[i][0] = feature_sets[i][0][subset_indices]\n",
    "\n",
    "# for i in range(10):\n",
    "#     print(feature_sets[i][0][0:10])"
   ]
  },
  {
   "cell_type": "code",
   "execution_count": 8,
   "id": "5642f94e",
   "metadata": {},
   "outputs": [],
   "source": [
    "# print(len(feature_sets))\n",
    "# print(len(feature_sets[0]))\n",
    "# print(len(feature_sets[0][0]))\n",
    "# print(len(feature_sets[0][0][0]))"
   ]
  },
  {
   "cell_type": "code",
   "execution_count": 9,
   "id": "c400b0bc",
   "metadata": {},
   "outputs": [
    {
     "data": {
      "text/plain": [
       "(10, 10000, 15)"
      ]
     },
     "execution_count": 9,
     "metadata": {},
     "output_type": "execute_result"
    }
   ],
   "source": [
    "output_array = np.zeros((n,len(feature_sets[0][0]),len(feature_sets[0][0][0])))\n",
    "output_array.shape"
   ]
  },
  {
   "cell_type": "code",
   "execution_count": 10,
   "id": "07519d6a",
   "metadata": {},
   "outputs": [],
   "source": [
    "for i in range(n):\n",
    "    for j in range(int(total_feats/n)):\n",
    "        output_array[i,j,:] = feature_sets[i][0][j]"
   ]
  },
  {
   "cell_type": "code",
   "execution_count": 11,
   "id": "48d58f4e",
   "metadata": {},
   "outputs": [],
   "source": [
    "# for i in range(10):\n",
    "#     print(output_array[i,0:10,:])"
   ]
  },
  {
   "cell_type": "code",
   "execution_count": 12,
   "id": "a64c94d7",
   "metadata": {},
   "outputs": [],
   "source": [
    "for i in range(n):\n",
    "    np.savetxt('Features/kfold_'+str(n)+'featuresets_set'+str(i)+'.csv',output_array[i],delimiter=',')"
   ]
  }
 ],
 "metadata": {
  "kernelspec": {
   "display_name": "Python 3 (ipykernel)",
   "language": "python",
   "name": "python3"
  },
  "language_info": {
   "codemirror_mode": {
    "name": "ipython",
    "version": 3
   },
   "file_extension": ".py",
   "mimetype": "text/x-python",
   "name": "python",
   "nbconvert_exporter": "python",
   "pygments_lexer": "ipython3",
   "version": "3.8.13"
  }
 },
 "nbformat": 4,
 "nbformat_minor": 5
}
