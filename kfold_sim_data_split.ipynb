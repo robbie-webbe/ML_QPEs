{
 "cells": [
  {
   "cell_type": "code",
   "execution_count": 1,
   "id": "35f30682",
   "metadata": {},
   "outputs": [
    {
     "data": {
      "text/plain": [
       "(90000, 15)"
      ]
     },
     "execution_count": 1,
     "metadata": {},
     "output_type": "execute_result"
    }
   ],
   "source": [
    "import numpy as np\n",
    "from random import sample\n",
    "\n",
    "sim_feats = np.loadtxt('Features/train_val_data.csv',delimiter=',')\n",
    "total_feats = int(len(sim_feats))\n",
    "sim_feats.shape"
   ]
  },
  {
   "cell_type": "code",
   "execution_count": 2,
   "id": "2bb0dfdb",
   "metadata": {
    "scrolled": false
   },
   "outputs": [],
   "source": [
    "indices = list(np.arange(len(sim_feats)))\n",
    "\n",
    "#create n samples of indices from the total length\n",
    "n = 10\n",
    "index_sets = []\n",
    "\n",
    "for i in range(n):\n",
    "    sets = int(n-i)\n",
    "    sample_indices = sample(indices,int(len(indices)/sets))\n",
    "    index_sets.append([sample_indices])\n",
    "    for j in sample_indices:\n",
    "        indices.remove(j)"
   ]
  },
  {
   "cell_type": "code",
   "execution_count": 3,
   "id": "72743413",
   "metadata": {},
   "outputs": [
    {
     "name": "stderr",
     "output_type": "stream",
     "text": [
      "/var/folders/_g/__jdbxvd1bjbc3jfc40_1v599x9_5n/T/ipykernel_17742/2475972402.py:4: FutureWarning: Using a non-tuple sequence for multidimensional indexing is deprecated; use `arr[tuple(seq)]` instead of `arr[seq]`. In the future this will be interpreted as an array index, `arr[np.array(seq)]`, which will result either in an error or a different result.\n",
      "  feature_sets.append(sim_feats[index_sets[i]])\n"
     ]
    }
   ],
   "source": [
    "feature_sets = []\n",
    "\n",
    "for i in range(n):\n",
    "    feature_sets.append(sim_feats[index_sets[i]])"
   ]
  },
  {
   "cell_type": "code",
   "execution_count": 4,
   "id": "b5bacd94",
   "metadata": {},
   "outputs": [
    {
     "name": "stdout",
     "output_type": "stream",
     "text": [
      "10\n",
      "9000\n",
      "15\n"
     ]
    }
   ],
   "source": [
    "print(len(feature_sets))\n",
    "print(len(feature_sets[0]))\n",
    "print(len(feature_sets[0][0]))"
   ]
  },
  {
   "cell_type": "code",
   "execution_count": 5,
   "id": "1c9ac728",
   "metadata": {},
   "outputs": [],
   "source": [
    "# for i in range(5):\n",
    "#     print(feature_sets[i][0][0:10])"
   ]
  },
  {
   "cell_type": "code",
   "execution_count": 6,
   "id": "c400b0bc",
   "metadata": {},
   "outputs": [
    {
     "data": {
      "text/plain": [
       "(10, 9000, 15)"
      ]
     },
     "execution_count": 6,
     "metadata": {},
     "output_type": "execute_result"
    }
   ],
   "source": [
    "output_array = np.zeros((n,len(feature_sets[0]),len(feature_sets[0][0])))\n",
    "output_array.shape"
   ]
  },
  {
   "cell_type": "code",
   "execution_count": 7,
   "id": "07519d6a",
   "metadata": {},
   "outputs": [],
   "source": [
    "for i in range(n):\n",
    "    for j in range(int(total_feats/n)):\n",
    "        output_array[i,j,:] = feature_sets[i][j]"
   ]
  },
  {
   "cell_type": "code",
   "execution_count": 8,
   "id": "a64c94d7",
   "metadata": {},
   "outputs": [],
   "source": [
    "for i in range(n):\n",
    "    np.savetxt('Features/kfold_'+str(n)+'featuresets_set'+str(i)+'.csv',output_array[i],delimiter=',')"
   ]
  }
 ],
 "metadata": {
  "kernelspec": {
   "display_name": "Python 3 (ipykernel)",
   "language": "python",
   "name": "python3"
  },
  "language_info": {
   "codemirror_mode": {
    "name": "ipython",
    "version": 3
   },
   "file_extension": ".py",
   "mimetype": "text/x-python",
   "name": "python",
   "nbconvert_exporter": "python",
   "pygments_lexer": "ipython3",
   "version": "3.8.13"
  }
 },
 "nbformat": 4,
 "nbformat_minor": 5
}
