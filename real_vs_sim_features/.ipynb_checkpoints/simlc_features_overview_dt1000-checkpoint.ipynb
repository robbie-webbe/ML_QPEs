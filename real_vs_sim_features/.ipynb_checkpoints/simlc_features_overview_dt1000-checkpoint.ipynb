{
 "cells": [
  {
   "cell_type": "code",
   "execution_count": 1,
   "id": "c585f50a",
   "metadata": {},
   "outputs": [],
   "source": [
    "import pandas as pd\n",
    "import matplotlib.pyplot as plt\n",
    "\n",
    "col_names = ['STD/Mean','Prop > 1STD','Prop > 2STD','Prop > 3STD','Prop > 4STD','Prop > 5STD','Prop > 6STD','IQR/STD',\n",
    "            'Skew','Kurtosis','Reverse CCF','2nd ACF Peak','CSSD','Von Neumann Ratio','QPE?']\n",
    "qpe_df = pd.read_csv('/Users/do19150/Gits/ML_QPE/Features/qpe_feats_dt1000.csv',names = col_names)\n",
    "no_qpe_df = pd.read_csv('/Users/do19150/Gits/ML_QPE/Features/no_qpe_feats_dt1000.csv',names = col_names)\n"
   ]
  },
  {
   "cell_type": "code",
   "execution_count": 2,
   "id": "c8c23dd8",
   "metadata": {},
   "outputs": [
    {
     "data": {
      "text/html": [
       "<div>\n",
       "<style scoped>\n",
       "    .dataframe tbody tr th:only-of-type {\n",
       "        vertical-align: middle;\n",
       "    }\n",
       "\n",
       "    .dataframe tbody tr th {\n",
       "        vertical-align: top;\n",
       "    }\n",
       "\n",
       "    .dataframe thead th {\n",
       "        text-align: right;\n",
       "    }\n",
       "</style>\n",
       "<table border=\"1\" class=\"dataframe\">\n",
       "  <thead>\n",
       "    <tr style=\"text-align: right;\">\n",
       "      <th></th>\n",
       "      <th>STD/Mean</th>\n",
       "      <th>Prop &gt; 1STD</th>\n",
       "      <th>Prop &gt; 2STD</th>\n",
       "      <th>Prop &gt; 3STD</th>\n",
       "      <th>Prop &gt; 4STD</th>\n",
       "      <th>Prop &gt; 5STD</th>\n",
       "      <th>Prop &gt; 6STD</th>\n",
       "      <th>IQR/STD</th>\n",
       "      <th>Skew</th>\n",
       "      <th>Kurtosis</th>\n",
       "      <th>Reverse CCF</th>\n",
       "      <th>2nd ACF Peak</th>\n",
       "      <th>CSSD</th>\n",
       "      <th>Von Neumann Ratio</th>\n",
       "      <th>QPE?</th>\n",
       "    </tr>\n",
       "  </thead>\n",
       "  <tbody>\n",
       "    <tr>\n",
       "      <th>count</th>\n",
       "      <td>50000.000000</td>\n",
       "      <td>50000.000000</td>\n",
       "      <td>50000.000000</td>\n",
       "      <td>50000.000000</td>\n",
       "      <td>50000.000000</td>\n",
       "      <td>50000.000000</td>\n",
       "      <td>50000.000000</td>\n",
       "      <td>50000.000000</td>\n",
       "      <td>50000.000000</td>\n",
       "      <td>50000.000000</td>\n",
       "      <td>50000.000000</td>\n",
       "      <td>50000.000000</td>\n",
       "      <td>50000.000000</td>\n",
       "      <td>50000.000000</td>\n",
       "      <td>50000.0</td>\n",
       "    </tr>\n",
       "    <tr>\n",
       "      <th>mean</th>\n",
       "      <td>1.133470</td>\n",
       "      <td>0.145247</td>\n",
       "      <td>0.045494</td>\n",
       "      <td>0.022821</td>\n",
       "      <td>0.011959</td>\n",
       "      <td>0.006139</td>\n",
       "      <td>0.003056</td>\n",
       "      <td>0.721677</td>\n",
       "      <td>2.919540</td>\n",
       "      <td>13.409402</td>\n",
       "      <td>-0.208826</td>\n",
       "      <td>0.399902</td>\n",
       "      <td>0.743961</td>\n",
       "      <td>0.886345</td>\n",
       "      <td>1.0</td>\n",
       "    </tr>\n",
       "    <tr>\n",
       "      <th>std</th>\n",
       "      <td>0.434568</td>\n",
       "      <td>0.107104</td>\n",
       "      <td>0.021101</td>\n",
       "      <td>0.013583</td>\n",
       "      <td>0.009306</td>\n",
       "      <td>0.006833</td>\n",
       "      <td>0.004901</td>\n",
       "      <td>0.432878</td>\n",
       "      <td>1.815558</td>\n",
       "      <td>13.885179</td>\n",
       "      <td>29.477225</td>\n",
       "      <td>0.276894</td>\n",
       "      <td>0.159839</td>\n",
       "      <td>0.567423</td>\n",
       "      <td>0.0</td>\n",
       "    </tr>\n",
       "    <tr>\n",
       "      <th>min</th>\n",
       "      <td>0.306115</td>\n",
       "      <td>0.010000</td>\n",
       "      <td>0.000000</td>\n",
       "      <td>0.000000</td>\n",
       "      <td>0.000000</td>\n",
       "      <td>0.000000</td>\n",
       "      <td>0.000000</td>\n",
       "      <td>0.044986</td>\n",
       "      <td>-1.358750</td>\n",
       "      <td>-1.521601</td>\n",
       "      <td>-90.950252</td>\n",
       "      <td>-0.020415</td>\n",
       "      <td>0.040816</td>\n",
       "      <td>0.027807</td>\n",
       "      <td>1.0</td>\n",
       "    </tr>\n",
       "    <tr>\n",
       "      <th>25%</th>\n",
       "      <td>0.793071</td>\n",
       "      <td>0.070000</td>\n",
       "      <td>0.030000</td>\n",
       "      <td>0.010000</td>\n",
       "      <td>0.000000</td>\n",
       "      <td>0.000000</td>\n",
       "      <td>0.000000</td>\n",
       "      <td>0.379627</td>\n",
       "      <td>1.800429</td>\n",
       "      <td>3.276163</td>\n",
       "      <td>-16.821663</td>\n",
       "      <td>0.122920</td>\n",
       "      <td>0.683673</td>\n",
       "      <td>0.492364</td>\n",
       "      <td>1.0</td>\n",
       "    </tr>\n",
       "    <tr>\n",
       "      <th>50%</th>\n",
       "      <td>1.135310</td>\n",
       "      <td>0.110000</td>\n",
       "      <td>0.050000</td>\n",
       "      <td>0.020000</td>\n",
       "      <td>0.010000</td>\n",
       "      <td>0.000000</td>\n",
       "      <td>0.000000</td>\n",
       "      <td>0.590953</td>\n",
       "      <td>2.927341</td>\n",
       "      <td>9.637192</td>\n",
       "      <td>-6.002926</td>\n",
       "      <td>0.401647</td>\n",
       "      <td>0.795918</td>\n",
       "      <td>0.809243</td>\n",
       "      <td>1.0</td>\n",
       "    </tr>\n",
       "    <tr>\n",
       "      <th>75%</th>\n",
       "      <td>1.424102</td>\n",
       "      <td>0.180000</td>\n",
       "      <td>0.060000</td>\n",
       "      <td>0.030000</td>\n",
       "      <td>0.020000</td>\n",
       "      <td>0.010000</td>\n",
       "      <td>0.010000</td>\n",
       "      <td>1.001040</td>\n",
       "      <td>4.044718</td>\n",
       "      <td>19.286836</td>\n",
       "      <td>11.712614</td>\n",
       "      <td>0.653563</td>\n",
       "      <td>0.857143</td>\n",
       "      <td>1.237719</td>\n",
       "      <td>1.0</td>\n",
       "    </tr>\n",
       "    <tr>\n",
       "      <th>max</th>\n",
       "      <td>3.662589</td>\n",
       "      <td>0.530000</td>\n",
       "      <td>0.120000</td>\n",
       "      <td>0.070000</td>\n",
       "      <td>0.040000</td>\n",
       "      <td>0.030000</td>\n",
       "      <td>0.020000</td>\n",
       "      <td>2.027812</td>\n",
       "      <td>9.553301</td>\n",
       "      <td>91.118058</td>\n",
       "      <td>99.159982</td>\n",
       "      <td>0.969778</td>\n",
       "      <td>0.979592</td>\n",
       "      <td>3.144305</td>\n",
       "      <td>1.0</td>\n",
       "    </tr>\n",
       "  </tbody>\n",
       "</table>\n",
       "</div>"
      ],
      "text/plain": [
       "           STD/Mean   Prop > 1STD   Prop > 2STD   Prop > 3STD   Prop > 4STD  \\\n",
       "count  50000.000000  50000.000000  50000.000000  50000.000000  50000.000000   \n",
       "mean       1.133470      0.145247      0.045494      0.022821      0.011959   \n",
       "std        0.434568      0.107104      0.021101      0.013583      0.009306   \n",
       "min        0.306115      0.010000      0.000000      0.000000      0.000000   \n",
       "25%        0.793071      0.070000      0.030000      0.010000      0.000000   \n",
       "50%        1.135310      0.110000      0.050000      0.020000      0.010000   \n",
       "75%        1.424102      0.180000      0.060000      0.030000      0.020000   \n",
       "max        3.662589      0.530000      0.120000      0.070000      0.040000   \n",
       "\n",
       "        Prop > 5STD   Prop > 6STD       IQR/STD          Skew      Kurtosis  \\\n",
       "count  50000.000000  50000.000000  50000.000000  50000.000000  50000.000000   \n",
       "mean       0.006139      0.003056      0.721677      2.919540     13.409402   \n",
       "std        0.006833      0.004901      0.432878      1.815558     13.885179   \n",
       "min        0.000000      0.000000      0.044986     -1.358750     -1.521601   \n",
       "25%        0.000000      0.000000      0.379627      1.800429      3.276163   \n",
       "50%        0.000000      0.000000      0.590953      2.927341      9.637192   \n",
       "75%        0.010000      0.010000      1.001040      4.044718     19.286836   \n",
       "max        0.030000      0.020000      2.027812      9.553301     91.118058   \n",
       "\n",
       "        Reverse CCF  2nd ACF Peak          CSSD  Von Neumann Ratio     QPE?  \n",
       "count  50000.000000  50000.000000  50000.000000       50000.000000  50000.0  \n",
       "mean      -0.208826      0.399902      0.743961           0.886345      1.0  \n",
       "std       29.477225      0.276894      0.159839           0.567423      0.0  \n",
       "min      -90.950252     -0.020415      0.040816           0.027807      1.0  \n",
       "25%      -16.821663      0.122920      0.683673           0.492364      1.0  \n",
       "50%       -6.002926      0.401647      0.795918           0.809243      1.0  \n",
       "75%       11.712614      0.653563      0.857143           1.237719      1.0  \n",
       "max       99.159982      0.969778      0.979592           3.144305      1.0  "
      ]
     },
     "execution_count": 2,
     "metadata": {},
     "output_type": "execute_result"
    }
   ],
   "source": [
    "qpe_df.describe()"
   ]
  },
  {
   "cell_type": "code",
   "execution_count": 3,
   "id": "792e1ae8",
   "metadata": {},
   "outputs": [
    {
     "data": {
      "text/html": [
       "<div>\n",
       "<style scoped>\n",
       "    .dataframe tbody tr th:only-of-type {\n",
       "        vertical-align: middle;\n",
       "    }\n",
       "\n",
       "    .dataframe tbody tr th {\n",
       "        vertical-align: top;\n",
       "    }\n",
       "\n",
       "    .dataframe thead th {\n",
       "        text-align: right;\n",
       "    }\n",
       "</style>\n",
       "<table border=\"1\" class=\"dataframe\">\n",
       "  <thead>\n",
       "    <tr style=\"text-align: right;\">\n",
       "      <th></th>\n",
       "      <th>STD/Mean</th>\n",
       "      <th>Prop &gt; 1STD</th>\n",
       "      <th>Prop &gt; 2STD</th>\n",
       "      <th>Prop &gt; 3STD</th>\n",
       "      <th>Prop &gt; 4STD</th>\n",
       "      <th>Prop &gt; 5STD</th>\n",
       "      <th>Prop &gt; 6STD</th>\n",
       "      <th>IQR/STD</th>\n",
       "      <th>Skew</th>\n",
       "      <th>Kurtosis</th>\n",
       "      <th>Reverse CCF</th>\n",
       "      <th>2nd ACF Peak</th>\n",
       "      <th>CSSD</th>\n",
       "      <th>Von Neumann Ratio</th>\n",
       "      <th>QPE?</th>\n",
       "    </tr>\n",
       "  </thead>\n",
       "  <tbody>\n",
       "    <tr>\n",
       "      <th>count</th>\n",
       "      <td>50000.000000</td>\n",
       "      <td>50000.000000</td>\n",
       "      <td>50000.000000</td>\n",
       "      <td>50000.000000</td>\n",
       "      <td>50000.0</td>\n",
       "      <td>50000.0</td>\n",
       "      <td>50000.0</td>\n",
       "      <td>50000.000000</td>\n",
       "      <td>50000.000000</td>\n",
       "      <td>50000.000000</td>\n",
       "      <td>50000.000000</td>\n",
       "      <td>50000.000000</td>\n",
       "      <td>50000.000000</td>\n",
       "      <td>50000.000000</td>\n",
       "      <td>50000.0</td>\n",
       "    </tr>\n",
       "    <tr>\n",
       "      <th>mean</th>\n",
       "      <td>0.517701</td>\n",
       "      <td>0.357402</td>\n",
       "      <td>0.029385</td>\n",
       "      <td>0.000036</td>\n",
       "      <td>0.0</td>\n",
       "      <td>0.0</td>\n",
       "      <td>0.0</td>\n",
       "      <td>1.473230</td>\n",
       "      <td>0.002660</td>\n",
       "      <td>-0.656449</td>\n",
       "      <td>-0.010212</td>\n",
       "      <td>0.090493</td>\n",
       "      <td>0.872036</td>\n",
       "      <td>0.067089</td>\n",
       "      <td>0.0</td>\n",
       "    </tr>\n",
       "    <tr>\n",
       "      <th>std</th>\n",
       "      <td>0.087008</td>\n",
       "      <td>0.048813</td>\n",
       "      <td>0.022928</td>\n",
       "      <td>0.000664</td>\n",
       "      <td>0.0</td>\n",
       "      <td>0.0</td>\n",
       "      <td>0.0</td>\n",
       "      <td>0.222713</td>\n",
       "      <td>0.478300</td>\n",
       "      <td>0.420811</td>\n",
       "      <td>46.738005</td>\n",
       "      <td>0.070268</td>\n",
       "      <td>0.043022</td>\n",
       "      <td>0.001708</td>\n",
       "      <td>0.0</td>\n",
       "    </tr>\n",
       "    <tr>\n",
       "      <th>min</th>\n",
       "      <td>0.287669</td>\n",
       "      <td>0.160000</td>\n",
       "      <td>0.000000</td>\n",
       "      <td>0.000000</td>\n",
       "      <td>0.0</td>\n",
       "      <td>0.0</td>\n",
       "      <td>0.0</td>\n",
       "      <td>0.620294</td>\n",
       "      <td>-1.459296</td>\n",
       "      <td>-1.579727</td>\n",
       "      <td>-93.790712</td>\n",
       "      <td>-0.002578</td>\n",
       "      <td>0.653061</td>\n",
       "      <td>0.052416</td>\n",
       "      <td>0.0</td>\n",
       "    </tr>\n",
       "    <tr>\n",
       "      <th>25%</th>\n",
       "      <td>0.453076</td>\n",
       "      <td>0.320000</td>\n",
       "      <td>0.010000</td>\n",
       "      <td>0.000000</td>\n",
       "      <td>0.0</td>\n",
       "      <td>0.0</td>\n",
       "      <td>0.0</td>\n",
       "      <td>1.322244</td>\n",
       "      <td>-0.344885</td>\n",
       "      <td>-0.963840</td>\n",
       "      <td>-42.996061</td>\n",
       "      <td>0.024475</td>\n",
       "      <td>0.846939</td>\n",
       "      <td>0.066056</td>\n",
       "      <td>0.0</td>\n",
       "    </tr>\n",
       "    <tr>\n",
       "      <th>50%</th>\n",
       "      <td>0.508332</td>\n",
       "      <td>0.360000</td>\n",
       "      <td>0.030000</td>\n",
       "      <td>0.000000</td>\n",
       "      <td>0.0</td>\n",
       "      <td>0.0</td>\n",
       "      <td>0.0</td>\n",
       "      <td>1.490861</td>\n",
       "      <td>0.001624</td>\n",
       "      <td>-0.727286</td>\n",
       "      <td>0.001769</td>\n",
       "      <td>0.084332</td>\n",
       "      <td>0.877551</td>\n",
       "      <td>0.067165</td>\n",
       "      <td>0.0</td>\n",
       "    </tr>\n",
       "    <tr>\n",
       "      <th>75%</th>\n",
       "      <td>0.573225</td>\n",
       "      <td>0.390000</td>\n",
       "      <td>0.050000</td>\n",
       "      <td>0.000000</td>\n",
       "      <td>0.0</td>\n",
       "      <td>0.0</td>\n",
       "      <td>0.0</td>\n",
       "      <td>1.638163</td>\n",
       "      <td>0.349241</td>\n",
       "      <td>-0.420296</td>\n",
       "      <td>42.869007</td>\n",
       "      <td>0.143486</td>\n",
       "      <td>0.897959</td>\n",
       "      <td>0.068228</td>\n",
       "      <td>0.0</td>\n",
       "    </tr>\n",
       "    <tr>\n",
       "      <th>max</th>\n",
       "      <td>0.921114</td>\n",
       "      <td>0.530000</td>\n",
       "      <td>0.120000</td>\n",
       "      <td>0.020000</td>\n",
       "      <td>0.0</td>\n",
       "      <td>0.0</td>\n",
       "      <td>0.0</td>\n",
       "      <td>2.100976</td>\n",
       "      <td>1.488835</td>\n",
       "      <td>1.752670</td>\n",
       "      <td>93.235918</td>\n",
       "      <td>0.331745</td>\n",
       "      <td>0.979592</td>\n",
       "      <td>0.073742</td>\n",
       "      <td>0.0</td>\n",
       "    </tr>\n",
       "  </tbody>\n",
       "</table>\n",
       "</div>"
      ],
      "text/plain": [
       "           STD/Mean   Prop > 1STD   Prop > 2STD   Prop > 3STD  Prop > 4STD  \\\n",
       "count  50000.000000  50000.000000  50000.000000  50000.000000      50000.0   \n",
       "mean       0.517701      0.357402      0.029385      0.000036          0.0   \n",
       "std        0.087008      0.048813      0.022928      0.000664          0.0   \n",
       "min        0.287669      0.160000      0.000000      0.000000          0.0   \n",
       "25%        0.453076      0.320000      0.010000      0.000000          0.0   \n",
       "50%        0.508332      0.360000      0.030000      0.000000          0.0   \n",
       "75%        0.573225      0.390000      0.050000      0.000000          0.0   \n",
       "max        0.921114      0.530000      0.120000      0.020000          0.0   \n",
       "\n",
       "       Prop > 5STD  Prop > 6STD       IQR/STD          Skew      Kurtosis  \\\n",
       "count      50000.0      50000.0  50000.000000  50000.000000  50000.000000   \n",
       "mean           0.0          0.0      1.473230      0.002660     -0.656449   \n",
       "std            0.0          0.0      0.222713      0.478300      0.420811   \n",
       "min            0.0          0.0      0.620294     -1.459296     -1.579727   \n",
       "25%            0.0          0.0      1.322244     -0.344885     -0.963840   \n",
       "50%            0.0          0.0      1.490861      0.001624     -0.727286   \n",
       "75%            0.0          0.0      1.638163      0.349241     -0.420296   \n",
       "max            0.0          0.0      2.100976      1.488835      1.752670   \n",
       "\n",
       "        Reverse CCF  2nd ACF Peak          CSSD  Von Neumann Ratio     QPE?  \n",
       "count  50000.000000  50000.000000  50000.000000       50000.000000  50000.0  \n",
       "mean      -0.010212      0.090493      0.872036           0.067089      0.0  \n",
       "std       46.738005      0.070268      0.043022           0.001708      0.0  \n",
       "min      -93.790712     -0.002578      0.653061           0.052416      0.0  \n",
       "25%      -42.996061      0.024475      0.846939           0.066056      0.0  \n",
       "50%        0.001769      0.084332      0.877551           0.067165      0.0  \n",
       "75%       42.869007      0.143486      0.897959           0.068228      0.0  \n",
       "max       93.235918      0.331745      0.979592           0.073742      0.0  "
      ]
     },
     "execution_count": 3,
     "metadata": {},
     "output_type": "execute_result"
    }
   ],
   "source": [
    "no_qpe_df.describe()"
   ]
  },
  {
   "cell_type": "code",
   "execution_count": 4,
   "id": "6f6d38d4",
   "metadata": {},
   "outputs": [],
   "source": [
    "qpe_f1 = qpe_df['STD/Mean'].values\n",
    "qpe_f2 = qpe_df['Prop > 1STD'].values\n",
    "qpe_f3 = qpe_df['Prop > 2STD'].values\n",
    "qpe_f4 = qpe_df['Prop > 3STD'].values\n",
    "qpe_f5 = qpe_df['Prop > 4STD'].values\n",
    "qpe_f6 = qpe_df['Prop > 5STD'].values\n",
    "qpe_f7 = qpe_df['Prop > 6STD'].values\n",
    "qpe_f8 = qpe_df['IQR/STD'].values\n",
    "qpe_f9 = qpe_df['Skew'].values\n",
    "qpe_f10 = qpe_df['Kurtosis'].values\n",
    "qpe_f11 = qpe_df['Reverse CCF'].values\n",
    "qpe_f12 = qpe_df['2nd ACF Peak'].values\n",
    "qpe_f13 = qpe_df['CSSD'].values\n",
    "qpe_f14 = qpe_df['Von Neumann Ratio'].values"
   ]
  },
  {
   "cell_type": "code",
   "execution_count": 5,
   "id": "241dd577",
   "metadata": {},
   "outputs": [],
   "source": [
    "nqpe_f1 = no_qpe_df['STD/Mean'].values\n",
    "nqpe_f2 = no_qpe_df['Prop > 1STD'].values\n",
    "nqpe_f3 = no_qpe_df['Prop > 2STD'].values\n",
    "nqpe_f4 = no_qpe_df['Prop > 3STD'].values\n",
    "nqpe_f5 = no_qpe_df['Prop > 4STD'].values\n",
    "nqpe_f6 = no_qpe_df['Prop > 5STD'].values\n",
    "nqpe_f7 = no_qpe_df['Prop > 6STD'].values\n",
    "nqpe_f8 = no_qpe_df['IQR/STD'].values\n",
    "nqpe_f9 = no_qpe_df['Skew'].values\n",
    "nqpe_f10 = no_qpe_df['Kurtosis'].values\n",
    "nqpe_f11 = no_qpe_df['Reverse CCF'].values\n",
    "nqpe_f12 = no_qpe_df['2nd ACF Peak'].values\n",
    "nqpe_f13 = no_qpe_df['CSSD'].values\n",
    "nqpe_f14 = no_qpe_df['Von Neumann Ratio'].values"
   ]
  },
  {
   "cell_type": "code",
   "execution_count": 6,
   "id": "b8b46d96",
   "metadata": {
    "scrolled": false
   },
   "outputs": [
    {
     "data": {
      "image/png": "[encoded data removed]",
      "text/plain": [
       "<Figure size 720x432 with 1 Axes>"
      ]
     },
     "metadata": {
      "needs_background": "light"
     },
     "output_type": "display_data"
    }
   ],
   "source": [
    "plt.subplots(figsize=(10,6))\n",
    "plt.hist(qpe_f1,density=True,alpha=0.5,label='QPE',color='r')\n",
    "plt.hist(nqpe_f1,density=True,alpha=0.5,label='No QPE',color='b')\n",
    "plt.legend(loc='upper right')\n",
    "plt.title(qpe_df.columns.values[0])\n",
    "plt.show()"
   ]
  },
  {
   "cell_type": "code",
   "execution_count": 7,
   "id": "92bf5a9f",
   "metadata": {
    "scrolled": false
   },
   "outputs": [
    {
     "data": {
      "image/png": "[encoded data removed]",
      "text/plain": [
       "<Figure size 720x432 with 1 Axes>"
      ]
     },
     "metadata": {
      "needs_background": "light"
     },
     "output_type": "display_data"
    }
   ],
   "source": [
    "plt.subplots(figsize=(10,6))\n",
    "plt.hist(qpe_f2,density=True,alpha=0.5,label='QPE',color='r')\n",
    "plt.hist(nqpe_f2,density=True,alpha=0.5,label='No QPE',color='b')\n",
    "plt.legend(loc='upper right')\n",
    "plt.title(qpe_df.columns.values[1])\n",
    "plt.show()"
   ]
  },
  {
   "cell_type": "code",
   "execution_count": 8,
   "id": "f7abbd1a",
   "metadata": {
    "scrolled": false
   },
   "outputs": [
    {
     "data": {
      "image/png": "[encoded data removed]",
      "text/plain": [
       "<Figure size 720x432 with 1 Axes>"
      ]
     },
     "metadata": {
      "needs_background": "light"
     },
     "output_type": "display_data"
    }
   ],
   "source": [
    "plt.subplots(figsize=(10,6))\n",
    "plt.hist(qpe_f3,density=True,alpha=0.5,label='QPE',color='r')\n",
    "plt.hist(nqpe_f3,density=True,alpha=0.5,label='No QPE',color='b')\n",
    "plt.legend(loc='upper right')\n",
    "plt.title(qpe_df.columns.values[2])\n",
    "plt.show()"
   ]
  },
  {
   "cell_type": "code",
   "execution_count": 9,
   "id": "a9fede49",
   "metadata": {
    "scrolled": false
   },
   "outputs": [
    {
     "data": {
      "image/png": "[encoded data removed]",
      "text/plain": [
       "<Figure size 720x432 with 1 Axes>"
      ]
     },
     "metadata": {
      "needs_background": "light"
     },
     "output_type": "display_data"
    }
   ],
   "source": [
    "plt.subplots(figsize=(10,6))\n",
    "plt.hist(qpe_f4,density=True,alpha=0.5,label='QPE',color='r')\n",
    "plt.hist(nqpe_f4,density=True,alpha=0.5,label='No QPE',color='b')\n",
    "plt.legend(loc='upper right')\n",
    "plt.title(qpe_df.columns.values[3])\n",
    "plt.show()"
   ]
  },
  {
   "cell_type": "code",
   "execution_count": 10,
   "id": "91ad643f",
   "metadata": {
    "scrolled": false
   },
   "outputs": [
    {
     "data": {
      "image/png": "[encoded data removed]",
      "text/plain": [
       "<Figure size 720x432 with 1 Axes>"
      ]
     },
     "metadata": {
      "needs_background": "light"
     },
     "output_type": "display_data"
    }
   ],
   "source": [
    "plt.subplots(figsize=(10,6))\n",
    "plt.hist(qpe_f5,density=True,alpha=0.5,label='QPE',color='r')\n",
    "plt.hist(nqpe_f5,density=True,alpha=0.5,label='No QPE',color='b')\n",
    "plt.xlim(0,0.2)\n",
    "plt.legend(loc='upper right')\n",
    "plt.title(qpe_df.columns.values[4])\n",
    "plt.show()"
   ]
  },
  {
   "cell_type": "code",
   "execution_count": 11,
   "id": "6012a5c3",
   "metadata": {
    "scrolled": false
   },
   "outputs": [
    {
     "data": {
      "image/png": "[encoded data removed]",
      "text/plain": [
       "<Figure size 720x432 with 1 Axes>"
      ]
     },
     "metadata": {
      "needs_background": "light"
     },
     "output_type": "display_data"
    }
   ],
   "source": [
    "plt.subplots(figsize=(10,6))\n",
    "plt.hist(qpe_f6,density=True,alpha=0.5,label='QPE',color='r')\n",
    "plt.hist(nqpe_f6,density=True,alpha=0.5,label='No QPE',color='b')\n",
    "plt.legend(loc='upper right')\n",
    "plt.xlim(0,0.2)\n",
    "plt.title(qpe_df.columns.values[5])\n",
    "plt.show()"
   ]
  },
  {
   "cell_type": "code",
   "execution_count": 12,
   "id": "1393ce57",
   "metadata": {
    "scrolled": false
   },
   "outputs": [
    {
     "data": {
      "image/png": "[encoded data removed]",
      "text/plain": [
       "<Figure size 720x432 with 1 Axes>"
      ]
     },
     "metadata": {
      "needs_background": "light"
     },
     "output_type": "display_data"
    }
   ],
   "source": [
    "plt.subplots(figsize=(10,6))\n",
    "plt.hist(qpe_f7,density=True,alpha=0.5,label='QPE',color='r')\n",
    "plt.hist(nqpe_f7,density=True,alpha=0.5,label='No QPE',color='b')\n",
    "plt.legend(loc='upper right')\n",
    "plt.title(qpe_df.columns.values[6])\n",
    "plt.xlim(0,0.2)\n",
    "plt.show()"
   ]
  },
  {
   "cell_type": "code",
   "execution_count": 13,
   "id": "a209163a",
   "metadata": {
    "scrolled": false
   },
   "outputs": [
    {
     "data": {
      "image/png": "[encoded data removed]",
      "text/plain": [
       "<Figure size 720x432 with 1 Axes>"
      ]
     },
     "metadata": {
      "needs_background": "light"
     },
     "output_type": "display_data"
    }
   ],
   "source": [
    "plt.subplots(figsize=(10,6))\n",
    "plt.hist(qpe_f8,density=True,alpha=0.5,label='QPE',color='r')\n",
    "plt.hist(nqpe_f8,density=True,alpha=0.5,label='No QPE',color='b')\n",
    "plt.legend(loc='upper right')\n",
    "plt.title(qpe_df.columns.values[7])\n",
    "plt.show()"
   ]
  },
  {
   "cell_type": "code",
   "execution_count": 14,
   "id": "7875a6bb",
   "metadata": {
    "scrolled": false
   },
   "outputs": [
    {
     "data": {
      "image/png": "[encoded data removed]",
      "text/plain": [
       "<Figure size 720x432 with 1 Axes>"
      ]
     },
     "metadata": {
      "needs_background": "light"
     },
     "output_type": "display_data"
    }
   ],
   "source": [
    "plt.subplots(figsize=(10,6))\n",
    "plt.hist(qpe_f9,density=True,alpha=0.5,label='QPE',color='r')\n",
    "plt.hist(nqpe_f9,density=True,alpha=0.5,label='No QPE',color='b')\n",
    "plt.legend(loc='upper right')\n",
    "plt.title(qpe_df.columns.values[8])\n",
    "plt.show()"
   ]
  },
  {
   "cell_type": "code",
   "execution_count": 15,
   "id": "7a7cd6db",
   "metadata": {
    "scrolled": false
   },
   "outputs": [
    {
     "data": {
      "image/png": "[encoded data removed]",
      "text/plain": [
       "<Figure size 720x432 with 1 Axes>"
      ]
     },
     "metadata": {
      "needs_background": "light"
     },
     "output_type": "display_data"
    }
   ],
   "source": [
    "plt.subplots(figsize=(10,6))\n",
    "plt.hist(qpe_f10,density=True,alpha=0.5,label='QPE',color='r')\n",
    "plt.legend(loc='upper right')\n",
    "plt.title(qpe_df.columns.values[9])\n",
    "plt.show()"
   ]
  },
  {
   "cell_type": "code",
   "execution_count": 16,
   "id": "a48844fd",
   "metadata": {},
   "outputs": [
    {
     "data": {
      "image/png": "[encoded data removed]",
      "text/plain": [
       "<Figure size 720x432 with 1 Axes>"
      ]
     },
     "metadata": {
      "needs_background": "light"
     },
     "output_type": "display_data"
    }
   ],
   "source": [
    "plt.subplots(figsize=(10,6))\n",
    "plt.hist(nqpe_f10,density=True,alpha=0.5,label='No QPE',color='b')\n",
    "plt.legend(loc='upper right')\n",
    "plt.title(qpe_df.columns.values[9])\n",
    "plt.show()"
   ]
  },
  {
   "cell_type": "code",
   "execution_count": 17,
   "id": "9e9a6509",
   "metadata": {},
   "outputs": [
    {
     "data": {
      "image/png": "[encoded data removed]",
      "text/plain": [
       "<Figure size 720x432 with 1 Axes>"
      ]
     },
     "metadata": {
      "needs_background": "light"
     },
     "output_type": "display_data"
    }
   ],
   "source": [
    "plt.subplots(figsize=(10,6))\n",
    "plt.hist(qpe_f11,density=True,alpha=0.5,label='QPE',color='r')\n",
    "plt.hist(nqpe_f11,density=True,alpha=0.5,label='No QPE',color='b')\n",
    "plt.legend(loc='upper right')\n",
    "plt.title(qpe_df.columns.values[10])\n",
    "plt.show()"
   ]
  },
  {
   "cell_type": "code",
   "execution_count": 18,
   "id": "a19dccdc",
   "metadata": {},
   "outputs": [
    {
     "data": {
      "image/png": "[encoded data removed]",
      "text/plain": [
       "<Figure size 720x432 with 1 Axes>"
      ]
     },
     "metadata": {
      "needs_background": "light"
     },
     "output_type": "display_data"
    }
   ],
   "source": [
    "plt.subplots(figsize=(10,6))\n",
    "plt.hist(qpe_f12,density=True,alpha=0.5,label='QPE',color='r')\n",
    "plt.hist(nqpe_f12,density=True,alpha=0.5,label='No QPE',color='b')\n",
    "plt.legend(loc='upper right')\n",
    "plt.title(qpe_df.columns.values[11])\n",
    "plt.show()"
   ]
  },
  {
   "cell_type": "code",
   "execution_count": 19,
   "id": "dd93170c",
   "metadata": {},
   "outputs": [
    {
     "data": {
      "image/png": "[encoded data removed]",
      "text/plain": [
       "<Figure size 720x432 with 1 Axes>"
      ]
     },
     "metadata": {
      "needs_background": "light"
     },
     "output_type": "display_data"
    }
   ],
   "source": [
    "plt.subplots(figsize=(10,6))\n",
    "plt.hist(qpe_f13,density=True,alpha=0.5,label='QPE',color='r')\n",
    "plt.hist(nqpe_f13,density=True,alpha=0.5,label='No QPE',color='b')\n",
    "plt.legend(loc='upper right')\n",
    "plt.title(qpe_df.columns.values[12])\n",
    "plt.show()"
   ]
  },
  {
   "cell_type": "code",
   "execution_count": 20,
   "id": "60daf91e",
   "metadata": {},
   "outputs": [
    {
     "data": {
      "image/png": "[encoded data removed]",
      "text/plain": [
       "<Figure size 720x432 with 1 Axes>"
      ]
     },
     "metadata": {
      "needs_background": "light"
     },
     "output_type": "display_data"
    }
   ],
   "source": [
    "plt.subplots(figsize=(10,6))\n",
    "plt.hist(qpe_f14,bins=25,density=True,alpha=0.5,label='QPE',color='r')\n",
    "plt.legend(loc='upper right')\n",
    "plt.title(qpe_df.columns.values[13])\n",
    "plt.show()"
   ]
  },
  {
   "cell_type": "code",
   "execution_count": 21,
   "id": "c3c2ff19",
   "metadata": {},
   "outputs": [
    {
     "data": {
      "image/png": "[encoded data removed]",
      "text/plain": [
       "<Figure size 720x432 with 1 Axes>"
      ]
     },
     "metadata": {
      "needs_background": "light"
     },
     "output_type": "display_data"
    }
   ],
   "source": [
    "plt.subplots(figsize=(10,6))\n",
    "plt.hist(nqpe_f14,density=True,alpha=0.5,label='No QPE',color='b')\n",
    "plt.legend(loc='upper right')\n",
    "plt.title(qpe_df.columns.values[13])\n",
    "plt.show()"
   ]
  },
  {
   "cell_type": "code",
   "execution_count": null,
   "id": "541e43d2",
   "metadata": {},
   "outputs": [],
   "source": []
  }
 ],
 "metadata": {
  "kernelspec": {
   "display_name": "Python 3 (ipykernel)",
   "language": "python",
   "name": "python3"
  },
  "language_info": {
   "codemirror_mode": {
    "name": "ipython",
    "version": 3
   },
   "file_extension": ".py",
   "mimetype": "text/x-python",
   "name": "python",
   "nbconvert_exporter": "python",
   "pygments_lexer": "ipython3",
   "version": "3.8.13"
  }
 },
 "nbformat": 4,
 "nbformat_minor": 5
}
