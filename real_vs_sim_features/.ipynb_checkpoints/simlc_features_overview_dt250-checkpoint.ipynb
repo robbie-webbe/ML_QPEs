{
 "cells": [
  {
   "cell_type": "code",
   "execution_count": 1,
   "id": "c585f50a",
   "metadata": {},
   "outputs": [],
   "source": [
    "import pandas as pd\n",
    "import matplotlib.pyplot as plt\n",
    "\n",
    "col_names = ['STD/Mean','Prop > 1STD','Prop > 2STD','Prop > 3STD','Prop > 4STD','Prop > 5STD','Prop > 6STD','IQR/STD',\n",
    "            'Skew','Kurtosis','Reverse CCF','2nd ACF Peak','CSSD','Von Neumann Ratio','QPE?']\n",
    "qpe_df = pd.read_csv('/Users/do19150/Gits/ML_QPE/Features/qpe_feats_dt250.csv',names = col_names)\n",
    "no_qpe_df = pd.read_csv('/Users/do19150/Gits/ML_QPE/Features/no_qpe_feats_dt250.csv',names = col_names)\n"
   ]
  },
  {
   "cell_type": "code",
   "execution_count": 2,
   "id": "c8c23dd8",
   "metadata": {},
   "outputs": [
    {
     "data": {
      "text/html": [
       "<div>\n",
       "<style scoped>\n",
       "    .dataframe tbody tr th:only-of-type {\n",
       "        vertical-align: middle;\n",
       "    }\n",
       "\n",
       "    .dataframe tbody tr th {\n",
       "        vertical-align: top;\n",
       "    }\n",
       "\n",
       "    .dataframe thead th {\n",
       "        text-align: right;\n",
       "    }\n",
       "</style>\n",
       "<table border=\"1\" class=\"dataframe\">\n",
       "  <thead>\n",
       "    <tr style=\"text-align: right;\">\n",
       "      <th></th>\n",
       "      <th>STD/Mean</th>\n",
       "      <th>Prop &gt; 1STD</th>\n",
       "      <th>Prop &gt; 2STD</th>\n",
       "      <th>Prop &gt; 3STD</th>\n",
       "      <th>Prop &gt; 4STD</th>\n",
       "      <th>Prop &gt; 5STD</th>\n",
       "      <th>Prop &gt; 6STD</th>\n",
       "      <th>IQR/STD</th>\n",
       "      <th>Skew</th>\n",
       "      <th>Kurtosis</th>\n",
       "      <th>Reverse CCF</th>\n",
       "      <th>2nd ACF Peak</th>\n",
       "      <th>CSSD</th>\n",
       "      <th>Von Neumann Ratio</th>\n",
       "      <th>QPE?</th>\n",
       "    </tr>\n",
       "  </thead>\n",
       "  <tbody>\n",
       "    <tr>\n",
       "      <th>count</th>\n",
       "      <td>50000.000000</td>\n",
       "      <td>50000.000000</td>\n",
       "      <td>50000.000000</td>\n",
       "      <td>50000.000000</td>\n",
       "      <td>50000.000000</td>\n",
       "      <td>50000.000000</td>\n",
       "      <td>50000.000000</td>\n",
       "      <td>50000.000000</td>\n",
       "      <td>50000.000000</td>\n",
       "      <td>50000.000000</td>\n",
       "      <td>50000.000000</td>\n",
       "      <td>50000.000000</td>\n",
       "      <td>50000.000000</td>\n",
       "      <td>50000.000000</td>\n",
       "      <td>50000.0</td>\n",
       "    </tr>\n",
       "    <tr>\n",
       "      <th>mean</th>\n",
       "      <td>1.115361</td>\n",
       "      <td>0.141659</td>\n",
       "      <td>0.045621</td>\n",
       "      <td>0.022800</td>\n",
       "      <td>0.011892</td>\n",
       "      <td>0.006145</td>\n",
       "      <td>0.003101</td>\n",
       "      <td>0.711302</td>\n",
       "      <td>3.026873</td>\n",
       "      <td>14.633361</td>\n",
       "      <td>-0.572284</td>\n",
       "      <td>0.446846</td>\n",
       "      <td>0.905867</td>\n",
       "      <td>0.138750</td>\n",
       "      <td>1.0</td>\n",
       "    </tr>\n",
       "    <tr>\n",
       "      <th>std</th>\n",
       "      <td>0.427906</td>\n",
       "      <td>0.103630</td>\n",
       "      <td>0.019205</td>\n",
       "      <td>0.011985</td>\n",
       "      <td>0.007964</td>\n",
       "      <td>0.005769</td>\n",
       "      <td>0.004125</td>\n",
       "      <td>0.427695</td>\n",
       "      <td>1.854844</td>\n",
       "      <td>15.693556</td>\n",
       "      <td>117.437795</td>\n",
       "      <td>0.301151</td>\n",
       "      <td>0.071938</td>\n",
       "      <td>0.242101</td>\n",
       "      <td>0.0</td>\n",
       "    </tr>\n",
       "    <tr>\n",
       "      <th>min</th>\n",
       "      <td>0.278664</td>\n",
       "      <td>0.007500</td>\n",
       "      <td>0.000000</td>\n",
       "      <td>0.000000</td>\n",
       "      <td>0.000000</td>\n",
       "      <td>0.000000</td>\n",
       "      <td>0.000000</td>\n",
       "      <td>0.055399</td>\n",
       "      <td>-1.426976</td>\n",
       "      <td>-1.464534</td>\n",
       "      <td>-359.975908</td>\n",
       "      <td>-0.006192</td>\n",
       "      <td>0.113065</td>\n",
       "      <td>0.012521</td>\n",
       "      <td>1.0</td>\n",
       "    </tr>\n",
       "    <tr>\n",
       "      <th>25%</th>\n",
       "      <td>0.785579</td>\n",
       "      <td>0.070000</td>\n",
       "      <td>0.030000</td>\n",
       "      <td>0.015000</td>\n",
       "      <td>0.005000</td>\n",
       "      <td>0.000000</td>\n",
       "      <td>0.000000</td>\n",
       "      <td>0.374678</td>\n",
       "      <td>1.877138</td>\n",
       "      <td>3.642947</td>\n",
       "      <td>-66.742134</td>\n",
       "      <td>0.135864</td>\n",
       "      <td>0.894472</td>\n",
       "      <td>0.044264</td>\n",
       "      <td>1.0</td>\n",
       "    </tr>\n",
       "    <tr>\n",
       "      <th>50%</th>\n",
       "      <td>1.119726</td>\n",
       "      <td>0.107500</td>\n",
       "      <td>0.047500</td>\n",
       "      <td>0.025000</td>\n",
       "      <td>0.012500</td>\n",
       "      <td>0.005000</td>\n",
       "      <td>0.000000</td>\n",
       "      <td>0.579855</td>\n",
       "      <td>3.009033</td>\n",
       "      <td>10.366048</td>\n",
       "      <td>-24.681687</td>\n",
       "      <td>0.460375</td>\n",
       "      <td>0.922111</td>\n",
       "      <td>0.074132</td>\n",
       "      <td>1.0</td>\n",
       "    </tr>\n",
       "    <tr>\n",
       "      <th>75%</th>\n",
       "      <td>1.400653</td>\n",
       "      <td>0.170000</td>\n",
       "      <td>0.060000</td>\n",
       "      <td>0.032500</td>\n",
       "      <td>0.017500</td>\n",
       "      <td>0.012500</td>\n",
       "      <td>0.007500</td>\n",
       "      <td>0.984522</td>\n",
       "      <td>4.183131</td>\n",
       "      <td>20.820716</td>\n",
       "      <td>44.905870</td>\n",
       "      <td>0.727711</td>\n",
       "      <td>0.944724</td>\n",
       "      <td>0.131938</td>\n",
       "      <td>1.0</td>\n",
       "    </tr>\n",
       "    <tr>\n",
       "      <th>max</th>\n",
       "      <td>3.518192</td>\n",
       "      <td>0.500000</td>\n",
       "      <td>0.112500</td>\n",
       "      <td>0.052500</td>\n",
       "      <td>0.032500</td>\n",
       "      <td>0.022500</td>\n",
       "      <td>0.015000</td>\n",
       "      <td>1.995202</td>\n",
       "      <td>14.163218</td>\n",
       "      <td>236.394024</td>\n",
       "      <td>395.376637</td>\n",
       "      <td>0.992777</td>\n",
       "      <td>0.992462</td>\n",
       "      <td>3.086608</td>\n",
       "      <td>1.0</td>\n",
       "    </tr>\n",
       "  </tbody>\n",
       "</table>\n",
       "</div>"
      ],
      "text/plain": [
       "           STD/Mean   Prop > 1STD   Prop > 2STD   Prop > 3STD   Prop > 4STD  \\\n",
       "count  50000.000000  50000.000000  50000.000000  50000.000000  50000.000000   \n",
       "mean       1.115361      0.141659      0.045621      0.022800      0.011892   \n",
       "std        0.427906      0.103630      0.019205      0.011985      0.007964   \n",
       "min        0.278664      0.007500      0.000000      0.000000      0.000000   \n",
       "25%        0.785579      0.070000      0.030000      0.015000      0.005000   \n",
       "50%        1.119726      0.107500      0.047500      0.025000      0.012500   \n",
       "75%        1.400653      0.170000      0.060000      0.032500      0.017500   \n",
       "max        3.518192      0.500000      0.112500      0.052500      0.032500   \n",
       "\n",
       "        Prop > 5STD   Prop > 6STD       IQR/STD          Skew      Kurtosis  \\\n",
       "count  50000.000000  50000.000000  50000.000000  50000.000000  50000.000000   \n",
       "mean       0.006145      0.003101      0.711302      3.026873     14.633361   \n",
       "std        0.005769      0.004125      0.427695      1.854844     15.693556   \n",
       "min        0.000000      0.000000      0.055399     -1.426976     -1.464534   \n",
       "25%        0.000000      0.000000      0.374678      1.877138      3.642947   \n",
       "50%        0.005000      0.000000      0.579855      3.009033     10.366048   \n",
       "75%        0.012500      0.007500      0.984522      4.183131     20.820716   \n",
       "max        0.022500      0.015000      1.995202     14.163218    236.394024   \n",
       "\n",
       "        Reverse CCF  2nd ACF Peak          CSSD  Von Neumann Ratio     QPE?  \n",
       "count  50000.000000  50000.000000  50000.000000       50000.000000  50000.0  \n",
       "mean      -0.572284      0.446846      0.905867           0.138750      1.0  \n",
       "std      117.437795      0.301151      0.071938           0.242101      0.0  \n",
       "min     -359.975908     -0.006192      0.113065           0.012521      1.0  \n",
       "25%      -66.742134      0.135864      0.894472           0.044264      1.0  \n",
       "50%      -24.681687      0.460375      0.922111           0.074132      1.0  \n",
       "75%       44.905870      0.727711      0.944724           0.131938      1.0  \n",
       "max      395.376637      0.992777      0.992462           3.086608      1.0  "
      ]
     },
     "execution_count": 2,
     "metadata": {},
     "output_type": "execute_result"
    }
   ],
   "source": [
    "qpe_df.describe()"
   ]
  },
  {
   "cell_type": "code",
   "execution_count": 3,
   "id": "792e1ae8",
   "metadata": {},
   "outputs": [
    {
     "data": {
      "text/html": [
       "<div>\n",
       "<style scoped>\n",
       "    .dataframe tbody tr th:only-of-type {\n",
       "        vertical-align: middle;\n",
       "    }\n",
       "\n",
       "    .dataframe tbody tr th {\n",
       "        vertical-align: top;\n",
       "    }\n",
       "\n",
       "    .dataframe thead th {\n",
       "        text-align: right;\n",
       "    }\n",
       "</style>\n",
       "<table border=\"1\" class=\"dataframe\">\n",
       "  <thead>\n",
       "    <tr style=\"text-align: right;\">\n",
       "      <th></th>\n",
       "      <th>STD/Mean</th>\n",
       "      <th>Prop &gt; 1STD</th>\n",
       "      <th>Prop &gt; 2STD</th>\n",
       "      <th>Prop &gt; 3STD</th>\n",
       "      <th>Prop &gt; 4STD</th>\n",
       "      <th>Prop &gt; 5STD</th>\n",
       "      <th>Prop &gt; 6STD</th>\n",
       "      <th>IQR/STD</th>\n",
       "      <th>Skew</th>\n",
       "      <th>Kurtosis</th>\n",
       "      <th>Reverse CCF</th>\n",
       "      <th>2nd ACF Peak</th>\n",
       "      <th>CSSD</th>\n",
       "      <th>Von Neumann Ratio</th>\n",
       "      <th>QPE?</th>\n",
       "    </tr>\n",
       "  </thead>\n",
       "  <tbody>\n",
       "    <tr>\n",
       "      <th>count</th>\n",
       "      <td>50000.000000</td>\n",
       "      <td>50000.000000</td>\n",
       "      <td>50000.000000</td>\n",
       "      <td>50000.000000</td>\n",
       "      <td>50000.0</td>\n",
       "      <td>50000.0</td>\n",
       "      <td>50000.0</td>\n",
       "      <td>50000.000000</td>\n",
       "      <td>50000.000000</td>\n",
       "      <td>50000.000000</td>\n",
       "      <td>50000.000000</td>\n",
       "      <td>50000.000000</td>\n",
       "      <td>50000.000000</td>\n",
       "      <td>50000.000000</td>\n",
       "      <td>50000.0</td>\n",
       "    </tr>\n",
       "    <tr>\n",
       "      <th>mean</th>\n",
       "      <td>0.489346</td>\n",
       "      <td>0.356294</td>\n",
       "      <td>0.029957</td>\n",
       "      <td>0.000053</td>\n",
       "      <td>0.0</td>\n",
       "      <td>0.0</td>\n",
       "      <td>0.0</td>\n",
       "      <td>1.483711</td>\n",
       "      <td>0.001968</td>\n",
       "      <td>-0.642047</td>\n",
       "      <td>0.807615</td>\n",
       "      <td>0.090099</td>\n",
       "      <td>0.938892</td>\n",
       "      <td>0.015503</td>\n",
       "      <td>0.0</td>\n",
       "    </tr>\n",
       "    <tr>\n",
       "      <th>std</th>\n",
       "      <td>0.077897</td>\n",
       "      <td>0.044647</td>\n",
       "      <td>0.021103</td>\n",
       "      <td>0.000660</td>\n",
       "      <td>0.0</td>\n",
       "      <td>0.0</td>\n",
       "      <td>0.0</td>\n",
       "      <td>0.207917</td>\n",
       "      <td>0.469304</td>\n",
       "      <td>0.410743</td>\n",
       "      <td>184.741323</td>\n",
       "      <td>0.069311</td>\n",
       "      <td>0.022086</td>\n",
       "      <td>0.000528</td>\n",
       "      <td>0.0</td>\n",
       "    </tr>\n",
       "    <tr>\n",
       "      <th>min</th>\n",
       "      <td>0.288019</td>\n",
       "      <td>0.182500</td>\n",
       "      <td>0.000000</td>\n",
       "      <td>0.000000</td>\n",
       "      <td>0.0</td>\n",
       "      <td>0.0</td>\n",
       "      <td>0.0</td>\n",
       "      <td>0.742100</td>\n",
       "      <td>-1.489101</td>\n",
       "      <td>-1.516449</td>\n",
       "      <td>-364.223723</td>\n",
       "      <td>-0.000126</td>\n",
       "      <td>0.826633</td>\n",
       "      <td>0.013461</td>\n",
       "      <td>0.0</td>\n",
       "    </tr>\n",
       "    <tr>\n",
       "      <th>25%</th>\n",
       "      <td>0.431679</td>\n",
       "      <td>0.325000</td>\n",
       "      <td>0.012500</td>\n",
       "      <td>0.000000</td>\n",
       "      <td>0.0</td>\n",
       "      <td>0.0</td>\n",
       "      <td>0.0</td>\n",
       "      <td>1.345241</td>\n",
       "      <td>-0.335634</td>\n",
       "      <td>-0.941212</td>\n",
       "      <td>-168.701621</td>\n",
       "      <td>0.025281</td>\n",
       "      <td>0.924623</td>\n",
       "      <td>0.015143</td>\n",
       "      <td>0.0</td>\n",
       "    </tr>\n",
       "    <tr>\n",
       "      <th>50%</th>\n",
       "      <td>0.481617</td>\n",
       "      <td>0.357500</td>\n",
       "      <td>0.027500</td>\n",
       "      <td>0.000000</td>\n",
       "      <td>0.0</td>\n",
       "      <td>0.0</td>\n",
       "      <td>0.0</td>\n",
       "      <td>1.500793</td>\n",
       "      <td>-0.002388</td>\n",
       "      <td>-0.713078</td>\n",
       "      <td>0.983289</td>\n",
       "      <td>0.084035</td>\n",
       "      <td>0.942211</td>\n",
       "      <td>0.015496</td>\n",
       "      <td>0.0</td>\n",
       "    </tr>\n",
       "    <tr>\n",
       "      <th>75%</th>\n",
       "      <td>0.538853</td>\n",
       "      <td>0.387500</td>\n",
       "      <td>0.045000</td>\n",
       "      <td>0.000000</td>\n",
       "      <td>0.0</td>\n",
       "      <td>0.0</td>\n",
       "      <td>0.0</td>\n",
       "      <td>1.638721</td>\n",
       "      <td>0.341163</td>\n",
       "      <td>-0.414379</td>\n",
       "      <td>170.431780</td>\n",
       "      <td>0.142407</td>\n",
       "      <td>0.954774</td>\n",
       "      <td>0.015856</td>\n",
       "      <td>0.0</td>\n",
       "    </tr>\n",
       "    <tr>\n",
       "      <th>max</th>\n",
       "      <td>0.827059</td>\n",
       "      <td>0.522500</td>\n",
       "      <td>0.107500</td>\n",
       "      <td>0.020000</td>\n",
       "      <td>0.0</td>\n",
       "      <td>0.0</td>\n",
       "      <td>0.0</td>\n",
       "      <td>2.027030</td>\n",
       "      <td>1.457609</td>\n",
       "      <td>1.792666</td>\n",
       "      <td>366.107804</td>\n",
       "      <td>0.319827</td>\n",
       "      <td>0.994975</td>\n",
       "      <td>0.017755</td>\n",
       "      <td>0.0</td>\n",
       "    </tr>\n",
       "  </tbody>\n",
       "</table>\n",
       "</div>"
      ],
      "text/plain": [
       "           STD/Mean   Prop > 1STD   Prop > 2STD   Prop > 3STD  Prop > 4STD  \\\n",
       "count  50000.000000  50000.000000  50000.000000  50000.000000      50000.0   \n",
       "mean       0.489346      0.356294      0.029957      0.000053          0.0   \n",
       "std        0.077897      0.044647      0.021103      0.000660          0.0   \n",
       "min        0.288019      0.182500      0.000000      0.000000          0.0   \n",
       "25%        0.431679      0.325000      0.012500      0.000000          0.0   \n",
       "50%        0.481617      0.357500      0.027500      0.000000          0.0   \n",
       "75%        0.538853      0.387500      0.045000      0.000000          0.0   \n",
       "max        0.827059      0.522500      0.107500      0.020000          0.0   \n",
       "\n",
       "       Prop > 5STD  Prop > 6STD       IQR/STD          Skew      Kurtosis  \\\n",
       "count      50000.0      50000.0  50000.000000  50000.000000  50000.000000   \n",
       "mean           0.0          0.0      1.483711      0.001968     -0.642047   \n",
       "std            0.0          0.0      0.207917      0.469304      0.410743   \n",
       "min            0.0          0.0      0.742100     -1.489101     -1.516449   \n",
       "25%            0.0          0.0      1.345241     -0.335634     -0.941212   \n",
       "50%            0.0          0.0      1.500793     -0.002388     -0.713078   \n",
       "75%            0.0          0.0      1.638721      0.341163     -0.414379   \n",
       "max            0.0          0.0      2.027030      1.457609      1.792666   \n",
       "\n",
       "        Reverse CCF  2nd ACF Peak          CSSD  Von Neumann Ratio     QPE?  \n",
       "count  50000.000000  50000.000000  50000.000000       50000.000000  50000.0  \n",
       "mean       0.807615      0.090099      0.938892           0.015503      0.0  \n",
       "std      184.741323      0.069311      0.022086           0.000528      0.0  \n",
       "min     -364.223723     -0.000126      0.826633           0.013461      0.0  \n",
       "25%     -168.701621      0.025281      0.924623           0.015143      0.0  \n",
       "50%        0.983289      0.084035      0.942211           0.015496      0.0  \n",
       "75%      170.431780      0.142407      0.954774           0.015856      0.0  \n",
       "max      366.107804      0.319827      0.994975           0.017755      0.0  "
      ]
     },
     "execution_count": 3,
     "metadata": {},
     "output_type": "execute_result"
    }
   ],
   "source": [
    "no_qpe_df.describe()"
   ]
  },
  {
   "cell_type": "code",
   "execution_count": 4,
   "id": "6f6d38d4",
   "metadata": {},
   "outputs": [],
   "source": [
    "qpe_f1 = qpe_df['STD/Mean'].values\n",
    "qpe_f2 = qpe_df['Prop > 1STD'].values\n",
    "qpe_f3 = qpe_df['Prop > 2STD'].values\n",
    "qpe_f4 = qpe_df['Prop > 3STD'].values\n",
    "qpe_f5 = qpe_df['Prop > 4STD'].values\n",
    "qpe_f6 = qpe_df['Prop > 5STD'].values\n",
    "qpe_f7 = qpe_df['Prop > 6STD'].values\n",
    "qpe_f8 = qpe_df['IQR/STD'].values\n",
    "qpe_f9 = qpe_df['Skew'].values\n",
    "qpe_f10 = qpe_df['Kurtosis'].values\n",
    "qpe_f11 = qpe_df['Reverse CCF'].values\n",
    "qpe_f12 = qpe_df['2nd ACF Peak'].values\n",
    "qpe_f13 = qpe_df['CSSD'].values\n",
    "qpe_f14 = qpe_df['Von Neumann Ratio'].values"
   ]
  },
  {
   "cell_type": "code",
   "execution_count": 5,
   "id": "241dd577",
   "metadata": {},
   "outputs": [],
   "source": [
    "nqpe_f1 = no_qpe_df['STD/Mean'].values\n",
    "nqpe_f2 = no_qpe_df['Prop > 1STD'].values\n",
    "nqpe_f3 = no_qpe_df['Prop > 2STD'].values\n",
    "nqpe_f4 = no_qpe_df['Prop > 3STD'].values\n",
    "nqpe_f5 = no_qpe_df['Prop > 4STD'].values\n",
    "nqpe_f6 = no_qpe_df['Prop > 5STD'].values\n",
    "nqpe_f7 = no_qpe_df['Prop > 6STD'].values\n",
    "nqpe_f8 = no_qpe_df['IQR/STD'].values\n",
    "nqpe_f9 = no_qpe_df['Skew'].values\n",
    "nqpe_f10 = no_qpe_df['Kurtosis'].values\n",
    "nqpe_f11 = no_qpe_df['Reverse CCF'].values\n",
    "nqpe_f12 = no_qpe_df['2nd ACF Peak'].values\n",
    "nqpe_f13 = no_qpe_df['CSSD'].values\n",
    "nqpe_f14 = no_qpe_df['Von Neumann Ratio'].values"
   ]
  },
  {
   "cell_type": "code",
   "execution_count": 6,
   "id": "b8b46d96",
   "metadata": {
    "scrolled": false
   },
   "outputs": [
    {
     "data": {
      "image/png": "[encoded data removed]",
      "text/plain": [
       "<Figure size 720x432 with 1 Axes>"
      ]
     },
     "metadata": {
      "needs_background": "light"
     },
     "output_type": "display_data"
    }
   ],
   "source": [
    "plt.subplots(figsize=(10,6))\n",
    "plt.hist(qpe_f1,density=True,alpha=0.5,label='QPE',color='r')\n",
    "plt.hist(nqpe_f1,density=True,alpha=0.5,label='No QPE',color='b')\n",
    "plt.legend(loc='upper right')\n",
    "plt.title(qpe_df.columns.values[0])\n",
    "plt.show()"
   ]
  },
  {
   "cell_type": "code",
   "execution_count": 7,
   "id": "92bf5a9f",
   "metadata": {
    "scrolled": false
   },
   "outputs": [
    {
     "data": {
      "image/png": "[encoded data removed]",
      "text/plain": [
       "<Figure size 720x432 with 1 Axes>"
      ]
     },
     "metadata": {
      "needs_background": "light"
     },
     "output_type": "display_data"
    }
   ],
   "source": [
    "plt.subplots(figsize=(10,6))\n",
    "plt.hist(qpe_f2,density=True,alpha=0.5,label='QPE',color='r')\n",
    "plt.hist(nqpe_f2,density=True,alpha=0.5,label='No QPE',color='b')\n",
    "plt.legend(loc='upper right')\n",
    "plt.title(qpe_df.columns.values[1])\n",
    "plt.show()"
   ]
  },
  {
   "cell_type": "code",
   "execution_count": 8,
   "id": "f7abbd1a",
   "metadata": {
    "scrolled": false
   },
   "outputs": [
    {
     "data": {
      "image/png": "[encoded data removed]",
      "text/plain": [
       "<Figure size 720x432 with 1 Axes>"
      ]
     },
     "metadata": {
      "needs_background": "light"
     },
     "output_type": "display_data"
    }
   ],
   "source": [
    "plt.subplots(figsize=(10,6))\n",
    "plt.hist(qpe_f3,density=True,alpha=0.5,label='QPE',color='r')\n",
    "plt.hist(nqpe_f3,density=True,alpha=0.5,label='No QPE',color='b')\n",
    "plt.legend(loc='upper right')\n",
    "plt.title(qpe_df.columns.values[2])\n",
    "plt.show()"
   ]
  },
  {
   "cell_type": "code",
   "execution_count": 9,
   "id": "a9fede49",
   "metadata": {
    "scrolled": false
   },
   "outputs": [
    {
     "data": {
      "image/png": "[encoded data removed]",
      "text/plain": [
       "<Figure size 720x432 with 1 Axes>"
      ]
     },
     "metadata": {
      "needs_background": "light"
     },
     "output_type": "display_data"
    }
   ],
   "source": [
    "plt.subplots(figsize=(10,6))\n",
    "plt.hist(qpe_f4,density=True,alpha=0.5,label='QPE',color='r')\n",
    "plt.hist(nqpe_f4,density=True,alpha=0.5,label='No QPE',color='b')\n",
    "plt.legend(loc='upper right')\n",
    "plt.title(qpe_df.columns.values[3])\n",
    "plt.show()"
   ]
  },
  {
   "cell_type": "code",
   "execution_count": 10,
   "id": "91ad643f",
   "metadata": {
    "scrolled": false
   },
   "outputs": [
    {
     "data": {
      "image/png": "[encoded data removed]",
      "text/plain": [
       "<Figure size 720x432 with 1 Axes>"
      ]
     },
     "metadata": {
      "needs_background": "light"
     },
     "output_type": "display_data"
    }
   ],
   "source": [
    "plt.subplots(figsize=(10,6))\n",
    "plt.hist(qpe_f5,density=True,alpha=0.5,label='QPE',color='r')\n",
    "plt.hist(nqpe_f5,density=True,alpha=0.5,label='No QPE',color='b')\n",
    "plt.xlim(0,0.2)\n",
    "plt.legend(loc='upper right')\n",
    "plt.title(qpe_df.columns.values[4])\n",
    "plt.show()"
   ]
  },
  {
   "cell_type": "code",
   "execution_count": 11,
   "id": "6012a5c3",
   "metadata": {
    "scrolled": false
   },
   "outputs": [
    {
     "data": {
      "image/png": "[encoded data removed]",
      "text/plain": [
       "<Figure size 720x432 with 1 Axes>"
      ]
     },
     "metadata": {
      "needs_background": "light"
     },
     "output_type": "display_data"
    }
   ],
   "source": [
    "plt.subplots(figsize=(10,6))\n",
    "plt.hist(qpe_f6,density=True,alpha=0.5,label='QPE',color='r')\n",
    "plt.hist(nqpe_f6,density=True,alpha=0.5,label='No QPE',color='b')\n",
    "plt.legend(loc='upper right')\n",
    "plt.xlim(0,0.2)\n",
    "plt.title(qpe_df.columns.values[5])\n",
    "plt.show()"
   ]
  },
  {
   "cell_type": "code",
   "execution_count": 12,
   "id": "1393ce57",
   "metadata": {
    "scrolled": false
   },
   "outputs": [
    {
     "data": {
      "image/png": "[encoded data removed]",
      "text/plain": [
       "<Figure size 720x432 with 1 Axes>"
      ]
     },
     "metadata": {
      "needs_background": "light"
     },
     "output_type": "display_data"
    }
   ],
   "source": [
    "plt.subplots(figsize=(10,6))\n",
    "plt.hist(qpe_f7,density=True,alpha=0.5,label='QPE',color='r')\n",
    "plt.hist(nqpe_f7,density=True,alpha=0.5,label='No QPE',color='b')\n",
    "plt.legend(loc='upper right')\n",
    "plt.title(qpe_df.columns.values[6])\n",
    "plt.xlim(0,0.2)\n",
    "plt.show()"
   ]
  },
  {
   "cell_type": "code",
   "execution_count": 13,
   "id": "a209163a",
   "metadata": {
    "scrolled": false
   },
   "outputs": [
    {
     "data": {
      "image/png": "[encoded data removed]",
      "text/plain": [
       "<Figure size 720x432 with 1 Axes>"
      ]
     },
     "metadata": {
      "needs_background": "light"
     },
     "output_type": "display_data"
    }
   ],
   "source": [
    "plt.subplots(figsize=(10,6))\n",
    "plt.hist(qpe_f8,density=True,alpha=0.5,label='QPE',color='r')\n",
    "plt.hist(nqpe_f8,density=True,alpha=0.5,label='No QPE',color='b')\n",
    "plt.legend(loc='upper right')\n",
    "plt.title(qpe_df.columns.values[7])\n",
    "plt.show()"
   ]
  },
  {
   "cell_type": "code",
   "execution_count": 14,
   "id": "7875a6bb",
   "metadata": {
    "scrolled": false
   },
   "outputs": [
    {
     "data": {
      "image/png": "[encoded data removed]",
      "text/plain": [
       "<Figure size 720x432 with 1 Axes>"
      ]
     },
     "metadata": {
      "needs_background": "light"
     },
     "output_type": "display_data"
    }
   ],
   "source": [
    "plt.subplots(figsize=(10,6))\n",
    "plt.hist(qpe_f9,density=True,alpha=0.5,label='QPE',color='r')\n",
    "plt.hist(nqpe_f9,density=True,alpha=0.5,label='No QPE',color='b')\n",
    "plt.legend(loc='upper right')\n",
    "plt.title(qpe_df.columns.values[8])\n",
    "plt.show()"
   ]
  },
  {
   "cell_type": "code",
   "execution_count": 15,
   "id": "7a7cd6db",
   "metadata": {
    "scrolled": false
   },
   "outputs": [
    {
     "data": {
      "image/png": "[encoded data removed]",
      "text/plain": [
       "<Figure size 720x432 with 1 Axes>"
      ]
     },
     "metadata": {
      "needs_background": "light"
     },
     "output_type": "display_data"
    }
   ],
   "source": [
    "plt.subplots(figsize=(10,6))\n",
    "plt.hist(qpe_f10,density=True,alpha=0.5,label='QPE',color='r')\n",
    "plt.legend(loc='upper right')\n",
    "plt.title(qpe_df.columns.values[9])\n",
    "plt.show()"
   ]
  },
  {
   "cell_type": "code",
   "execution_count": 16,
   "id": "a48844fd",
   "metadata": {},
   "outputs": [
    {
     "data": {
      "image/png": "[encoded data removed]",
      "text/plain": [
       "<Figure size 720x432 with 1 Axes>"
      ]
     },
     "metadata": {
      "needs_background": "light"
     },
     "output_type": "display_data"
    }
   ],
   "source": [
    "plt.subplots(figsize=(10,6))\n",
    "plt.hist(nqpe_f10,density=True,alpha=0.5,label='No QPE',color='b')\n",
    "plt.legend(loc='upper right')\n",
    "plt.title(qpe_df.columns.values[9])\n",
    "plt.show()"
   ]
  },
  {
   "cell_type": "code",
   "execution_count": 17,
   "id": "9e9a6509",
   "metadata": {},
   "outputs": [
    {
     "data": {
      "image/png": "[encoded data removed]",
      "text/plain": [
       "<Figure size 720x432 with 1 Axes>"
      ]
     },
     "metadata": {
      "needs_background": "light"
     },
     "output_type": "display_data"
    }
   ],
   "source": [
    "plt.subplots(figsize=(10,6))\n",
    "plt.hist(qpe_f11,density=True,alpha=0.5,label='QPE',color='r')\n",
    "plt.hist(nqpe_f11,density=True,alpha=0.5,label='No QPE',color='b')\n",
    "plt.legend(loc='upper right')\n",
    "plt.title(qpe_df.columns.values[10])\n",
    "plt.show()"
   ]
  },
  {
   "cell_type": "code",
   "execution_count": 18,
   "id": "a19dccdc",
   "metadata": {},
   "outputs": [
    {
     "data": {
      "image/png": "[encoded data removed]",
      "text/plain": [
       "<Figure size 720x432 with 1 Axes>"
      ]
     },
     "metadata": {
      "needs_background": "light"
     },
     "output_type": "display_data"
    }
   ],
   "source": [
    "plt.subplots(figsize=(10,6))\n",
    "plt.hist(qpe_f12,density=True,alpha=0.5,label='QPE',color='r')\n",
    "plt.hist(nqpe_f12,density=True,alpha=0.5,label='No QPE',color='b')\n",
    "plt.legend(loc='upper right')\n",
    "plt.title(qpe_df.columns.values[11])\n",
    "plt.show()"
   ]
  },
  {
   "cell_type": "code",
   "execution_count": 19,
   "id": "dd93170c",
   "metadata": {},
   "outputs": [
    {
     "data": {
      "image/png": "[encoded data removed]",
      "text/plain": [
       "<Figure size 720x432 with 1 Axes>"
      ]
     },
     "metadata": {
      "needs_background": "light"
     },
     "output_type": "display_data"
    }
   ],
   "source": [
    "plt.subplots(figsize=(10,6))\n",
    "plt.hist(qpe_f13,density=True,alpha=0.5,label='QPE',color='r')\n",
    "plt.hist(nqpe_f13,density=True,alpha=0.5,label='No QPE',color='b')\n",
    "plt.legend(loc='upper right')\n",
    "plt.title(qpe_df.columns.values[12])\n",
    "plt.show()"
   ]
  },
  {
   "cell_type": "code",
   "execution_count": 20,
   "id": "60daf91e",
   "metadata": {},
   "outputs": [
    {
     "data": {
      "image/png": "[encoded data removed]",
      "text/plain": [
       "<Figure size 720x432 with 1 Axes>"
      ]
     },
     "metadata": {
      "needs_background": "light"
     },
     "output_type": "display_data"
    }
   ],
   "source": [
    "plt.subplots(figsize=(10,6))\n",
    "plt.hist(qpe_f14,bins=25,density=True,alpha=0.5,label='QPE',color='r')\n",
    "plt.legend(loc='upper right')\n",
    "plt.title(qpe_df.columns.values[13])\n",
    "plt.show()"
   ]
  },
  {
   "cell_type": "code",
   "execution_count": 21,
   "id": "c3c2ff19",
   "metadata": {},
   "outputs": [
    {
     "data": {
      "image/png": "[encoded data removed]",
      "text/plain": [
       "<Figure size 720x432 with 1 Axes>"
      ]
     },
     "metadata": {
      "needs_background": "light"
     },
     "output_type": "display_data"
    }
   ],
   "source": [
    "plt.subplots(figsize=(10,6))\n",
    "plt.hist(nqpe_f14,density=True,alpha=0.5,label='No QPE',color='b')\n",
    "plt.legend(loc='upper right')\n",
    "plt.title(qpe_df.columns.values[13])\n",
    "plt.show()"
   ]
  },
  {
   "cell_type": "code",
   "execution_count": null,
   "id": "541e43d2",
   "metadata": {},
   "outputs": [],
   "source": []
  }
 ],
 "metadata": {
  "kernelspec": {
   "display_name": "Python 3 (ipykernel)",
   "language": "python",
   "name": "python3"
  },
  "language_info": {
   "codemirror_mode": {
    "name": "ipython",
    "version": 3
   },
   "file_extension": ".py",
   "mimetype": "text/x-python",
   "name": "python",
   "nbconvert_exporter": "python",
   "pygments_lexer": "ipython3",
   "version": "3.8.13"
  }
 },
 "nbformat": 4,
 "nbformat_minor": 5
}
